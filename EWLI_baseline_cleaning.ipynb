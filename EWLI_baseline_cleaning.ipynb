{
 "cells": [
  {
   "cell_type": "code",
   "execution_count": 1,
   "metadata": {},
   "outputs": [],
   "source": [
    "import pandas as pd\n",
    "import numpy as np"
   ]
  },
  {
   "cell_type": "code",
   "execution_count": 2,
   "metadata": {},
   "outputs": [],
   "source": [
    "df=pd.read_excel('EWLI_RawData.xlsx')"
   ]
  },
  {
   "cell_type": "code",
   "execution_count": 3,
   "metadata": {
    "scrolled": true
   },
   "outputs": [
    {
     "name": "stdout",
     "output_type": "stream",
     "text": [
      "<class 'pandas.core.frame.DataFrame'>\n",
      "RangeIndex: 11260 entries, 0 to 11259\n",
      "Columns: 460 entries, start to _submitted_by\n",
      "dtypes: bool(39), datetime64[ns](3), float64(199), int64(37), object(182)\n",
      "memory usage: 36.6+ MB\n"
     ]
    }
   ],
   "source": [
    "df.info()"
   ]
  },
  {
   "cell_type": "markdown",
   "metadata": {},
   "source": [
    "##### 1. Basics"
   ]
  },
  {
   "cell_type": "code",
   "execution_count": 4,
   "metadata": {},
   "outputs": [],
   "source": [
    "#slice basics section from main dataframe\n",
    "df_basics = df.loc[:, 'start':'a_hh']"
   ]
  },
  {
   "cell_type": "code",
   "execution_count": 5,
   "metadata": {},
   "outputs": [
    {
     "name": "stdout",
     "output_type": "stream",
     "text": [
      "<class 'pandas.core.frame.DataFrame'>\n",
      "RangeIndex: 11260 entries, 0 to 11259\n",
      "Data columns (total 34 columns):\n",
      "start                 11260 non-null object\n",
      "end                   11260 non-null object\n",
      "today                 11260 non-null datetime64[ns]\n",
      "Intro                 0 non-null float64\n",
      "City                  11260 non-null object\n",
      "Enumerator            11260 non-null object\n",
      "enumj_id              0 non-null float64\n",
      "loc_herat             11260 non-null object\n",
      "loc_jbad              0 non-null float64\n",
      "a_basics/a01          11260 non-null object\n",
      "a_basics/a02          11260 non-null object\n",
      "a_basics/a03          11260 non-null object\n",
      "a_basics/a03_other    48 non-null object\n",
      "b_hh/b01a             11260 non-null int64\n",
      "b_hh/b01b             11260 non-null int64\n",
      "b02a                  11260 non-null int64\n",
      "b02b                  11260 non-null int64\n",
      "b03a                  11260 non-null int64\n",
      "/b03b                 11260 non-null int64\n",
      "b04a                  11260 non-null int64\n",
      "b04b                  11260 non-null int64\n",
      "b05a                  11260 non-null int64\n",
      "b05b                  11260 non-null int64\n",
      "b06a                  11204 non-null float64\n",
      "b06b                  11260 non-null int64\n",
      "hh_male               11260 non-null int64\n",
      "hh_female             11260 non-null int64\n",
      "hh_total              11260 non-null int64\n",
      "hh_eligbilefem        11260 non-null int64\n",
      "hh_girls              11260 non-null int64\n",
      "hh_boys               11260 non-null int64\n",
      "hh_lit_female         11260 non-null int64\n",
      "hh_lit_male           11260 non-null int64\n",
      "a_hh                  9908 non-null object\n",
      "dtypes: datetime64[ns](1), float64(4), int64(19), object(10)\n",
      "memory usage: 2.9+ MB\n"
     ]
    }
   ],
   "source": [
    "df_basics.info()"
   ]
  },
  {
   "cell_type": "code",
   "execution_count": 6,
   "metadata": {},
   "outputs": [],
   "source": [
    "# dropping empty columns\n",
    "df_basics.drop(['Intro', 'enumj_id', 'loc_jbad', 'a_basics/a03_other', 'a_hh'], axis=1, inplace = True)"
   ]
  },
  {
   "cell_type": "code",
   "execution_count": 7,
   "metadata": {},
   "outputs": [
    {
     "data": {
      "text/plain": [
       "56"
      ]
     },
     "execution_count": 7,
     "metadata": {},
     "output_type": "execute_result"
    }
   ],
   "source": [
    "df_basics['b06a'].isnull().sum()"
   ]
  },
  {
   "cell_type": "code",
   "execution_count": 8,
   "metadata": {
    "scrolled": false
   },
   "outputs": [
    {
     "data": {
      "text/html": [
       "<div>\n",
       "<style scoped>\n",
       "    .dataframe tbody tr th:only-of-type {\n",
       "        vertical-align: middle;\n",
       "    }\n",
       "\n",
       "    .dataframe tbody tr th {\n",
       "        vertical-align: top;\n",
       "    }\n",
       "\n",
       "    .dataframe thead th {\n",
       "        text-align: right;\n",
       "    }\n",
       "</style>\n",
       "<table border=\"1\" class=\"dataframe\">\n",
       "  <thead>\n",
       "    <tr style=\"text-align: right;\">\n",
       "      <th></th>\n",
       "      <th>b03a</th>\n",
       "      <th>b04a</th>\n",
       "      <th>b06a</th>\n",
       "    </tr>\n",
       "  </thead>\n",
       "  <tbody>\n",
       "    <tr>\n",
       "      <th>75</th>\n",
       "      <td>0</td>\n",
       "      <td>0</td>\n",
       "      <td>NaN</td>\n",
       "    </tr>\n",
       "    <tr>\n",
       "      <th>288</th>\n",
       "      <td>2</td>\n",
       "      <td>4</td>\n",
       "      <td>NaN</td>\n",
       "    </tr>\n",
       "    <tr>\n",
       "      <th>543</th>\n",
       "      <td>0</td>\n",
       "      <td>1</td>\n",
       "      <td>NaN</td>\n",
       "    </tr>\n",
       "    <tr>\n",
       "      <th>2238</th>\n",
       "      <td>2</td>\n",
       "      <td>1</td>\n",
       "      <td>NaN</td>\n",
       "    </tr>\n",
       "    <tr>\n",
       "      <th>2390</th>\n",
       "      <td>0</td>\n",
       "      <td>1</td>\n",
       "      <td>NaN</td>\n",
       "    </tr>\n",
       "    <tr>\n",
       "      <th>2949</th>\n",
       "      <td>0</td>\n",
       "      <td>1</td>\n",
       "      <td>NaN</td>\n",
       "    </tr>\n",
       "    <tr>\n",
       "      <th>3307</th>\n",
       "      <td>0</td>\n",
       "      <td>0</td>\n",
       "      <td>NaN</td>\n",
       "    </tr>\n",
       "    <tr>\n",
       "      <th>3313</th>\n",
       "      <td>0</td>\n",
       "      <td>2</td>\n",
       "      <td>NaN</td>\n",
       "    </tr>\n",
       "    <tr>\n",
       "      <th>3357</th>\n",
       "      <td>2</td>\n",
       "      <td>1</td>\n",
       "      <td>NaN</td>\n",
       "    </tr>\n",
       "    <tr>\n",
       "      <th>4118</th>\n",
       "      <td>0</td>\n",
       "      <td>1</td>\n",
       "      <td>NaN</td>\n",
       "    </tr>\n",
       "    <tr>\n",
       "      <th>4189</th>\n",
       "      <td>2</td>\n",
       "      <td>1</td>\n",
       "      <td>NaN</td>\n",
       "    </tr>\n",
       "    <tr>\n",
       "      <th>4263</th>\n",
       "      <td>1</td>\n",
       "      <td>1</td>\n",
       "      <td>NaN</td>\n",
       "    </tr>\n",
       "    <tr>\n",
       "      <th>4275</th>\n",
       "      <td>0</td>\n",
       "      <td>1</td>\n",
       "      <td>NaN</td>\n",
       "    </tr>\n",
       "    <tr>\n",
       "      <th>4374</th>\n",
       "      <td>2</td>\n",
       "      <td>1</td>\n",
       "      <td>NaN</td>\n",
       "    </tr>\n",
       "    <tr>\n",
       "      <th>4691</th>\n",
       "      <td>1</td>\n",
       "      <td>1</td>\n",
       "      <td>NaN</td>\n",
       "    </tr>\n",
       "    <tr>\n",
       "      <th>4696</th>\n",
       "      <td>1</td>\n",
       "      <td>2</td>\n",
       "      <td>NaN</td>\n",
       "    </tr>\n",
       "    <tr>\n",
       "      <th>4702</th>\n",
       "      <td>0</td>\n",
       "      <td>1</td>\n",
       "      <td>NaN</td>\n",
       "    </tr>\n",
       "    <tr>\n",
       "      <th>5149</th>\n",
       "      <td>0</td>\n",
       "      <td>1</td>\n",
       "      <td>NaN</td>\n",
       "    </tr>\n",
       "    <tr>\n",
       "      <th>5155</th>\n",
       "      <td>1</td>\n",
       "      <td>1</td>\n",
       "      <td>NaN</td>\n",
       "    </tr>\n",
       "    <tr>\n",
       "      <th>5157</th>\n",
       "      <td>2</td>\n",
       "      <td>1</td>\n",
       "      <td>NaN</td>\n",
       "    </tr>\n",
       "    <tr>\n",
       "      <th>5158</th>\n",
       "      <td>2</td>\n",
       "      <td>1</td>\n",
       "      <td>NaN</td>\n",
       "    </tr>\n",
       "    <tr>\n",
       "      <th>5160</th>\n",
       "      <td>0</td>\n",
       "      <td>1</td>\n",
       "      <td>NaN</td>\n",
       "    </tr>\n",
       "    <tr>\n",
       "      <th>5330</th>\n",
       "      <td>1</td>\n",
       "      <td>3</td>\n",
       "      <td>NaN</td>\n",
       "    </tr>\n",
       "    <tr>\n",
       "      <th>5336</th>\n",
       "      <td>0</td>\n",
       "      <td>1</td>\n",
       "      <td>NaN</td>\n",
       "    </tr>\n",
       "    <tr>\n",
       "      <th>5338</th>\n",
       "      <td>0</td>\n",
       "      <td>1</td>\n",
       "      <td>NaN</td>\n",
       "    </tr>\n",
       "    <tr>\n",
       "      <th>5340</th>\n",
       "      <td>0</td>\n",
       "      <td>5</td>\n",
       "      <td>NaN</td>\n",
       "    </tr>\n",
       "    <tr>\n",
       "      <th>5766</th>\n",
       "      <td>3</td>\n",
       "      <td>1</td>\n",
       "      <td>NaN</td>\n",
       "    </tr>\n",
       "    <tr>\n",
       "      <th>5797</th>\n",
       "      <td>0</td>\n",
       "      <td>3</td>\n",
       "      <td>NaN</td>\n",
       "    </tr>\n",
       "    <tr>\n",
       "      <th>5947</th>\n",
       "      <td>0</td>\n",
       "      <td>4</td>\n",
       "      <td>NaN</td>\n",
       "    </tr>\n",
       "    <tr>\n",
       "      <th>5983</th>\n",
       "      <td>1</td>\n",
       "      <td>2</td>\n",
       "      <td>NaN</td>\n",
       "    </tr>\n",
       "    <tr>\n",
       "      <th>6374</th>\n",
       "      <td>1</td>\n",
       "      <td>3</td>\n",
       "      <td>NaN</td>\n",
       "    </tr>\n",
       "    <tr>\n",
       "      <th>6706</th>\n",
       "      <td>0</td>\n",
       "      <td>1</td>\n",
       "      <td>NaN</td>\n",
       "    </tr>\n",
       "    <tr>\n",
       "      <th>6732</th>\n",
       "      <td>0</td>\n",
       "      <td>1</td>\n",
       "      <td>NaN</td>\n",
       "    </tr>\n",
       "    <tr>\n",
       "      <th>6739</th>\n",
       "      <td>0</td>\n",
       "      <td>2</td>\n",
       "      <td>NaN</td>\n",
       "    </tr>\n",
       "    <tr>\n",
       "      <th>6806</th>\n",
       "      <td>1</td>\n",
       "      <td>1</td>\n",
       "      <td>NaN</td>\n",
       "    </tr>\n",
       "    <tr>\n",
       "      <th>6909</th>\n",
       "      <td>1</td>\n",
       "      <td>1</td>\n",
       "      <td>NaN</td>\n",
       "    </tr>\n",
       "    <tr>\n",
       "      <th>6978</th>\n",
       "      <td>1</td>\n",
       "      <td>1</td>\n",
       "      <td>NaN</td>\n",
       "    </tr>\n",
       "    <tr>\n",
       "      <th>7436</th>\n",
       "      <td>0</td>\n",
       "      <td>1</td>\n",
       "      <td>NaN</td>\n",
       "    </tr>\n",
       "    <tr>\n",
       "      <th>7931</th>\n",
       "      <td>1</td>\n",
       "      <td>1</td>\n",
       "      <td>NaN</td>\n",
       "    </tr>\n",
       "    <tr>\n",
       "      <th>8001</th>\n",
       "      <td>0</td>\n",
       "      <td>1</td>\n",
       "      <td>NaN</td>\n",
       "    </tr>\n",
       "    <tr>\n",
       "      <th>8341</th>\n",
       "      <td>2</td>\n",
       "      <td>2</td>\n",
       "      <td>NaN</td>\n",
       "    </tr>\n",
       "    <tr>\n",
       "      <th>8847</th>\n",
       "      <td>2</td>\n",
       "      <td>1</td>\n",
       "      <td>NaN</td>\n",
       "    </tr>\n",
       "    <tr>\n",
       "      <th>8857</th>\n",
       "      <td>0</td>\n",
       "      <td>2</td>\n",
       "      <td>NaN</td>\n",
       "    </tr>\n",
       "    <tr>\n",
       "      <th>8866</th>\n",
       "      <td>0</td>\n",
       "      <td>2</td>\n",
       "      <td>NaN</td>\n",
       "    </tr>\n",
       "    <tr>\n",
       "      <th>9081</th>\n",
       "      <td>0</td>\n",
       "      <td>1</td>\n",
       "      <td>NaN</td>\n",
       "    </tr>\n",
       "    <tr>\n",
       "      <th>9082</th>\n",
       "      <td>0</td>\n",
       "      <td>2</td>\n",
       "      <td>NaN</td>\n",
       "    </tr>\n",
       "    <tr>\n",
       "      <th>9083</th>\n",
       "      <td>0</td>\n",
       "      <td>1</td>\n",
       "      <td>NaN</td>\n",
       "    </tr>\n",
       "    <tr>\n",
       "      <th>9617</th>\n",
       "      <td>0</td>\n",
       "      <td>2</td>\n",
       "      <td>NaN</td>\n",
       "    </tr>\n",
       "    <tr>\n",
       "      <th>9644</th>\n",
       "      <td>0</td>\n",
       "      <td>1</td>\n",
       "      <td>NaN</td>\n",
       "    </tr>\n",
       "    <tr>\n",
       "      <th>9848</th>\n",
       "      <td>0</td>\n",
       "      <td>3</td>\n",
       "      <td>NaN</td>\n",
       "    </tr>\n",
       "    <tr>\n",
       "      <th>9894</th>\n",
       "      <td>1</td>\n",
       "      <td>1</td>\n",
       "      <td>NaN</td>\n",
       "    </tr>\n",
       "    <tr>\n",
       "      <th>9900</th>\n",
       "      <td>0</td>\n",
       "      <td>1</td>\n",
       "      <td>NaN</td>\n",
       "    </tr>\n",
       "    <tr>\n",
       "      <th>10020</th>\n",
       "      <td>1</td>\n",
       "      <td>2</td>\n",
       "      <td>NaN</td>\n",
       "    </tr>\n",
       "    <tr>\n",
       "      <th>10417</th>\n",
       "      <td>1</td>\n",
       "      <td>1</td>\n",
       "      <td>NaN</td>\n",
       "    </tr>\n",
       "    <tr>\n",
       "      <th>11104</th>\n",
       "      <td>0</td>\n",
       "      <td>1</td>\n",
       "      <td>NaN</td>\n",
       "    </tr>\n",
       "    <tr>\n",
       "      <th>11153</th>\n",
       "      <td>3</td>\n",
       "      <td>1</td>\n",
       "      <td>NaN</td>\n",
       "    </tr>\n",
       "  </tbody>\n",
       "</table>\n",
       "</div>"
      ],
      "text/plain": [
       "       b03a  b04a  b06a\n",
       "75        0     0   NaN\n",
       "288       2     4   NaN\n",
       "543       0     1   NaN\n",
       "2238      2     1   NaN\n",
       "2390      0     1   NaN\n",
       "2949      0     1   NaN\n",
       "3307      0     0   NaN\n",
       "3313      0     2   NaN\n",
       "3357      2     1   NaN\n",
       "4118      0     1   NaN\n",
       "4189      2     1   NaN\n",
       "4263      1     1   NaN\n",
       "4275      0     1   NaN\n",
       "4374      2     1   NaN\n",
       "4691      1     1   NaN\n",
       "4696      1     2   NaN\n",
       "4702      0     1   NaN\n",
       "5149      0     1   NaN\n",
       "5155      1     1   NaN\n",
       "5157      2     1   NaN\n",
       "5158      2     1   NaN\n",
       "5160      0     1   NaN\n",
       "5330      1     3   NaN\n",
       "5336      0     1   NaN\n",
       "5338      0     1   NaN\n",
       "5340      0     5   NaN\n",
       "5766      3     1   NaN\n",
       "5797      0     3   NaN\n",
       "5947      0     4   NaN\n",
       "5983      1     2   NaN\n",
       "6374      1     3   NaN\n",
       "6706      0     1   NaN\n",
       "6732      0     1   NaN\n",
       "6739      0     2   NaN\n",
       "6806      1     1   NaN\n",
       "6909      1     1   NaN\n",
       "6978      1     1   NaN\n",
       "7436      0     1   NaN\n",
       "7931      1     1   NaN\n",
       "8001      0     1   NaN\n",
       "8341      2     2   NaN\n",
       "8847      2     1   NaN\n",
       "8857      0     2   NaN\n",
       "8866      0     2   NaN\n",
       "9081      0     1   NaN\n",
       "9082      0     2   NaN\n",
       "9083      0     1   NaN\n",
       "9617      0     2   NaN\n",
       "9644      0     1   NaN\n",
       "9848      0     3   NaN\n",
       "9894      1     1   NaN\n",
       "9900      0     1   NaN\n",
       "10020     1     2   NaN\n",
       "10417     1     1   NaN\n",
       "11104     0     1   NaN\n",
       "11153     3     1   NaN"
      ]
     },
     "execution_count": 8,
     "metadata": {},
     "output_type": "execute_result"
    }
   ],
   "source": [
    "df_basics[df_basics['b06a'].isnull()][['b03a', 'b04a', 'b06a']]"
   ]
  },
  {
   "cell_type": "code",
   "execution_count": 9,
   "metadata": {},
   "outputs": [],
   "source": [
    "# filling NaN values from b06a column with values from b03a column\n",
    "df_basics.b06a.fillna(df_basics.b03a, inplace=True)"
   ]
  },
  {
   "cell_type": "code",
   "execution_count": 10,
   "metadata": {},
   "outputs": [],
   "source": [
    "#converting b06a column from float to int\n",
    "df_basics.b06a = df_basics.b06a.astype('int64')"
   ]
  },
  {
   "cell_type": "code",
   "execution_count": 11,
   "metadata": {},
   "outputs": [],
   "source": [
    "# drop columns 'start', 'end', 'today', don't need them for future analysis\n",
    "df_basics.drop(['start', 'end', 'today'], axis = 1, inplace = True)"
   ]
  },
  {
   "cell_type": "code",
   "execution_count": 12,
   "metadata": {},
   "outputs": [
    {
     "name": "stdout",
     "output_type": "stream",
     "text": [
      "<class 'pandas.core.frame.DataFrame'>\n",
      "RangeIndex: 11260 entries, 0 to 11259\n",
      "Data columns (total 26 columns):\n",
      "City              11260 non-null object\n",
      "Enumerator        11260 non-null object\n",
      "loc_herat         11260 non-null object\n",
      "a_basics/a01      11260 non-null object\n",
      "a_basics/a02      11260 non-null object\n",
      "a_basics/a03      11260 non-null object\n",
      "b_hh/b01a         11260 non-null int64\n",
      "b_hh/b01b         11260 non-null int64\n",
      "b02a              11260 non-null int64\n",
      "b02b              11260 non-null int64\n",
      "b03a              11260 non-null int64\n",
      "/b03b             11260 non-null int64\n",
      "b04a              11260 non-null int64\n",
      "b04b              11260 non-null int64\n",
      "b05a              11260 non-null int64\n",
      "b05b              11260 non-null int64\n",
      "b06a              11260 non-null int64\n",
      "b06b              11260 non-null int64\n",
      "hh_male           11260 non-null int64\n",
      "hh_female         11260 non-null int64\n",
      "hh_total          11260 non-null int64\n",
      "hh_eligbilefem    11260 non-null int64\n",
      "hh_girls          11260 non-null int64\n",
      "hh_boys           11260 non-null int64\n",
      "hh_lit_female     11260 non-null int64\n",
      "hh_lit_male       11260 non-null int64\n",
      "dtypes: int64(20), object(6)\n",
      "memory usage: 2.2+ MB\n"
     ]
    }
   ],
   "source": [
    "df_basics.info()"
   ]
  },
  {
   "cell_type": "code",
   "execution_count": 13,
   "metadata": {},
   "outputs": [
    {
     "name": "stdout",
     "output_type": "stream",
     "text": [
      "City ['herat', 'jalalabad']\n",
      "Enumerator ['samira', 'zeinab', 'sakine', 'zohra', 'basira', 'faisal', 'zabihullah', 'sima', 'qasem', 'parza', 'jafar', 'somaya', 'fazladdin', 'masandra', 'bilal ahmad', 'adel khan', 'khangul', 'adela hashmi', 'latifa', 'samiullah', 'nagina', 'farhad', 'bushra', 'jamil', 'arezu', 'najla', 'enum1', 'enum3']\n",
      "loc_herat ['herat_01', 'herat_02', 'herat_03', 'herat_04', 'herat_05', 'herat_06', 'herat_07', 'herat_08', 'herat_09', 'jbad_01', 'jbad_02', 'herat_10', 'jbad_03', 'herat_11', 'jbad_04', 'herat_12', 'herat_13', 'herat_14', 'jbad_05', 'herat_15', 'jbad_06', 'herat_16', 'herat_17', 'herat_18', 'jbad_07', 'jbad_08', 'jbad_09', 'herat_19', 'herat_20', 'jbad_10', 'jbad_11', 'herat_21', 'jbad_12', 'jbad_13', 'herat_26', 'herat_22', 'herat_23', 'herat_25', 'herat_24', 'herat_27', 'jbad_14', 'jbad_15', 'jbad_16', 'herat_29', 'herat_28', 'jbad_17', 'herat_30', 'herat_31', 'jbad_18', 'herat_32', 'herat_33', 'jbad_19', 'herat_34', 'herat_35', 'jbad_20', 'herat_36', 'herat_37', 'jbad_21', 'herat_38', 'herat_40', 'herat_39', 'jbad_22', 'jbad_23', 'jbad_24', 'jbad_25', 'jbad_27', 'jbad_26', 'jbad_30', 'jbad_28', 'jbad_29', 'jbad_31', 'jbad_32', 'jbad_33', 'jbad_34', 'jbad_35', 'jbad_36', 'jbad_37', 'jbad_38', 'jbad_39', 'jbad_40']\n",
      "a_basics/a01 ['male', 'female']\n",
      "a_basics/a02 ['married living with spouse', 'widow', 'engaged', 'not married', 'married not living with spouse', 'divorced']\n",
      "a_basics/a03 ['tajik', 'hazara', 'pashtun', 'arab', 'uzbeck', 'baloch', 'turkmen', 'other']\n",
      "b_hh/b01a [0, 1, 2, 5, 4, 10, 3, 8, 6, 11, 7, 22, 12, 33, 32, 13, 21, 23, 34, 30, 17, 15, 41, 20]\n",
      "b_hh/b01b [0, 1, 2, 3, 4, 6, 8, 5, 9, 18, 7, 10, 13]\n",
      "b02a [0, 2, 1, 3, 4, 5, 7, 6, 8, 9, 10]\n",
      "b02b [0, 1, 2, 9, 4, 3, 8, 7, 5, 6, 25, 14, 11]\n",
      "b03a [1, 0, 2, 3, 4, 5, 8, 6, 7, 11]\n",
      "/b03b [2, 0, 4, 1, 3, 5, 8, 6, 20, 10, 7, 9]\n",
      "b04a [2, 3, 7, 4, 1, 0, 8, 5, 6, 10, 32, 9, 13, 17, 11]\n",
      "b04b [2, 1, 5, 4, 3, 0, 6, 7, 8, 9, 11, 10]\n",
      "b05a [0, 1, 2, 6, 3, 8, 5, 4, 7]\n",
      "b05b [0, 1, 3, 2, 8, 4, 7]\n",
      "b06a [2, 3, 4, 0, 1, 5, 6, 7, 10, 22, 8, 30, 9]\n",
      "b06b [3, 0, 5, 1, 2, 4, 7, 6, 8, 11, 22, 10]\n",
      "hh_male [4, 2, 10, 5, 3, 11, 7, 0, 6, 1, 8, 12, 13, 9, 17, 14, 20, 15, 22, 16, 18, 52, 34, 19, 23, 35, 21, 36, 24, 27, 25]\n",
      "hh_female [3, 7, 5, 4, 2, 6, 1, 10, 13, 0, 12, 8, 16, 18, 9, 11, 34, 14, 15, 19, 17, 20, 26, 24, 39, 36, 28, 30, 33, 41, 21, 25, 35, 37, 40, 49, 48, 22, 23, 32, 31]\n",
      "hh_total [7, 5, 17, 9, 8, 6, 10, 15, 11, 4, 2, 12, 13, 25, 16, 3, 1, 14, 22, 26, 28, 18, 20, 19, 0, 21, 35, 24, 27, 32, 23, 39, 33, 29, 30, 31, 34, 76, 47, 37, 42, 36, 45, 49, 43, 53, 38, 41, 57, 65, 55, 60, 46, 50, 48, 44]\n",
      "hh_eligbilefem [3, 7, 4, 2, 1, 6, 5, 0, 9, 10, 8, 33, 11, 13, 12, 20, 15, 14, 16]\n",
      "hh_girls [1, 0, 2, 3, 4, 5, 7, 6, 9, 8, 10, 11, 15, 13, 18, 12, 17]\n",
      "hh_boys [2, 0, 4, 1, 10, 3, 8, 5, 6, 7, 9, 14, 12, 25, 11, 15, 20, 13, 16]\n",
      "hh_lit_female [3, 7, 5, 4, 2, 1, 6, 0, 9, 10, 8, 33, 11, 12, 13, 14, 20, 16, 15, 17]\n",
      "hh_lit_male [4, 2, 10, 3, 1, 5, 6, 0, 7, 8, 9, 12, 14, 11, 25, 13, 15, 21]\n"
     ]
    }
   ],
   "source": [
    "#checking that everything looks good\n",
    "for column in df_basics.columns:\n",
    "    print(column, df_basics[column].unique().tolist())"
   ]
  },
  {
   "cell_type": "code",
   "execution_count": 14,
   "metadata": {},
   "outputs": [],
   "source": [
    "df_basics['Enumerator'] = df_basics['Enumerator'].str.replace(' ', '_')"
   ]
  },
  {
   "cell_type": "markdown",
   "metadata": {},
   "source": [
    "##### 2. Origin"
   ]
  },
  {
   "cell_type": "code",
   "execution_count": 15,
   "metadata": {},
   "outputs": [],
   "source": [
    "#slice origin section from main dataframe\n",
    "df_origin = df.loc[:, 'c_origin/c01':'c_origin/c06_other']"
   ]
  },
  {
   "cell_type": "code",
   "execution_count": 16,
   "metadata": {},
   "outputs": [
    {
     "name": "stdout",
     "output_type": "stream",
     "text": [
      "<class 'pandas.core.frame.DataFrame'>\n",
      "RangeIndex: 11260 entries, 0 to 11259\n",
      "Data columns (total 44 columns):\n",
      "c_origin/c01                     11260 non-null object\n",
      "c_origin/c01aa                   7330 non-null object\n",
      "c_origin/c01ab                   430 non-null object\n",
      "c_origin/c01ab_other             1 non-null object\n",
      "c_origin/c01ac                   436 non-null object\n",
      "c_origin/c01ac_other             13 non-null object\n",
      "c_origin/c02pre                  10321 non-null object\n",
      "c_origin/c02pre_other            53 non-null object\n",
      "c_origin/c02                     10142 non-null object\n",
      "c_origin/c03                     10085 non-null object\n",
      "c_origin/c03a                    10101 non-null object\n",
      "c_origin/c03c                    3881 non-null object\n",
      "c_origin/c03c_other              44 non-null object\n",
      "c_origin/c01agroup/c01a          2543 non-null object\n",
      "c_origin/c01agroup/c01atime      3909 non-null datetime64[ns]\n",
      "c_origin/c01bgroup/c01b          2524 non-null object\n",
      "c_origin/c01bgroup/c01btime      3909 non-null datetime64[ns]\n",
      "c_origin/c01c                    10400 non-null object\n",
      "c_origin/c01c/pull_close         10400 non-null float64\n",
      "c_origin/c01c/pull_safe          10400 non-null float64\n",
      "c_origin/c01c/pull_relatives     10400 non-null float64\n",
      "c_origin/c01c/pull_jobs          10400 non-null float64\n",
      "c_origin/c01c/pull_education     10400 non-null float64\n",
      "c_origin/c01c/pull_health        10400 non-null float64\n",
      "c_origin/c01c/pull_assistance    10400 non-null float64\n",
      "c_origin/c01c/pull_leader        10400 non-null float64\n",
      "c_origin/c01c/pull_gov           10400 non-null float64\n",
      "c_origin/c01c/other              10400 non-null float64\n",
      "c_origin/c01c_other              181 non-null object\n",
      "c_origin/c02a                    10739 non-null object\n",
      "c_origin/c02b                    484 non-null object\n",
      "c_origin/c03b                    475 non-null object\n",
      "c_origin/c04                     10755 non-null object\n",
      "c_origin/c05                     6833 non-null object\n",
      "c_origin/c05_other               20 non-null object\n",
      "c_origin/c06                     137 non-null object\n",
      "c_origin/c06/why_insecurity      137 non-null float64\n",
      "c_origin/c06/why_persecution     137 non-null float64\n",
      "c_origin/c06/why_livelihoods     137 non-null float64\n",
      "c_origin/c06/why_shelter         137 non-null float64\n",
      "c_origin/c06/why_land            137 non-null float64\n",
      "c_origin/c06/why_services        137 non-null float64\n",
      "c_origin/c06/other               137 non-null float64\n",
      "c_origin/c06_other               5 non-null object\n",
      "dtypes: datetime64[ns](2), float64(17), object(25)\n",
      "memory usage: 3.8+ MB\n"
     ]
    }
   ],
   "source": [
    "df_origin.info()"
   ]
  },
  {
   "cell_type": "code",
   "execution_count": 17,
   "metadata": {},
   "outputs": [],
   "source": [
    "# dropping columns not identified in baseline_questionnaire \n",
    "columns_identified = ['c_origin/c01', 'c_origin/c02', 'c_origin/c03', 'c_origin/c03a', 'c_origin/c01agroup/c01a', 'c_origin/c01agroup/c01atime', 'c_origin/c01bgroup/c01b', 'c_origin/c01bgroup/c01btime', 'c_origin/c01c', 'c_origin/c02a', 'c_origin/c02b', 'c_origin/c03b', 'c_origin/c04']\n",
    "# creating df_origin_cleaned\n",
    "df_origin = df_origin[columns_identified]"
   ]
  },
  {
   "cell_type": "code",
   "execution_count": 18,
   "metadata": {},
   "outputs": [
    {
     "data": {
      "text/html": [
       "<div>\n",
       "<style scoped>\n",
       "    .dataframe tbody tr th:only-of-type {\n",
       "        vertical-align: middle;\n",
       "    }\n",
       "\n",
       "    .dataframe tbody tr th {\n",
       "        vertical-align: top;\n",
       "    }\n",
       "\n",
       "    .dataframe thead th {\n",
       "        text-align: right;\n",
       "    }\n",
       "</style>\n",
       "<table border=\"1\" class=\"dataframe\">\n",
       "  <thead>\n",
       "    <tr style=\"text-align: right;\">\n",
       "      <th></th>\n",
       "      <th>c_origin/c01</th>\n",
       "      <th>c_origin/c02</th>\n",
       "      <th>c_origin/c03</th>\n",
       "      <th>c_origin/c03a</th>\n",
       "      <th>c_origin/c01agroup/c01a</th>\n",
       "      <th>c_origin/c01agroup/c01atime</th>\n",
       "      <th>c_origin/c01bgroup/c01b</th>\n",
       "      <th>c_origin/c01bgroup/c01btime</th>\n",
       "      <th>c_origin/c01c</th>\n",
       "      <th>c_origin/c02a</th>\n",
       "      <th>c_origin/c02b</th>\n",
       "      <th>c_origin/c03b</th>\n",
       "      <th>c_origin/c04</th>\n",
       "    </tr>\n",
       "  </thead>\n",
       "  <tbody>\n",
       "    <tr>\n",
       "      <th>0</th>\n",
       "      <td>yes</td>\n",
       "      <td>herat</td>\n",
       "      <td>enjil</td>\n",
       "      <td>yndk_y</td>\n",
       "      <td>NaN</td>\n",
       "      <td>NaT</td>\n",
       "      <td>NaN</td>\n",
       "      <td>NaT</td>\n",
       "      <td>pull_relatives</td>\n",
       "      <td>no</td>\n",
       "      <td>NaN</td>\n",
       "      <td>NaN</td>\n",
       "      <td>yes</td>\n",
       "    </tr>\n",
       "    <tr>\n",
       "      <th>1</th>\n",
       "      <td>yes</td>\n",
       "      <td>herat</td>\n",
       "      <td>enjil</td>\n",
       "      <td>yndk_y</td>\n",
       "      <td>NaN</td>\n",
       "      <td>NaT</td>\n",
       "      <td>NaN</td>\n",
       "      <td>NaT</td>\n",
       "      <td>pull_relatives</td>\n",
       "      <td>no</td>\n",
       "      <td>NaN</td>\n",
       "      <td>NaN</td>\n",
       "      <td>no</td>\n",
       "    </tr>\n",
       "    <tr>\n",
       "      <th>2</th>\n",
       "      <td>yes</td>\n",
       "      <td>herat</td>\n",
       "      <td>enjil</td>\n",
       "      <td>yndk_y</td>\n",
       "      <td>NaN</td>\n",
       "      <td>NaT</td>\n",
       "      <td>NaN</td>\n",
       "      <td>NaT</td>\n",
       "      <td>NaN</td>\n",
       "      <td>no</td>\n",
       "      <td>NaN</td>\n",
       "      <td>NaN</td>\n",
       "      <td>no</td>\n",
       "    </tr>\n",
       "    <tr>\n",
       "      <th>3</th>\n",
       "      <td>yes</td>\n",
       "      <td>herat</td>\n",
       "      <td>zendahjan</td>\n",
       "      <td>yndk_y</td>\n",
       "      <td>NaN</td>\n",
       "      <td>NaT</td>\n",
       "      <td>NaN</td>\n",
       "      <td>NaT</td>\n",
       "      <td>NaN</td>\n",
       "      <td>no</td>\n",
       "      <td>NaN</td>\n",
       "      <td>NaN</td>\n",
       "      <td>no</td>\n",
       "    </tr>\n",
       "    <tr>\n",
       "      <th>4</th>\n",
       "      <td>yes</td>\n",
       "      <td>herat</td>\n",
       "      <td>enjil</td>\n",
       "      <td>yndk_y</td>\n",
       "      <td>NaN</td>\n",
       "      <td>NaT</td>\n",
       "      <td>NaN</td>\n",
       "      <td>NaT</td>\n",
       "      <td>NaN</td>\n",
       "      <td>no</td>\n",
       "      <td>NaN</td>\n",
       "      <td>NaN</td>\n",
       "      <td>no</td>\n",
       "    </tr>\n",
       "  </tbody>\n",
       "</table>\n",
       "</div>"
      ],
      "text/plain": [
       "  c_origin/c01 c_origin/c02 c_origin/c03 c_origin/c03a  \\\n",
       "0          yes        herat        enjil        yndk_y   \n",
       "1          yes        herat        enjil        yndk_y   \n",
       "2          yes        herat        enjil        yndk_y   \n",
       "3          yes        herat    zendahjan        yndk_y   \n",
       "4          yes        herat        enjil        yndk_y   \n",
       "\n",
       "  c_origin/c01agroup/c01a c_origin/c01agroup/c01atime c_origin/c01bgroup/c01b  \\\n",
       "0                     NaN                         NaT                     NaN   \n",
       "1                     NaN                         NaT                     NaN   \n",
       "2                     NaN                         NaT                     NaN   \n",
       "3                     NaN                         NaT                     NaN   \n",
       "4                     NaN                         NaT                     NaN   \n",
       "\n",
       "  c_origin/c01bgroup/c01btime   c_origin/c01c c_origin/c02a c_origin/c02b  \\\n",
       "0                         NaT  pull_relatives            no           NaN   \n",
       "1                         NaT  pull_relatives            no           NaN   \n",
       "2                         NaT             NaN            no           NaN   \n",
       "3                         NaT             NaN            no           NaN   \n",
       "4                         NaT             NaN            no           NaN   \n",
       "\n",
       "  c_origin/c03b c_origin/c04  \n",
       "0           NaN          yes  \n",
       "1           NaN           no  \n",
       "2           NaN           no  \n",
       "3           NaN           no  \n",
       "4           NaN           no  "
      ]
     },
     "execution_count": 18,
     "metadata": {},
     "output_type": "execute_result"
    }
   ],
   "source": [
    "df_origin.head()"
   ]
  },
  {
   "cell_type": "code",
   "execution_count": 19,
   "metadata": {},
   "outputs": [],
   "source": [
    "# change NaN values to 'no_inf' \n",
    "cols_to_change = ['c_origin/c01', 'c_origin/c02', 'c_origin/c03', 'c_origin/c03a', 'c_origin/c01c', 'c_origin/c02a', 'c_origin/c02b', 'c_origin/c03b', 'c_origin/c04']\n",
    "df_origin.loc[:, cols_to_change] = df_origin[cols_to_change].fillna('no_inf')"
   ]
  },
  {
   "cell_type": "code",
   "execution_count": 20,
   "metadata": {
    "scrolled": true
   },
   "outputs": [],
   "source": [
    "# calculating some of NaN values from 'c_origin/c01agroup/c01a' for which 'c_origin/c01agroup/c01atime' is not NaN\n",
    "df_origin['today'] = df['today']\n",
    "\n",
    "chunk_dt = df_origin.loc[(df_origin['c_origin/c01agroup/c01atime'].notnull())&(df_origin['c_origin/c01agroup/c01a'].isnull()),['c_origin/c01agroup/c01atime', 'today']]\n",
    "\n",
    "chunk_dt['res'] = (chunk_dt['today'] - chunk_dt['c_origin/c01agroup/c01atime'])/np.timedelta64(1,'Y')\n",
    "\n",
    "df_origin.loc[(df_origin['c_origin/c01agroup/c01atime'].notnull())&(df_origin['c_origin/c01agroup/c01a'].isnull()),['c_origin/c01agroup/c01a']] = chunk_dt['res']"
   ]
  },
  {
   "cell_type": "code",
   "execution_count": 21,
   "metadata": {},
   "outputs": [],
   "source": [
    "def to_loc(x):\n",
    "    if not isinstance(x,np.float): return x\n",
    "    if np.isnan(x): return x\n",
    "    \n",
    "    if x < 1: return 'loc_1'\n",
    "    if x > 3: return 'loc_3'\n",
    "    else: return 'loc_1-3'\n",
    "    return x\n",
    "df_origin['c_origin/c01agroup/c01a'] = df_origin['c_origin/c01agroup/c01a'].apply(to_loc)"
   ]
  },
  {
   "cell_type": "code",
   "execution_count": 22,
   "metadata": {
    "scrolled": false
   },
   "outputs": [],
   "source": [
    "# dropping columns with dates \n",
    "df_origin.drop(['c_origin/c01agroup/c01atime', 'c_origin/c01bgroup/c01btime', 'today'], axis = 1, inplace = True)"
   ]
  },
  {
   "cell_type": "code",
   "execution_count": 23,
   "metadata": {
    "scrolled": false
   },
   "outputs": [],
   "source": [
    "# fill the rest of NaN values with 'no_inf' \n",
    "df_origin.fillna('no_inf', inplace = True)"
   ]
  },
  {
   "cell_type": "code",
   "execution_count": 24,
   "metadata": {},
   "outputs": [
    {
     "data": {
      "text/plain": [
       "0"
      ]
     },
     "execution_count": 24,
     "metadata": {},
     "output_type": "execute_result"
    }
   ],
   "source": [
    "df_origin.isnull().any().sum()"
   ]
  },
  {
   "cell_type": "code",
   "execution_count": 25,
   "metadata": {},
   "outputs": [],
   "source": [
    "#df_origin.rename(columns={'c_origin/c01': 'C01. Is your family originally from this city?', 'c_origin/c02': 'C02. Which province are you from?', 'c_origin/c03': 'C03. Which district in C02?', 'c_origin/c03a': 'C03a. Do you still have family members living in C03?', 'c_origin/c01agroup/c01a': 'C01a. When did you displace from your place of origin?', 'c_origin/c01bgroup/c01b': 'C01b. Since when are you living in the present location?', 'c_origin/c01c': 'C01c. What were the main reasons for choosing to settle in city?', 'c_origin/c02a': 'C02a. Have you been living in another district/province other than your place of origin before you came to city?', 'c_origin/c02b': 'C02b. In which province have you lived before you came to city?', 'c_origin/c03b': 'C03b. Which district in C02b?', 'c_origin/c04': 'C04. Have you lived abroad before moving to city?'}, inplace = True)"
   ]
  },
  {
   "cell_type": "code",
   "execution_count": 26,
   "metadata": {},
   "outputs": [
    {
     "name": "stdout",
     "output_type": "stream",
     "text": [
      "<class 'pandas.core.frame.DataFrame'>\n",
      "RangeIndex: 11260 entries, 0 to 11259\n",
      "Data columns (total 11 columns):\n",
      "c_origin/c01               11260 non-null object\n",
      "c_origin/c02               11260 non-null object\n",
      "c_origin/c03               11260 non-null object\n",
      "c_origin/c03a              11260 non-null object\n",
      "c_origin/c01agroup/c01a    11260 non-null object\n",
      "c_origin/c01bgroup/c01b    11260 non-null object\n",
      "c_origin/c01c              11260 non-null object\n",
      "c_origin/c02a              11260 non-null object\n",
      "c_origin/c02b              11260 non-null object\n",
      "c_origin/c03b              11260 non-null object\n",
      "c_origin/c04               11260 non-null object\n",
      "dtypes: object(11)\n",
      "memory usage: 967.7+ KB\n"
     ]
    }
   ],
   "source": [
    "# cleaned\n",
    "df_origin.info()"
   ]
  },
  {
   "cell_type": "code",
   "execution_count": 27,
   "metadata": {},
   "outputs": [
    {
     "name": "stdout",
     "output_type": "stream",
     "text": [
      "c_origin/c01 ['yes', 'no']\n",
      "c_origin/c02 ['herat', 'badghis', 'no_inf', 'farah', 'paktya', 'kandahar', 'faryab', 'kabul', 'sar-i-pul', 'kunduz', 'ghazni', 'nimroz', 'helmand', 'jawzjan', 'baghlan', 'laghman', 'bamyan', 'badakhshan', 'balkh', 'paktika', 'kunar', 'ghor', 'panjsher', 'parwan', 'nangarhar', 'nooristan', 'zabul', 'logar', 'khost', 'wardak', 'daykundi', 'urozgan', 'samangan', 'kapisa', 'takhar']\n",
      "c_origin/c03 ['enjil', 'zendahjan', 'badghiscenter', 'no_inf', 'guzera', 'heratcenter', 'shindand', 'karrukh', 'farahcenter', 'obe', 'ghoryan', 'kushk', 'pashtunzarghun', 'murghab', 'paktyacenter', 'samkani', 'arghistan', 'kohistan', 'paghman', 'kushkekuhna', 'chaharasyab', 'estalef', 'anardara', 'kohsan', 'qadis', 'qaisar', 'pushtrud', 'kabulcenter', 'kandaharcenter', 'bilchiragh', 'ghorak', 'gulran', 'shahwalikot', 'kohistanat', 'khanabad', 'ajristan', 'maiwand', 'khasdhrif', 'helmandcenter', 'adraskan', 'khak-e-safed', 'nawzad', 'fersi', 'faizabad', 'baghlancenter', 'alishing', 'bamyancenter', 'shahribuyurg', 'purchaman', 'pashtunkot', 'chishtisharif', 'dand', 'abkamari', 'ghaznicenter', 'gulistan', 'shakardara', 'abband', 'almar', 'balkhcenter', 'jaghuri', 'paktikacenter', 'mirbachakot', 'nimrozcenter', 'ghazi', 'dehsabz', 'alingar', 'farza', 'nahrishahi', 'tulak', 'jawand', 'panshercenter', 'zari', 'qala-e-kah', 'jabulussaraj', 'bakwa', 'chimtal', 'batikor', 'muqur', 'andkhoy', 'ghormach', 'bargimatal', 'aliabad', 'shahjoi', 'logarcenter', 'shibkoh', 'kama', 'dawlatshah', 'surkhrud', 'dehbala', 'chaparhar', 'khugyani', 'hesarak', 'qarghayee', 'laghmancenter', 'daraenoor', 'goshta', 'rodat', 'nangarharcenter', 'jaji', 'kuzkunar', 'pachirwagam', 'lajamangel', 'chapadara', 'behsud', 'lalpoor', 'noorgal', 'kunar', 'shinwar', 'sherzad', 'khwajasabzposh', 'bagrami', 'tirzayee', 'kot', 'yakawlang', 'jaghatu', 'mumanddara', 'khaskunar', 'shebar', 'saripulcenter', 'watapoor', 'sayyidabad', 'ahmadaba', 'parwancenter', 'narangwabadil', 'barakibarak', 'matakhan', 'gelan', 'khwajaomari', 'guldara', 'mohammadagha', 'kharwar', 'chinarto', 'jalrez', 'qarabagh', 'lash-e-juwayn', 'faryab center', 'sawkai', 'mandol', 'duleena', 'kalakan', 'ghorcenter', 'tagab', 'daraepech', 'nazyan', 'achin', 'azra', 'kapisacenter', 'shigalwasheltan', 'wuzazadran', 'sarkani', 'surubi', 'waygal', 'nari', 'khakejabar', 'kahmard', 'baghlan-e-jadeed', 'pasaband', 'charbolak', 'barkunar', 'dangam', 'nawa', 'waras', 'balkhdis', 'sirkhiparsa', 'abshar', 'charburjak', 'jawzjancenter', 'sayyidkhel', 'musaqala', 'hazratiimamsahib', 'farkhar', 'arghandab', 'marmul', 'balabuluk', 'durbala', 'marawara', 'kamdesh', 'hissaeawal', 'zurmat', 'kunduzcenter', 'nawur', 'panjab', 'dawlatyar', 'lalwasarjangal', 'malistan', 'walimshahid', 'wardakcenter', 'giro', 'takhatpul', 'sang-e-takht', 'baghran', 'daykundicenter', 'khasurozgan', 'kejran', 'khedir', 'saighan', 'gizab', 'shahidhassas', 'ishterlai', 'markazebehsund', 'chakewardak', 'hissaeawali', 'chahardarah', 'shahristan', 'daraesoofepayin', 'gosfandi', 'nerkh', 'hissaeawalibehsud', 'dehraoud', 'nijrab', 'dehdadi', 'charkh', 'talawabarfak', 'jaghtu', 'dashtearchi', 'garmser', 'janikhel', 'aslechakhansur', 'badpash', 'dushi']\n",
      "c_origin/c03a ['yndk_y', 'no_inf', 'yndk_n', 'yndk_dk']\n",
      "c_origin/c01agroup/c01a ['no_inf', 'loc_1', 'loc_3', 'loc_1-3']\n",
      "c_origin/c01bgroup/c01b ['no_inf', 'loc_1-3', 'loc_3', 'loc_1']\n",
      "c_origin/c01c ['pull_relatives', 'no_inf', 'pull_jobs pull_education pull_health', 'pull_jobs', 'other', 'pull_jobs pull_education', 'pull_close', 'pull_education pull_health', 'pull_safe pull_jobs pull_education', 'pull_safe pull_relatives pull_jobs pull_education pull_health', 'pull_safe pull_jobs pull_education pull_leader', 'pull_safe pull_jobs pull_education pull_health', 'pull_safe pull_relatives pull_education pull_health', 'pull_relatives pull_jobs', 'pull_safe pull_jobs', 'pull_education', 'pull_safe pull_jobs pull_health', 'pull_safe', 'pull_safe pull_education pull_assistance', 'pull_safe pull_relatives', 'pull_relatives pull_jobs pull_education', 'pull_relatives pull_jobs pull_education pull_health', 'pull_close pull_relatives pull_jobs', 'pull_close pull_safe pull_relatives pull_education', 'pull_close pull_safe', 'pull_relatives pull_education pull_health', 'pull_safe pull_jobs pull_education pull_assistance', 'pull_safe pull_leader', 'pull_relatives pull_jobs pull_health', 'pull_safe pull_relatives pull_jobs', 'pull_safe pull_education pull_health', 'pull_safe pull_relatives pull_jobs pull_education pull_assistance', 'pull_jobs pull_education pull_health pull_assistance', 'pull_relatives pull_jobs pull_education pull_assistance', 'pull_safe pull_relatives pull_jobs pull_education', 'pull_relatives pull_jobs pull_education pull_health pull_leader', 'pull_safe pull_relatives pull_health', 'pull_safe pull_jobs pull_health pull_assistance', 'pull_safe pull_relatives pull_education', 'pull_close pull_safe pull_jobs', 'pull_close pull_relatives', 'pull_relatives pull_education', 'pull_relatives pull_jobs pull_education pull_health pull_assistance', 'pull_close pull_safe pull_relatives pull_jobs', 'pull_jobs pull_health', 'pull_close pull_relatives pull_education', 'pull_close pull_safe pull_relatives', 'pull_close pull_relatives pull_jobs pull_education', 'pull_close pull_relatives pull_jobs pull_health', 'pull_safe pull_relatives pull_jobs pull_education pull_health pull_assistance', 'pull_safe pull_jobs pull_assistance', 'pull_close pull_safe pull_education pull_health', 'pull_safe pull_relatives pull_jobs pull_education pull_health pull_assistance pull_leader', 'pull_jobs pull_education pull_assistance', 'pull_close pull_safe pull_education', 'pull_safe pull_relatives pull_jobs pull_education pull_health pull_leader pull_gov', 'pull_assistance pull_leader', 'pull_close pull_safe pull_relatives pull_jobs pull_education', 'pull_close pull_safe pull_relatives pull_jobs pull_education pull_health', 'pull_close pull_safe pull_jobs pull_education', 'pull_close pull_relatives pull_education pull_health', 'pull_safe pull_jobs pull_leader', 'pull_close pull_education', 'pull_relatives pull_gov', 'pull_safe pull_relatives pull_jobs pull_leader', 'pull_close pull_safe pull_relatives pull_education pull_health', 'pull_close pull_jobs pull_education', 'pull_close pull_safe pull_jobs pull_health pull_assistance', 'pull_close pull_safe pull_jobs pull_education pull_health', 'pull_jobs pull_education pull_health pull_leader', 'pull_education pull_health pull_assistance', 'pull_safe pull_gov', 'pull_safe pull_education', 'pull_close pull_safe pull_health', 'pull_relatives pull_health pull_assistance', 'pull_assistance', 'pull_safe pull_health', 'pull_close pull_jobs pull_health', 'pull_safe pull_assistance', 'pull_safe pull_education pull_health pull_gov', 'pull_safe pull_education pull_health pull_assistance', 'pull_safe pull_jobs pull_gov', 'pull_close pull_safe pull_jobs pull_health', 'pull_jobs pull_health pull_assistance', 'pull_close pull_relatives pull_jobs pull_assistance', 'pull_jobs pull_education pull_assistance pull_leader', 'pull_close pull_jobs pull_education pull_health', 'pull_close pull_jobs pull_health pull_assistance', 'pull_relatives pull_education pull_assistance', 'pull_relatives pull_education pull_health pull_assistance', 'pull_close pull_relatives pull_jobs pull_education pull_health', 'pull_relatives pull_jobs pull_health pull_assistance', 'pull_safe pull_assistance pull_leader', 'pull_close pull_education pull_assistance', 'pull_health', 'pull_education pull_assistance', 'pull_close pull_safe pull_relatives pull_jobs pull_health', 'pull_close pull_jobs', 'pull_close pull_jobs pull_assistance', 'pull_close pull_safe pull_relatives pull_health', 'pull_safe pull_relatives pull_jobs pull_health', 'pull_jobs pull_assistance', 'pull_close pull_safe pull_jobs pull_education pull_assistance', 'pull_close pull_safe pull_assistance', 'pull_relatives other', 'pull_relatives pull_assistance', 'pull_close pull_safe pull_education pull_assistance', 'pull_close pull_jobs pull_education pull_assistance', 'pull_safe pull_relatives pull_assistance', 'pull_safe pull_health pull_assistance', 'pull_close pull_relatives pull_health', 'pull_relatives pull_jobs pull_assistance', 'pull_close pull_education pull_health', 'pull_safe pull_jobs pull_education pull_health pull_assistance', 'pull_leader', 'pull_close pull_assistance', 'pull_safe pull_relatives pull_education pull_health pull_assistance', 'pull_close pull_relatives pull_jobs pull_education pull_health pull_assistance', 'pull_relatives pull_health', 'pull_safe pull_relatives pull_education pull_assistance', 'pull_assistance pull_gov', 'pull_close pull_safe pull_gov', 'pull_close pull_safe pull_education pull_gov', 'pull_safe pull_education pull_assistance pull_gov', 'pull_close pull_safe pull_education pull_health pull_assistance', 'pull_safe pull_relatives pull_education pull_health pull_leader', 'pull_safe pull_health pull_assistance pull_leader', 'pull_safe pull_jobs pull_education pull_health pull_leader', 'pull_safe pull_health pull_gov', 'pull_close pull_relatives pull_health pull_assistance', 'pull_safe pull_relatives pull_jobs pull_assistance', 'pull_close pull_safe pull_education pull_health pull_leader', 'pull_close pull_safe pull_relatives pull_jobs pull_education pull_health pull_assistance', 'pull_close pull_relatives pull_education pull_assistance', 'pull_safe pull_education pull_assistance pull_leader', 'pull_close pull_relatives pull_assistance', 'pull_safe pull_relatives pull_jobs pull_health pull_assistance', 'pull_relatives pull_jobs pull_health pull_leader', 'pull_close pull_safe pull_jobs pull_education pull_health pull_leader', 'pull_close pull_safe pull_relatives pull_jobs pull_education pull_assistance', 'pull_close pull_relatives pull_jobs pull_health pull_assistance', 'pull_safe pull_education pull_leader', 'pull_safe pull_relatives pull_health pull_assistance pull_leader', 'pull_relatives pull_education pull_health pull_leader', 'pull_safe pull_relatives pull_jobs pull_health pull_leader', 'pull_close pull_relatives pull_jobs pull_education pull_assistance', 'pull_safe pull_relatives pull_jobs pull_education pull_health pull_assistance pull_leader pull_gov', 'pull_close pull_safe pull_relatives pull_jobs pull_education pull_health pull_assistance pull_leader', 'pull_safe pull_education pull_health pull_assistance pull_leader', 'pull_safe pull_jobs pull_health pull_leader', 'pull_jobs pull_education pull_gov', 'pull_safe pull_relatives pull_health pull_assistance', 'pull_gov', 'pull_safe pull_relatives pull_gov', 'pull_safe pull_relatives pull_leader', 'pull_health pull_assistance', 'pull_safe pull_relatives pull_jobs pull_health pull_assistance pull_leader', 'pull_safe pull_relatives pull_assistance pull_leader']\n",
      "c_origin/c02a ['no', 'no_inf', 'yes']\n",
      "c_origin/c02b ['no_inf', 'kabul', 'paktika', 'herat', 'jawzjan', 'badghis', 'balkh', 'farah', 'helmand', 'faryab', 'kandahar', 'laghman', 'nangarhar', 'parwan', 'kunduz', 'badakhshan', 'logar', 'nimroz', 'ghor', 'wardak', 'kunar', 'zabul', 'takhar', 'baghlan', 'panjsher', 'samangan', 'ghazni', 'kapisa']\n",
      "c_origin/c03b ['no_inf', 'kabulcenter', 'paktikacenter', 'enjil', 'khanaqa', 'gulran', 'murghab', 'balkhcenter', 'badghiscenter', 'obe', 'zendahjan', 'anardara', 'ghoryan', 'khak-e-safed', 'nadali', 'shindand', 'pashtunzarghun', 'shahwalikot', 'kandaharcenter', 'laghmancenter', 'surkhrud', 'parwancenter', 'bagrami', 'khugyani', 'khanabad', 'kunduzcenter', 'qarghayee', 'nangarharcenter', 'kuzkunar', 'lalpoor', 'pachirwagam', 'kama', 'kohistan', 'chaparhar', 'alishing', 'kalakan', 'kot', 'spinboldak', 'shinwar', 'baghran', 'chaharasyab', 'kohsan', 'daraenoor', 'barakibarak', 'nimrozcenter', 'farahcenter', 'guzera', 'batikor', 'ghorcenter', 'behsud', 'azra', 'kushk', 'rodat', 'hesarak', 'pashtunkot', 'sayyidabad', 'dehbala', 'daraepech', 'zabulcenter', 'farkhar', 'baghlan-e-jadeed', 'mumanddara', 'logarcenter', 'durbala', 'chapadara', 'sawkai', 'panshercenter', 'surubi', 'dehsabz', 'janikhel', 'jaghuri', 'achin', 'alingar', 'tagab', 'goshta', 'paghman', 'kunar', 'faryab center', 'sherzad', 'khaskunar', 'sarkani', 'shigalwasheltan', 'nari', 'watapoor', 'hissaeawali', 'chahardarah', 'aliabad', 'narangwabadil', 'barkunar']\n",
      "c_origin/c04 ['yes', 'no', 'no_inf']\n"
     ]
    }
   ],
   "source": [
    "#checking that everything looks good\n",
    "for column in df_origin.columns:\n",
    "    print(column, df_origin[column].unique().tolist())"
   ]
  },
  {
   "cell_type": "markdown",
   "metadata": {},
   "source": [
    "##### 3. Displacement"
   ]
  },
  {
   "cell_type": "code",
   "execution_count": 28,
   "metadata": {},
   "outputs": [],
   "source": [
    "#slice displacement section from main dataframe\n",
    "df_displacement = df.loc[:, 'd_idps/d01':'d_idps/d08_other']"
   ]
  },
  {
   "cell_type": "code",
   "execution_count": 29,
   "metadata": {
    "scrolled": false
   },
   "outputs": [
    {
     "name": "stdout",
     "output_type": "stream",
     "text": [
      "<class 'pandas.core.frame.DataFrame'>\n",
      "RangeIndex: 11260 entries, 0 to 11259\n",
      "Data columns (total 87 columns):\n",
      "d_idps/d01                      3420 non-null object\n",
      "d_idps/d01/dis_armed            3420 non-null float64\n",
      "d_idps/d01/dis_military         3420 non-null float64\n",
      "d_idps/d01/dis_intimidation     3420 non-null float64\n",
      "d_idps/d01/dis_tribal           3420 non-null float64\n",
      "d_idps/d01/dis_land             3420 non-null float64\n",
      "d_idps/d01/dis_feud             3420 non-null float64\n",
      "d_idps/d01/dis_mines            3420 non-null float64\n",
      "d_idps/d01/dis_shelling         3420 non-null float64\n",
      "d_idps/d01/dis_naturaldis       3420 non-null float64\n",
      "d_idps/d01/dis_economic         3420 non-null float64\n",
      "d_idps/d01/other                3420 non-null float64\n",
      "d_idps/d01_other                38 non-null object\n",
      "d_idps/d02                      101 non-null object\n",
      "d_idps/d02/inti_gov             101 non-null float64\n",
      "d_idps/d02/inti_children        101 non-null float64\n",
      "d_idps/d02/inti_recruitment     101 non-null float64\n",
      "d_idps/d02/inti_persons         101 non-null float64\n",
      "d_idps/d02/inti_gbv             101 non-null float64\n",
      "d_idps/d02/inti_taxation        101 non-null float64\n",
      "d_idps/d02/other                101 non-null float64\n",
      "d_idps/d02_other                2 non-null object\n",
      "d_idps/d03                      3116 non-null object\n",
      "d_idps/d03/per_gov              3116 non-null float64\n",
      "d_idps/d03/per_forces           3116 non-null float64\n",
      "d_idps/d03/per_nong             3116 non-null float64\n",
      "d_idps/d03/per_community        3116 non-null float64\n",
      "d_idps/d03/per_criminal         3116 non-null float64\n",
      "d_idps/d03/other                3116 non-null float64\n",
      "d_idps/d03_other                994 non-null object\n",
      "d_idps/d03a                     222 non-null object\n",
      "d_idps/d03a/gov_ana             222 non-null float64\n",
      "d_idps/d03a/gov_anp             222 non-null float64\n",
      "d_idps/d03a/gov_civil           222 non-null float64\n",
      "d_idps/d03a/gov_alp             222 non-null float64\n",
      "d_idps/d03a/other               222 non-null float64\n",
      "d_idps/d03a_other               4 non-null object\n",
      "d_idps/d03b                     972 non-null object\n",
      "d_idps/d03b/forces_coalition    972 non-null float64\n",
      "d_idps/d03b/forces_other        972 non-null float64\n",
      "d_idps/d03b/other               972 non-null float64\n",
      "d_idps/d03b_other               6 non-null object\n",
      "d_idps/d03c                     623 non-null object\n",
      "d_idps/d03c/armed_age           623 non-null float64\n",
      "d_idps/d03c/armed_local         623 non-null float64\n",
      "d_idps/d03c/other               623 non-null float64\n",
      "d_idps/d03c_other               0 non-null float64\n",
      "d_idps/d03d                     165 non-null object\n",
      "d_idps/d03d/comm_religious      165 non-null float64\n",
      "d_idps/d03d/comm_elder          165 non-null float64\n",
      "d_idps/d03d/comm_landlord       165 non-null float64\n",
      "d_idps/d03d/other               165 non-null float64\n",
      "d_idps/d03d_other               7 non-null object\n",
      "d_idps/d04                      3552 non-null object\n",
      "d_idps/d04a                     773 non-null object\n",
      "d_idps/d04a/ev_rent             773 non-null float64\n",
      "d_idps/d04a/ev_pressure         773 non-null float64\n",
      "d_idps/d04a/ev_owner            773 non-null float64\n",
      "d_idps/d04a/ev_doc              773 non-null float64\n",
      "d_idps/d04a/ev_return           773 non-null float64\n",
      "d_idps/d04a/ev_court            773 non-null float64\n",
      "d_idps/d04a/ev_shura            773 non-null float64\n",
      "d_idps/d04a/other               773 non-null float64\n",
      "d_idps/d04a_other               16 non-null object\n",
      "d_idps/d05                      3522 non-null object\n",
      "d_idps/d05_other                5 non-null object\n",
      "d_idps/d05a                     112 non-null object\n",
      "d_idps/d06                      3562 non-null object\n",
      "d_idps/d06/rr_stay              3562 non-null float64\n",
      "d_idps/d06/rr_security          3562 non-null float64\n",
      "d_idps/d06/rr_services          3562 non-null float64\n",
      "d_idps/d06/rr_housing           3562 non-null float64\n",
      "d_idps/d06/rr_relatives         3562 non-null float64\n",
      "d_idps/d06/rr_jobs              3562 non-null float64\n",
      "d_idps/d06/rr_disaster          3562 non-null float64\n",
      "d_idps/d06/rr_conflict          3562 non-null float64\n",
      "d_idps/d06/rr_assistance        3562 non-null float64\n",
      "d_idps/d07                      3564 non-null object\n",
      "d_idps/d08                      1340 non-null object\n",
      "d_idps/d08/inte_land            1340 non-null float64\n",
      "d_idps/d08/inte_school          1340 non-null float64\n",
      "d_idps/d08/inte_job             1340 non-null float64\n",
      "d_idps/d08/inte_serivces        1340 non-null float64\n",
      "d_idps/d08/inte_hostile         1340 non-null float64\n",
      "d_idps/d08/inte_gov             1340 non-null float64\n",
      "d_idps/d08/other                1340 non-null float64\n",
      "d_idps/d08_other                7 non-null object\n",
      "dtypes: float64(64), object(23)\n",
      "memory usage: 7.5+ MB\n"
     ]
    }
   ],
   "source": [
    "df_displacement.info()"
   ]
  },
  {
   "cell_type": "code",
   "execution_count": 30,
   "metadata": {},
   "outputs": [],
   "source": [
    "#colNames = df_displacement.columns[df_displacement.columns.str.contains(pat = '_other')]"
   ]
  },
  {
   "cell_type": "code",
   "execution_count": 31,
   "metadata": {},
   "outputs": [],
   "source": [
    "df_displacement = df_displacement.loc[:,['d_idps/d01', 'd_idps/d02', 'd_idps/d03', 'd_idps/d03a', 'd_idps/d03b', 'd_idps/d03c', 'd_idps/d03d', 'd_idps/d04', 'd_idps/d04a', 'd_idps/d05', 'd_idps/d05a', 'd_idps/d06', 'd_idps/d07',\n",
    "       'd_idps/d08']]"
   ]
  },
  {
   "cell_type": "code",
   "execution_count": 32,
   "metadata": {},
   "outputs": [],
   "source": [
    "df_displacement.fillna('no_inf', inplace = True)"
   ]
  },
  {
   "cell_type": "code",
   "execution_count": 33,
   "metadata": {},
   "outputs": [],
   "source": [
    "# for people who don't change their place of origin checking if there any not NaN values in 'reasons for displacement' column\n",
    "# df.loc[(df['c_origin/c01']=='no')&df['d_idps/d01'].isnull(), ['c_origin/c01', 'd_idps/d01']]"
   ]
  },
  {
   "cell_type": "code",
   "execution_count": 34,
   "metadata": {
    "scrolled": true
   },
   "outputs": [
    {
     "name": "stdout",
     "output_type": "stream",
     "text": [
      "<class 'pandas.core.frame.DataFrame'>\n",
      "RangeIndex: 11260 entries, 0 to 11259\n",
      "Data columns (total 14 columns):\n",
      "d_idps/d01     11260 non-null object\n",
      "d_idps/d02     11260 non-null object\n",
      "d_idps/d03     11260 non-null object\n",
      "d_idps/d03a    11260 non-null object\n",
      "d_idps/d03b    11260 non-null object\n",
      "d_idps/d03c    11260 non-null object\n",
      "d_idps/d03d    11260 non-null object\n",
      "d_idps/d04     11260 non-null object\n",
      "d_idps/d04a    11260 non-null object\n",
      "d_idps/d05     11260 non-null object\n",
      "d_idps/d05a    11260 non-null object\n",
      "d_idps/d06     11260 non-null object\n",
      "d_idps/d07     11260 non-null object\n",
      "d_idps/d08     11260 non-null object\n",
      "dtypes: object(14)\n",
      "memory usage: 1.2+ MB\n"
     ]
    }
   ],
   "source": [
    "df_displacement.info()"
   ]
  },
  {
   "cell_type": "code",
   "execution_count": 35,
   "metadata": {},
   "outputs": [
    {
     "name": "stdout",
     "output_type": "stream",
     "text": [
      "d_idps/d01 ['no_inf', 'dis_armed dis_mines', 'dis_economic', 'dis_military', 'dis_naturaldis', 'dis_tribal dis_economic', 'dis_mines', 'dis_armed dis_military dis_intimidation dis_mines dis_economic', 'dis_armed dis_economic', 'dis_land', 'other', 'dis_mines dis_shelling', 'dis_mines dis_economic', 'dis_armed dis_tribal', 'dis_armed', 'dis_naturaldis dis_economic', 'dis_tribal', 'dis_armed dis_naturaldis', 'dis_feud dis_shelling', 'dis_military dis_economic', 'dis_mines dis_naturaldis', 'dis_mines dis_shelling dis_naturaldis', 'dis_armed dis_military', 'dis_shelling dis_economic', 'dis_mines dis_naturaldis dis_economic', 'dis_military dis_naturaldis dis_economic', 'dis_intimidation dis_economic', 'dis_armed dis_naturaldis dis_economic', 'dis_feud dis_economic', 'dis_intimidation', 'dis_military dis_intimidation', 'dis_armed dis_military dis_economic', 'dis_armed dis_intimidation dis_feud', 'dis_armed dis_intimidation', 'dis_armed dis_military dis_shelling dis_naturaldis', 'dis_military dis_shelling', 'dis_armed dis_military dis_tribal', 'dis_armed dis_tribal dis_economic', 'dis_armed dis_military dis_intimidation', 'dis_armed dis_intimidation dis_feud dis_economic', 'dis_shelling', 'dis_armed dis_intimidation dis_shelling', 'dis_land dis_economic', 'dis_armed dis_intimidation dis_naturaldis dis_economic', 'dis_military dis_land', 'dis_armed dis_intimidation dis_tribal dis_naturaldis dis_economic', 'dis_armed dis_military dis_intimidation dis_economic', 'dis_armed dis_intimidation dis_economic', 'dis_armed dis_military dis_intimidation dis_shelling dis_naturaldis dis_economic', 'dis_intimidation dis_tribal', 'dis_feud', 'dis_economic other', 'dis_military dis_intimidation dis_tribal', 'dis_armed other', 'dis_military dis_tribal', 'dis_military dis_intimidation dis_tribal dis_land', 'dis_armed dis_military dis_intimidation dis_tribal dis_land', 'dis_armed dis_military dis_intimidation dis_tribal', 'dis_tribal dis_land', 'dis_intimidation dis_feud', 'dis_armed dis_land', 'dis_armed dis_military dis_mines', 'dis_intimidation dis_land', 'dis_military dis_intimidation dis_mines', 'dis_intimidation dis_tribal dis_land']\n",
      "d_idps/d02 ['no_inf', 'inti_gov', 'inti_children inti_recruitment', 'inti_children', 'inti_gov inti_gbv', 'inti_taxation', 'inti_recruitment', 'inti_children inti_recruitment inti_taxation', 'inti_gbv', 'inti_gov inti_persons inti_gbv', 'inti_persons inti_gbv inti_taxation', 'inti_recruitment inti_gbv', 'inti_recruitment inti_taxation', 'inti_recruitment inti_persons inti_gbv inti_taxation', 'inti_children inti_persons', 'inti_persons', 'inti_children inti_persons inti_taxation', 'inti_persons inti_gbv', 'inti_gov inti_children', 'inti_gov inti_taxation', 'other', 'inti_children inti_gbv', 'inti_children inti_recruitment inti_persons', 'inti_gov inti_children inti_recruitment inti_persons', 'inti_gov inti_children inti_recruitment', 'inti_recruitment inti_persons', 'inti_gov inti_recruitment', 'inti_gov inti_children inti_persons', 'inti_gov inti_children inti_recruitment inti_persons inti_gbv']\n",
      "d_idps/d03 ['no_inf', 'per_nong', 'per_community', 'per_forces', 'per_criminal', 'other', 'per_gov', 'per_community per_criminal', 'per_forces per_community', 'per_nong per_community', 'per_gov per_forces', 'per_nong per_criminal', 'per_forces per_nong', 'per_forces per_criminal', 'per_gov per_nong', 'per_gov other', 'per_gov per_forces per_nong per_community per_criminal', 'per_criminal other', 'per_gov per_forces per_criminal', 'per_forces per_nong per_criminal', 'per_gov per_forces per_nong', 'per_gov per_forces per_nong per_community', 'per_gov per_criminal', 'per_forces per_nong per_community per_criminal', 'per_gov per_forces per_community', 'per_gov per_community', 'per_gov per_forces per_community per_criminal', 'per_forces per_nong per_community']\n",
      "d_idps/d03a ['no_inf', 'gov_alp', 'other', 'gov_anp', 'gov_ana gov_anp', 'gov_civil', 'gov_ana gov_anp gov_civil', 'gov_ana other', 'gov_ana', 'gov_ana gov_civil', 'gov_civil gov_alp', 'gov_ana gov_anp gov_civil gov_alp', 'gov_anp gov_civil', 'gov_anp gov_civil gov_alp']\n",
      "d_idps/d03b ['no_inf', 'forces_other', 'forces_coalition', 'forces_coalition forces_other', 'other']\n",
      "d_idps/d03c ['no_inf', 'armed_age', 'armed_local', 'armed_age armed_local']\n",
      "d_idps/d03d ['no_inf', 'comm_landlord', 'other', 'comm_elder', 'comm_religious', 'comm_religious comm_elder', 'comm_religious comm_elder comm_landlord', 'comm_elder comm_landlord']\n",
      "d_idps/d04 ['no_inf', 'yndk_y', 'yndk_n', 'yndk_dk']\n",
      "d_idps/d04a ['no_inf', 'ev_rent', 'ev_return', 'ev_pressure ev_owner ev_shura', 'other', 'ev_shura', 'ev_pressure ev_owner', 'ev_doc', 'ev_pressure', 'ev_pressure ev_return', 'ev_owner', 'ev_pressure ev_shura']\n",
      "d_idps/d05 ['no_inf', 'fut_stay', 'fut_move', 'other', 'fut_return']\n",
      "d_idps/d05a ['no_inf', 'return_12', 'return_dk', 'return_6', 'return_6-12']\n",
      "d_idps/d06 ['no_inf', 'rr_stay', 'rr_security', 'rr_stay rr_housing', 'rr_housing rr_jobs rr_conflict rr_assistance', 'rr_housing rr_jobs', 'rr_stay rr_security rr_relatives', 'rr_stay rr_relatives rr_jobs rr_conflict', 'rr_stay rr_security', 'rr_housing', 'rr_jobs', 'rr_security rr_services', 'rr_stay rr_security rr_services rr_housing', 'rr_security rr_services rr_housing rr_jobs', 'rr_assistance', 'rr_housing rr_disaster', 'rr_relatives rr_jobs', 'rr_security rr_housing', 'rr_services rr_housing rr_relatives rr_jobs', 'rr_security rr_jobs', 'rr_conflict', 'rr_stay rr_jobs', 'rr_stay rr_relatives rr_conflict', 'rr_stay rr_conflict', 'rr_stay rr_relatives', 'rr_stay rr_jobs rr_conflict', 'rr_stay rr_relatives rr_jobs', 'rr_security rr_housing rr_relatives rr_jobs', 'rr_housing rr_relatives rr_jobs rr_disaster rr_conflict', 'rr_relatives rr_conflict', 'rr_stay rr_relatives rr_disaster rr_conflict', 'rr_housing rr_conflict', 'rr_security rr_relatives', 'rr_housing rr_relatives', 'rr_stay rr_disaster', 'rr_services rr_housing rr_jobs', 'rr_security rr_services rr_relatives', 'rr_services rr_relatives rr_jobs', 'rr_security rr_jobs rr_conflict', 'rr_security rr_services rr_housing', 'rr_conflict rr_assistance', 'rr_security rr_housing rr_conflict', 'rr_disaster', 'rr_security rr_services rr_conflict', 'rr_security rr_conflict', 'rr_services', 'rr_security rr_services rr_housing rr_jobs rr_conflict', 'rr_security rr_services rr_housing rr_relatives rr_conflict', 'rr_security rr_services rr_housing rr_relatives rr_jobs rr_conflict', 'rr_security rr_services rr_housing rr_relatives rr_jobs rr_assistance', 'rr_security rr_services rr_conflict rr_assistance', 'rr_security rr_services rr_disaster rr_assistance', 'rr_services rr_relatives rr_conflict', 'rr_security rr_relatives rr_conflict', 'rr_security rr_housing rr_jobs rr_conflict', 'rr_security rr_jobs rr_assistance', 'rr_security rr_services rr_housing rr_relatives rr_jobs rr_conflict rr_assistance', 'rr_security rr_housing rr_relatives rr_conflict', 'rr_security rr_services rr_housing rr_jobs rr_assistance', 'rr_stay rr_security rr_services', 'rr_relatives', 'rr_security rr_conflict rr_assistance', 'rr_security rr_housing rr_relatives rr_assistance', 'rr_housing rr_relatives rr_jobs', 'rr_services rr_housing rr_relatives', 'rr_stay rr_services rr_relatives', 'rr_services rr_disaster', 'rr_services rr_jobs', 'rr_stay rr_services', 'rr_services rr_conflict', 'rr_jobs rr_assistance', 'rr_security rr_services rr_housing rr_relatives rr_jobs', 'rr_security rr_disaster', 'rr_security rr_services rr_jobs', 'rr_stay rr_services rr_housing', 'rr_stay rr_security rr_housing rr_disaster', 'rr_services rr_relatives', 'rr_services rr_housing', 'rr_security rr_housing rr_jobs']\n",
      "d_idps/d07 ['no_inf', 'no', 'yes']\n",
      "d_idps/d08 ['no_inf', 'inte_job', 'inte_land inte_job', 'inte_land inte_job inte_serivces inte_gov', 'inte_job inte_serivces', 'inte_school inte_job', 'inte_land', 'inte_hostile', 'inte_land inte_hostile', 'inte_school inte_job inte_serivces', 'inte_land inte_school inte_job', 'inte_school inte_serivces inte_hostile', 'inte_land inte_school', 'inte_land inte_job inte_serivces', 'other', 'inte_job inte_serivces inte_hostile inte_gov other', 'inte_job inte_serivces inte_hostile', 'inte_gov', 'inte_job inte_gov', 'inte_school inte_job inte_gov', 'inte_job inte_serivces inte_gov', 'inte_job inte_serivces inte_hostile inte_gov', 'inte_job inte_hostile inte_gov', 'inte_serivces', 'inte_school', 'inte_job inte_hostile', 'inte_land inte_job inte_gov', 'inte_land inte_gov', 'inte_land inte_job inte_hostile inte_gov', 'inte_job other', 'inte_hostile inte_gov', 'inte_school inte_hostile inte_gov', 'inte_land inte_serivces', 'inte_serivces inte_hostile inte_gov', 'inte_school inte_serivces', 'inte_serivces inte_hostile', 'inte_land inte_school inte_job inte_serivces inte_hostile inte_gov', 'inte_land inte_job inte_hostile', 'inte_land inte_school inte_serivces', 'inte_school inte_job inte_hostile', 'inte_land inte_school inte_job inte_serivces', 'inte_serivces inte_gov', 'inte_school inte_job inte_serivces inte_hostile', 'inte_land inte_job inte_serivces inte_hostile inte_gov', 'inte_land inte_job inte_serivces inte_hostile']\n"
     ]
    }
   ],
   "source": [
    "#checking that everything looks good\n",
    "for column in df_displacement.columns:\n",
    "    print(column, df_displacement[column].unique().tolist())"
   ]
  },
  {
   "cell_type": "markdown",
   "metadata": {},
   "source": [
    "##### 4. Food access"
   ]
  },
  {
   "cell_type": "code",
   "execution_count": 36,
   "metadata": {},
   "outputs": [],
   "source": [
    "df_food = df.loc[:, 'e_food/e_fcs/e_fcs_intro':'e_food/e35_other']"
   ]
  },
  {
   "cell_type": "code",
   "execution_count": 37,
   "metadata": {},
   "outputs": [
    {
     "name": "stdout",
     "output_type": "stream",
     "text": [
      "<class 'pandas.core.frame.DataFrame'>\n",
      "RangeIndex: 11260 entries, 0 to 11259\n",
      "Data columns (total 52 columns):\n",
      "e_food/e_fcs/e_fcs_intro    0 non-null float64\n",
      "e_food/e_fcs/e01            11260 non-null int64\n",
      "e_food/e_fcs/e02            11260 non-null int64\n",
      "e_food/e_fcs/e03            11260 non-null int64\n",
      "e_food/e_fcs/e04            11260 non-null int64\n",
      "e_food/e_fcs/e05            11260 non-null int64\n",
      "e_food/e_fcs/e06            11260 non-null int64\n",
      "e_food/e_fcs/e07            11260 non-null int64\n",
      "e_food/e_fcs/e08            11260 non-null int64\n",
      "e_food/e_fcs/e09            11260 non-null int64\n",
      "e_food/e_hdds/e_hdds_lab    0 non-null float64\n",
      "e_food/e_hdds/e10           11260 non-null object\n",
      "e_food/e_hdds/e11           11260 non-null object\n",
      "e_food/e_hdds/e12           11260 non-null object\n",
      "e_food/e_hdds/e13           11260 non-null object\n",
      "e_food/e_hdds/e14           11260 non-null object\n",
      "e_food/e_hdds/e15           11260 non-null object\n",
      "e_food/e_hdds/e16           11260 non-null object\n",
      "e_food/e_hdds/e17           11260 non-null object\n",
      "e_food/e_hdds/e18           11260 non-null object\n",
      "e_food/e_hdds/e19           11260 non-null object\n",
      "e_food/e_hdds/e20           11260 non-null object\n",
      "e_food/e_hdds/e21           11260 non-null object\n",
      "e_food/e_hdds/e22           11260 non-null object\n",
      "e_food/e_hdds/e23           11260 non-null object\n",
      "e_food/e_hdds/e24           11260 non-null object\n",
      "0                           11260 non-null object\n",
      "e_food/e_hfias/e25a         6812 non-null object\n",
      "e_food/e_hfias/e26          11260 non-null object\n",
      "e_food/e_hfias/e26a         6877 non-null object\n",
      "e_food/e_hfias/e27          11260 non-null object\n",
      "e_food/e_hfias/e27a         6572 non-null object\n",
      "e_food/e_hfias/e28          11260 non-null object\n",
      "e_food/e_hfias/e28a         6952 non-null object\n",
      "e_food/e_hfias/e29          11260 non-null object\n",
      "e_food/e_hfias/e29a         5321 non-null object\n",
      "e_food/e_hfias/e30          11260 non-null object\n",
      "e_food/e_hfias/e30a         4689 non-null object\n",
      "e_food/e_hfias/e31          11260 non-null object\n",
      "e_food/e_hfias/e31a         3411 non-null object\n",
      "e_food/e_hfias/e32          11260 non-null object\n",
      "e_food/e_hfias/e32a         2968 non-null object\n",
      "e_food/e_hfias/e33          11260 non-null object\n",
      "e_food/e_hfias/e33a         2648 non-null object\n",
      "e_food/e34                  11260 non-null object\n",
      "e_food/e34_other            25 non-null object\n",
      "e_food/e35                  11260 non-null object\n",
      "e_food/e35/food_taste       11260 non-null bool\n",
      "e_food/e35/food_price       11260 non-null bool\n",
      "e_food/e35/food_health      11260 non-null bool\n",
      "e_food/e35/other            11260 non-null bool\n",
      "e_food/e35_other            3 non-null object\n",
      "dtypes: bool(4), float64(2), int64(9), object(37)\n",
      "memory usage: 4.2+ MB\n"
     ]
    }
   ],
   "source": [
    "df_food.info()"
   ]
  },
  {
   "cell_type": "code",
   "execution_count": 38,
   "metadata": {},
   "outputs": [
    {
     "data": {
      "text/html": [
       "<div>\n",
       "<style scoped>\n",
       "    .dataframe tbody tr th:only-of-type {\n",
       "        vertical-align: middle;\n",
       "    }\n",
       "\n",
       "    .dataframe tbody tr th {\n",
       "        vertical-align: top;\n",
       "    }\n",
       "\n",
       "    .dataframe thead th {\n",
       "        text-align: right;\n",
       "    }\n",
       "</style>\n",
       "<table border=\"1\" class=\"dataframe\">\n",
       "  <thead>\n",
       "    <tr style=\"text-align: right;\">\n",
       "      <th></th>\n",
       "      <th>e_food/e_fcs/e_fcs_intro</th>\n",
       "      <th>e_food/e_fcs/e01</th>\n",
       "      <th>e_food/e_fcs/e02</th>\n",
       "      <th>e_food/e_fcs/e03</th>\n",
       "      <th>e_food/e_fcs/e04</th>\n",
       "      <th>e_food/e_fcs/e05</th>\n",
       "      <th>e_food/e_fcs/e06</th>\n",
       "      <th>e_food/e_fcs/e07</th>\n",
       "      <th>e_food/e_fcs/e08</th>\n",
       "      <th>e_food/e_fcs/e09</th>\n",
       "      <th>...</th>\n",
       "      <th>e_food/e_hfias/e33</th>\n",
       "      <th>e_food/e_hfias/e33a</th>\n",
       "      <th>e_food/e34</th>\n",
       "      <th>e_food/e34_other</th>\n",
       "      <th>e_food/e35</th>\n",
       "      <th>e_food/e35/food_taste</th>\n",
       "      <th>e_food/e35/food_price</th>\n",
       "      <th>e_food/e35/food_health</th>\n",
       "      <th>e_food/e35/other</th>\n",
       "      <th>e_food/e35_other</th>\n",
       "    </tr>\n",
       "  </thead>\n",
       "  <tbody>\n",
       "    <tr>\n",
       "      <th>0</th>\n",
       "      <td>NaN</td>\n",
       "      <td>7</td>\n",
       "      <td>7</td>\n",
       "      <td>5</td>\n",
       "      <td>4</td>\n",
       "      <td>3</td>\n",
       "      <td>3</td>\n",
       "      <td>7</td>\n",
       "      <td>7</td>\n",
       "      <td>7</td>\n",
       "      <td>...</td>\n",
       "      <td>0</td>\n",
       "      <td>NaN</td>\n",
       "      <td>dec_femalehh</td>\n",
       "      <td>NaN</td>\n",
       "      <td>food_taste food_price</td>\n",
       "      <td>True</td>\n",
       "      <td>True</td>\n",
       "      <td>False</td>\n",
       "      <td>False</td>\n",
       "      <td>NaN</td>\n",
       "    </tr>\n",
       "    <tr>\n",
       "      <th>1</th>\n",
       "      <td>NaN</td>\n",
       "      <td>7</td>\n",
       "      <td>3</td>\n",
       "      <td>4</td>\n",
       "      <td>7</td>\n",
       "      <td>3</td>\n",
       "      <td>4</td>\n",
       "      <td>6</td>\n",
       "      <td>7</td>\n",
       "      <td>7</td>\n",
       "      <td>...</td>\n",
       "      <td>0</td>\n",
       "      <td>NaN</td>\n",
       "      <td>dec_femalehh</td>\n",
       "      <td>NaN</td>\n",
       "      <td>food_taste food_price</td>\n",
       "      <td>True</td>\n",
       "      <td>True</td>\n",
       "      <td>False</td>\n",
       "      <td>False</td>\n",
       "      <td>NaN</td>\n",
       "    </tr>\n",
       "    <tr>\n",
       "      <th>2</th>\n",
       "      <td>NaN</td>\n",
       "      <td>7</td>\n",
       "      <td>3</td>\n",
       "      <td>5</td>\n",
       "      <td>0</td>\n",
       "      <td>2</td>\n",
       "      <td>0</td>\n",
       "      <td>6</td>\n",
       "      <td>7</td>\n",
       "      <td>7</td>\n",
       "      <td>...</td>\n",
       "      <td>0</td>\n",
       "      <td>NaN</td>\n",
       "      <td>dec_femalehh</td>\n",
       "      <td>NaN</td>\n",
       "      <td>food_price</td>\n",
       "      <td>False</td>\n",
       "      <td>True</td>\n",
       "      <td>False</td>\n",
       "      <td>False</td>\n",
       "      <td>NaN</td>\n",
       "    </tr>\n",
       "    <tr>\n",
       "      <th>3</th>\n",
       "      <td>NaN</td>\n",
       "      <td>7</td>\n",
       "      <td>2</td>\n",
       "      <td>2</td>\n",
       "      <td>0</td>\n",
       "      <td>1</td>\n",
       "      <td>3</td>\n",
       "      <td>4</td>\n",
       "      <td>7</td>\n",
       "      <td>7</td>\n",
       "      <td>...</td>\n",
       "      <td>0</td>\n",
       "      <td>NaN</td>\n",
       "      <td>dec_femalehh</td>\n",
       "      <td>NaN</td>\n",
       "      <td>food_price</td>\n",
       "      <td>False</td>\n",
       "      <td>True</td>\n",
       "      <td>False</td>\n",
       "      <td>False</td>\n",
       "      <td>NaN</td>\n",
       "    </tr>\n",
       "    <tr>\n",
       "      <th>4</th>\n",
       "      <td>NaN</td>\n",
       "      <td>7</td>\n",
       "      <td>2</td>\n",
       "      <td>3</td>\n",
       "      <td>0</td>\n",
       "      <td>0</td>\n",
       "      <td>0</td>\n",
       "      <td>0</td>\n",
       "      <td>7</td>\n",
       "      <td>7</td>\n",
       "      <td>...</td>\n",
       "      <td>1</td>\n",
       "      <td>3</td>\n",
       "      <td>dec_femalehh</td>\n",
       "      <td>NaN</td>\n",
       "      <td>food_price</td>\n",
       "      <td>False</td>\n",
       "      <td>True</td>\n",
       "      <td>False</td>\n",
       "      <td>False</td>\n",
       "      <td>NaN</td>\n",
       "    </tr>\n",
       "  </tbody>\n",
       "</table>\n",
       "<p>5 rows × 52 columns</p>\n",
       "</div>"
      ],
      "text/plain": [
       "   e_food/e_fcs/e_fcs_intro  e_food/e_fcs/e01  e_food/e_fcs/e02  \\\n",
       "0                       NaN                 7                 7   \n",
       "1                       NaN                 7                 3   \n",
       "2                       NaN                 7                 3   \n",
       "3                       NaN                 7                 2   \n",
       "4                       NaN                 7                 2   \n",
       "\n",
       "   e_food/e_fcs/e03  e_food/e_fcs/e04  e_food/e_fcs/e05  e_food/e_fcs/e06  \\\n",
       "0                 5                 4                 3                 3   \n",
       "1                 4                 7                 3                 4   \n",
       "2                 5                 0                 2                 0   \n",
       "3                 2                 0                 1                 3   \n",
       "4                 3                 0                 0                 0   \n",
       "\n",
       "   e_food/e_fcs/e07  e_food/e_fcs/e08  e_food/e_fcs/e09  ...  \\\n",
       "0                 7                 7                 7  ...   \n",
       "1                 6                 7                 7  ...   \n",
       "2                 6                 7                 7  ...   \n",
       "3                 4                 7                 7  ...   \n",
       "4                 0                 7                 7  ...   \n",
       "\n",
       "   e_food/e_hfias/e33 e_food/e_hfias/e33a    e_food/e34 e_food/e34_other  \\\n",
       "0                   0                 NaN  dec_femalehh              NaN   \n",
       "1                   0                 NaN  dec_femalehh              NaN   \n",
       "2                   0                 NaN  dec_femalehh              NaN   \n",
       "3                   0                 NaN  dec_femalehh              NaN   \n",
       "4                   1                   3  dec_femalehh              NaN   \n",
       "\n",
       "              e_food/e35 e_food/e35/food_taste e_food/e35/food_price  \\\n",
       "0  food_taste food_price                  True                  True   \n",
       "1  food_taste food_price                  True                  True   \n",
       "2             food_price                 False                  True   \n",
       "3             food_price                 False                  True   \n",
       "4             food_price                 False                  True   \n",
       "\n",
       "  e_food/e35/food_health e_food/e35/other e_food/e35_other  \n",
       "0                  False            False              NaN  \n",
       "1                  False            False              NaN  \n",
       "2                  False            False              NaN  \n",
       "3                  False            False              NaN  \n",
       "4                  False            False              NaN  \n",
       "\n",
       "[5 rows x 52 columns]"
      ]
     },
     "execution_count": 38,
     "metadata": {},
     "output_type": "execute_result"
    }
   ],
   "source": [
    "df_food.head()"
   ]
  },
  {
   "cell_type": "code",
   "execution_count": 39,
   "metadata": {},
   "outputs": [],
   "source": [
    "# dropping empty or duplicated columns\n",
    "df_food.drop(['e_food/e_fcs/e_fcs_intro','e_food/e_hdds/e_hdds_lab', 'e_food/e34_other', 'e_food/e35/food_taste',\n",
    "          'e_food/e35/food_price', 'e_food/e35/food_health', 'e_food/e35/other', 'e_food/e35_other'], axis=1, inplace = True)"
   ]
  },
  {
   "cell_type": "code",
   "execution_count": 40,
   "metadata": {},
   "outputs": [],
   "source": [
    "df_food.rename(columns = {0:'e_food/e_hfias/e25'}, inplace = True)"
   ]
  },
  {
   "cell_type": "code",
   "execution_count": 41,
   "metadata": {},
   "outputs": [],
   "source": [
    "# Filliing NaN values: all of NaNs are in 'How often did this happen?' columns,\n",
    "# ending on 'a' (like 'e_food/e_hfias/e33a' column) and it looks like the answer was 'I don't know'.\n",
    "# Keeping these columns instead of dropping them, filling 'no_inf' instead of NaNs.\n",
    "df_food.fillna('no_inf', inplace = True)"
   ]
  },
  {
   "cell_type": "code",
   "execution_count": 42,
   "metadata": {},
   "outputs": [
    {
     "name": "stdout",
     "output_type": "stream",
     "text": [
      "<class 'pandas.core.frame.DataFrame'>\n",
      "RangeIndex: 11260 entries, 0 to 11259\n",
      "Data columns (total 44 columns):\n",
      "e_food/e_fcs/e01       11260 non-null int64\n",
      "e_food/e_fcs/e02       11260 non-null int64\n",
      "e_food/e_fcs/e03       11260 non-null int64\n",
      "e_food/e_fcs/e04       11260 non-null int64\n",
      "e_food/e_fcs/e05       11260 non-null int64\n",
      "e_food/e_fcs/e06       11260 non-null int64\n",
      "e_food/e_fcs/e07       11260 non-null int64\n",
      "e_food/e_fcs/e08       11260 non-null int64\n",
      "e_food/e_fcs/e09       11260 non-null int64\n",
      "e_food/e_hdds/e10      11260 non-null object\n",
      "e_food/e_hdds/e11      11260 non-null object\n",
      "e_food/e_hdds/e12      11260 non-null object\n",
      "e_food/e_hdds/e13      11260 non-null object\n",
      "e_food/e_hdds/e14      11260 non-null object\n",
      "e_food/e_hdds/e15      11260 non-null object\n",
      "e_food/e_hdds/e16      11260 non-null object\n",
      "e_food/e_hdds/e17      11260 non-null object\n",
      "e_food/e_hdds/e18      11260 non-null object\n",
      "e_food/e_hdds/e19      11260 non-null object\n",
      "e_food/e_hdds/e20      11260 non-null object\n",
      "e_food/e_hdds/e21      11260 non-null object\n",
      "e_food/e_hdds/e22      11260 non-null object\n",
      "e_food/e_hdds/e23      11260 non-null object\n",
      "e_food/e_hdds/e24      11260 non-null object\n",
      "e_food/e_hfias/e25     11260 non-null object\n",
      "e_food/e_hfias/e25a    11260 non-null object\n",
      "e_food/e_hfias/e26     11260 non-null object\n",
      "e_food/e_hfias/e26a    11260 non-null object\n",
      "e_food/e_hfias/e27     11260 non-null object\n",
      "e_food/e_hfias/e27a    11260 non-null object\n",
      "e_food/e_hfias/e28     11260 non-null object\n",
      "e_food/e_hfias/e28a    11260 non-null object\n",
      "e_food/e_hfias/e29     11260 non-null object\n",
      "e_food/e_hfias/e29a    11260 non-null object\n",
      "e_food/e_hfias/e30     11260 non-null object\n",
      "e_food/e_hfias/e30a    11260 non-null object\n",
      "e_food/e_hfias/e31     11260 non-null object\n",
      "e_food/e_hfias/e31a    11260 non-null object\n",
      "e_food/e_hfias/e32     11260 non-null object\n",
      "e_food/e_hfias/e32a    11260 non-null object\n",
      "e_food/e_hfias/e33     11260 non-null object\n",
      "e_food/e_hfias/e33a    11260 non-null object\n",
      "e_food/e34             11260 non-null object\n",
      "e_food/e35             11260 non-null object\n",
      "dtypes: int64(9), object(35)\n",
      "memory usage: 3.8+ MB\n"
     ]
    }
   ],
   "source": [
    "df_food.info()"
   ]
  },
  {
   "cell_type": "code",
   "execution_count": 43,
   "metadata": {},
   "outputs": [
    {
     "name": "stdout",
     "output_type": "stream",
     "text": [
      "e_food/e_fcs/e01 [7, 3, 5, 6, 4, 1, 2, 0]\n",
      "e_food/e_fcs/e02 [7, 3, 2, 1, 0, 4, 5, 6]\n",
      "e_food/e_fcs/e03 [5, 4, 2, 3, 1, 0, 7, 6]\n",
      "e_food/e_fcs/e04 [4, 7, 0, 6, 3, 1, 5, 2]\n",
      "e_food/e_fcs/e05 [3, 2, 1, 0, 5, 4, 7, 6]\n",
      "e_food/e_fcs/e06 [3, 4, 0, 7, 5, 1, 6, 2]\n",
      "e_food/e_fcs/e07 [7, 6, 4, 0, 3, 5, 2, 1]\n",
      "e_food/e_fcs/e08 [7, 3, 5, 4, 6, 2, 0, 1]\n",
      "e_food/e_fcs/e09 [7, 4, 5, 0, 6, 3, 1, 2]\n",
      "e_food/e_hdds/e10 [1, 0, 'yes', 'no']\n",
      "e_food/e_hdds/e11 [1, 0, 'yes', 'no']\n",
      "e_food/e_hdds/e12 [0, 1, 'yes', 'no']\n",
      "e_food/e_hdds/e13 [1, 0, 'yes', 'no']\n",
      "e_food/e_hdds/e14 [0, 1, 'yes', 'no']\n",
      "e_food/e_hdds/e15 [0, 1, 'no', 'yes']\n",
      "e_food/e_hdds/e16 [1, 0, 'yes', 'no']\n",
      "e_food/e_hdds/e17 [0, 1, 'yes', 'no']\n",
      "e_food/e_hdds/e18 [0, 1, 'yes', 'no']\n",
      "e_food/e_hdds/e19 [0, 1, 'no', 'yes']\n",
      "e_food/e_hdds/e20 [0, 1, 'yes', 'no']\n",
      "e_food/e_hdds/e21 [0, 1, 'yes', 'no']\n",
      "e_food/e_hdds/e22 [1, 0, 'yes', 'no']\n",
      "e_food/e_hdds/e23 [1, 0, 'yes', 'no']\n",
      "e_food/e_hdds/e24 [1, 0, 'yes', 'no']\n",
      "e_food/e_hfias/e25 [0, 1, 'no', 'yes']\n",
      "e_food/e_hfias/e25a ['no_inf', 2, 3, 1, 'often', 'sometimes', 'rarely']\n",
      "e_food/e_hfias/e26 [0, 1, 'no', 'yes']\n",
      "e_food/e_hfias/e26a ['no_inf', 2, 1, 3, 'sometimes', 'rarely', 'often']\n",
      "e_food/e_hfias/e27 [0, 1, 'no', 'yes']\n",
      "e_food/e_hfias/e27a ['no_inf', 2, 3, 1, 'sometimes', 'rarely', 'often']\n",
      "e_food/e_hfias/e28 [0, 1, 'no', 'yes']\n",
      "e_food/e_hfias/e28a ['no_inf', 2, 3, 1, 'sometimes', 'rarely', 'often']\n",
      "e_food/e_hfias/e29 [0, 1, 'no', 'yes']\n",
      "e_food/e_hfias/e29a ['no_inf', 2, 1, 3, 'rarely', 'sometimes', 'often']\n",
      "e_food/e_hfias/e30 [0, 1, 'no', 'yes']\n",
      "e_food/e_hfias/e30a ['no_inf', 2, 3, 1, 'rarely', 'sometimes', 'often']\n",
      "e_food/e_hfias/e31 [0, 1, 'no', 'yes']\n",
      "e_food/e_hfias/e31a ['no_inf', 1, 2, 3, 'rarely', 'sometimes', 'often']\n",
      "e_food/e_hfias/e32 [0, 1, 'no', 'yes']\n",
      "e_food/e_hfias/e32a ['no_inf', 3, 1, 2, 'rarely', 'sometimes', 'often']\n",
      "e_food/e_hfias/e33 [0, 1, 'no', 'yes']\n",
      "e_food/e_hfias/e33a ['no_inf', 3, 1, 2, 'rarely', 'sometimes', 'often']\n",
      "e_food/e34 ['dec_femalehh', 'dec_malehh', 'other', 'dec_female']\n",
      "e_food/e35 ['food_taste food_price', 'food_price', 'food_taste food_health', 'food_taste', 'food_price food_health', 'food_health', 'food_taste food_price food_health', 'other', 'food_price other']\n"
     ]
    }
   ],
   "source": [
    "#checking that everything looks good\n",
    "for column in df_food.columns:\n",
    "    print(column, df_food[column].unique().tolist())"
   ]
  },
  {
   "cell_type": "code",
   "execution_count": 44,
   "metadata": {},
   "outputs": [],
   "source": [
    "df_food.loc[:,'e_food/e_hdds/e10':'e_food/e_hfias/e25'] = df_food.loc[:,'e_food/e_hdds/e10':'e_food/e_hfias/e25'].replace([0,1],['no','yes'])"
   ]
  },
  {
   "cell_type": "code",
   "execution_count": 45,
   "metadata": {},
   "outputs": [],
   "source": [
    "df_food.loc[:,['e_food/e_hfias/e26', 'e_food/e_hfias/e27', 'e_food/e_hfias/e28', 'e_food/e_hfias/e29', 'e_food/e_hfias/e30', 'e_food/e_hfias/e31', 'e_food/e_hfias/e32', 'e_food/e_hfias/e33']] = df_food.loc[:,['e_food/e_hfias/e26', 'e_food/e_hfias/e27', 'e_food/e_hfias/e28', 'e_food/e_hfias/e29', 'e_food/e_hfias/e30', 'e_food/e_hfias/e31', 'e_food/e_hfias/e32', 'e_food/e_hfias/e33']].replace([0,1],['no','yes'])"
   ]
  },
  {
   "cell_type": "code",
   "execution_count": 48,
   "metadata": {},
   "outputs": [
    {
     "name": "stdout",
     "output_type": "stream",
     "text": [
      "e_food/e_fcs/e01 [7, 3, 5, 6, 4, 1, 2, 0]\n",
      "e_food/e_fcs/e02 [7, 3, 2, 1, 0, 4, 5, 6]\n",
      "e_food/e_fcs/e03 [5, 4, 2, 3, 1, 0, 7, 6]\n",
      "e_food/e_fcs/e04 [4, 7, 0, 6, 3, 1, 5, 2]\n",
      "e_food/e_fcs/e05 [3, 2, 1, 0, 5, 4, 7, 6]\n",
      "e_food/e_fcs/e06 [3, 4, 0, 7, 5, 1, 6, 2]\n",
      "e_food/e_fcs/e07 [7, 6, 4, 0, 3, 5, 2, 1]\n",
      "e_food/e_fcs/e08 [7, 3, 5, 4, 6, 2, 0, 1]\n",
      "e_food/e_fcs/e09 [7, 4, 5, 0, 6, 3, 1, 2]\n",
      "e_food/e_hdds/e10 ['yes', 'no']\n",
      "e_food/e_hdds/e11 ['yes', 'no']\n",
      "e_food/e_hdds/e12 ['no', 'yes']\n",
      "e_food/e_hdds/e13 ['yes', 'no']\n",
      "e_food/e_hdds/e14 ['no', 'yes']\n",
      "e_food/e_hdds/e15 ['no', 'yes']\n",
      "e_food/e_hdds/e16 ['yes', 'no']\n",
      "e_food/e_hdds/e17 ['no', 'yes']\n",
      "e_food/e_hdds/e18 ['no', 'yes']\n",
      "e_food/e_hdds/e19 ['no', 'yes']\n",
      "e_food/e_hdds/e20 ['no', 'yes']\n",
      "e_food/e_hdds/e21 ['no', 'yes']\n",
      "e_food/e_hdds/e22 ['yes', 'no']\n",
      "e_food/e_hdds/e23 ['yes', 'no']\n",
      "e_food/e_hdds/e24 ['yes', 'no']\n",
      "e_food/e_hfias/e25 ['no', 'yes']\n",
      "e_food/e_hfias/e25a ['no_inf', 'sometimes', 'often', 'rarely']\n",
      "e_food/e_hfias/e26 ['no', 'yes']\n",
      "e_food/e_hfias/e26a ['no_inf', 'sometimes', 'rarely', 'often']\n",
      "e_food/e_hfias/e27 ['no', 'yes']\n",
      "e_food/e_hfias/e27a ['no_inf', 'sometimes', 'often', 'rarely']\n",
      "e_food/e_hfias/e28 ['no', 'yes']\n",
      "e_food/e_hfias/e28a ['no_inf', 'sometimes', 'often', 'rarely']\n",
      "e_food/e_hfias/e29 ['no', 'yes']\n",
      "e_food/e_hfias/e29a ['no_inf', 'sometimes', 'rarely', 'often']\n",
      "e_food/e_hfias/e30 ['no', 'yes']\n",
      "e_food/e_hfias/e30a ['no_inf', 'sometimes', 'often', 'rarely']\n",
      "e_food/e_hfias/e31 ['no', 'yes']\n",
      "e_food/e_hfias/e31a ['no_inf', 'rarely', 'sometimes', 'often']\n",
      "e_food/e_hfias/e32 ['no', 'yes']\n",
      "e_food/e_hfias/e32a ['no_inf', 'often', 'rarely', 'sometimes']\n",
      "e_food/e_hfias/e33 ['no', 'yes']\n",
      "e_food/e_hfias/e33a ['no_inf', 'often', 'rarely', 'sometimes']\n",
      "e_food/e34 ['dec_femalehh', 'dec_malehh', 'other', 'dec_female']\n",
      "e_food/e35 ['food_taste food_price', 'food_price', 'food_taste food_health', 'food_taste', 'food_price food_health', 'food_health', 'food_taste food_price food_health', 'other', 'food_price other']\n"
     ]
    }
   ],
   "source": [
    "for column in df_food.columns:\n",
    "    print(column, df_food[column].unique().tolist())"
   ]
  },
  {
   "cell_type": "code",
   "execution_count": 47,
   "metadata": {},
   "outputs": [],
   "source": [
    "df_food.loc[:,['e_food/e_hfias/e25a', 'e_food/e_hfias/e26a', 'e_food/e_hfias/e27a', 'e_food/e_hfias/e28a', 'e_food/e_hfias/e29a', 'e_food/e_hfias/e30a', 'e_food/e_hfias/e31a', 'e_food/e_hfias/e32a', 'e_food/e_hfias/e33a']] = df_food.loc[:,['e_food/e_hfias/e25a', 'e_food/e_hfias/e26a', 'e_food/e_hfias/e27a', 'e_food/e_hfias/e28a', 'e_food/e_hfias/e29a', 'e_food/e_hfias/e30a', 'e_food/e_hfias/e31a', 'e_food/e_hfias/e32a', 'e_food/e_hfias/e33a']].replace([1,2,3],['rarely', 'sometimes', 'often'])"
   ]
  },
  {
   "cell_type": "markdown",
   "metadata": {},
   "source": [
    "##### 5. Access to basic servicies"
   ]
  },
  {
   "cell_type": "code",
   "execution_count": 49,
   "metadata": {},
   "outputs": [],
   "source": [
    "df_access = df.loc[:, 'f_access/f_lit/f01a':'f_access/f11_other']"
   ]
  },
  {
   "cell_type": "code",
   "execution_count": 50,
   "metadata": {
    "scrolled": true
   },
   "outputs": [
    {
     "name": "stdout",
     "output_type": "stream",
     "text": [
      "<class 'pandas.core.frame.DataFrame'>\n",
      "RangeIndex: 11260 entries, 0 to 11259\n",
      "Data columns (total 82 columns):\n",
      "f_access/f_lit/f01a                   11103 non-null float64\n",
      "f_access/f_lit/f01b                   11043 non-null float64\n",
      "f_access/f_lit/f01a1                  238 non-null object\n",
      "f_access/f_lit/f01a1/ill_noschoolg    238 non-null float64\n",
      "f_access/f_lit/f01a1/ill_fam          238 non-null float64\n",
      "f_access/f_lit/f01a1/ill_money        238 non-null float64\n",
      "f_access/f_lit/f01a1/ill_far          238 non-null float64\n",
      "f_access/f_lit/f01a1/ill_workh        238 non-null float64\n",
      "f_access/f_lit/f01a1/ill_workinc      238 non-null float64\n",
      "f_access/f_lit/f01a1/ill_language     238 non-null float64\n",
      "f_access/f_lit/f01a1/ill_tazkera      238 non-null float64\n",
      "f_access/f_lit/f01a1/ill_neglected    238 non-null float64\n",
      "f_access/f_lit/f01a1/other            238 non-null float64\n",
      "f_access/f_lit/f01a1_other            0 non-null float64\n",
      "f_access/f_lit/f01b1                  42 non-null object\n",
      "f_access/f_lit/f01b1/ill_noschoolg    42 non-null float64\n",
      "f_access/f_lit/f01b1/ill_fam          42 non-null float64\n",
      "f_access/f_lit/f01b1/ill_money        42 non-null float64\n",
      "f_access/f_lit/f01b1/ill_far          42 non-null float64\n",
      "f_access/f_lit/f01b1/ill_workh        42 non-null float64\n",
      "f_access/f_lit/f01b1/ill_workinc      42 non-null float64\n",
      "f_access/f_lit/f01b1/ill_language     42 non-null float64\n",
      "f_access/f_lit/f01b1/ill_tazkera      42 non-null float64\n",
      "f_access/f_lit/f01b1/ill_neglected    42 non-null float64\n",
      "f_access/f_lit/f01b1/other            42 non-null float64\n",
      "f_access/f_lit/f01b1_other            0 non-null float64\n",
      "f_access/f02a                         11260 non-null object\n",
      "f_access/f02a_other                   925 non-null object\n",
      "f_access/f02b                         11260 non-null object\n",
      "f_access/f02b_other                   679 non-null object\n",
      "f_access/f03                          11260 non-null object\n",
      "f_access/f03a                         731 non-null object\n",
      "f_access/f03a_other                   15 non-null object\n",
      "f_access/f04                          11260 non-null object\n",
      "f_access/f04_other                    111 non-null object\n",
      "f_access/f04a                         9532 non-null object\n",
      "f_access/f04b                         955 non-null object\n",
      "f_access/f04c                         948 non-null object\n",
      "f_access/f04c_other                   6 non-null object\n",
      "f_access/f05                          11260 non-null object\n",
      "f_access/f05_other                    3 non-null object\n",
      "f_access/f06                          11260 non-null object\n",
      "f_access/f06a                         36 non-null object\n",
      "f_access/f06b                         11260 non-null object\n",
      "f_access/f06c                         11260 non-null object\n",
      "f_access/f07                          11260 non-null object\n",
      "f_access/f07a                         1538 non-null float64\n",
      "f_access/f07a1                        1421 non-null object\n",
      "f_access/f07a1/taz_useful             1421 non-null float64\n",
      "f_access/f07a1/taz_needed             1421 non-null float64\n",
      "f_access/f07a1/taz_expensive          1421 non-null float64\n",
      "f_access/f07a1/taz_knowledge          1421 non-null float64\n",
      "f_access/f07a1/taz_lengthy            1421 non-null float64\n",
      "f_access/f07a1/taz_origin             1421 non-null float64\n",
      "f_access/f07a1/other                  1421 non-null float64\n",
      "f_access/f07a1_other                  5 non-null object\n",
      "f_access/f07b                         1498 non-null float64\n",
      "f_access/f07b1                        1144 non-null object\n",
      "f_access/f07b1/taz_useful             1144 non-null float64\n",
      "f_access/f07b1/taz_needed             1144 non-null float64\n",
      "f_access/f07b1/taz_expensive          1144 non-null float64\n",
      "f_access/f07b1/taz_knowledge          1144 non-null float64\n",
      "f_access/f07b1/taz_lengthy            1144 non-null float64\n",
      "f_access/f07b1/taz_origin             1144 non-null float64\n",
      "f_access/f07b1/other                  1144 non-null float64\n",
      "f_access/f07b1_other                  17 non-null object\n",
      "f_access/f08                          1500 non-null object\n",
      "f_access/f09                          11260 non-null object\n",
      "f_access/f10                          11260 non-null object\n",
      "f_access/f10_other                    75 non-null object\n",
      "f_access/f11                          11260 non-null object\n",
      "f_access/f11/hissue_lack              11260 non-null bool\n",
      "f_access/f11/hissue_long              11260 non-null bool\n",
      "f_access/f11/hissue_cost              11260 non-null bool\n",
      "f_access/f11/hissue_qualified         11260 non-null bool\n",
      "f_access/f11/hissue_med               11260 non-null bool\n",
      "f_access/f11/hissue_femdoc            11260 non-null bool\n",
      "f_access/f11/hissue_femnurse          11260 non-null bool\n",
      "f_access/f11/hissue_all               11260 non-null bool\n",
      "f_access/f11/hissue_none              11260 non-null bool\n",
      "f_access/f11/other                    11260 non-null bool\n",
      "f_access/f11_other                    50 non-null object\n",
      "dtypes: bool(10), float64(40), object(32)\n",
      "memory usage: 6.3+ MB\n"
     ]
    }
   ],
   "source": [
    "df_access.info()"
   ]
  },
  {
   "cell_type": "code",
   "execution_count": 51,
   "metadata": {},
   "outputs": [],
   "source": [
    "df_access['f_access/f04a'].fillna('no_inf', inplace = True)"
   ]
  },
  {
   "cell_type": "code",
   "execution_count": 52,
   "metadata": {},
   "outputs": [],
   "source": [
    "df_access['f_access/f_lit/f01a'].fillna(df_access['f_access/f_lit/f01a'].median(axis=0), inplace = True)"
   ]
  },
  {
   "cell_type": "code",
   "execution_count": 53,
   "metadata": {},
   "outputs": [],
   "source": [
    "df_access['f_access/f_lit/f01b'].fillna(df_access['f_access/f_lit/f01b'].median(axis=0), inplace = True)"
   ]
  },
  {
   "cell_type": "code",
   "execution_count": 54,
   "metadata": {},
   "outputs": [],
   "source": [
    "list_all = []\n",
    "for col in df_access.columns:\n",
    "    col_val = df_access[col].notnull().sum()\n",
    "    if col_val == 11260:\n",
    "        list_all.append(col)\n",
    "    else:\n",
    "        continue"
   ]
  },
  {
   "cell_type": "code",
   "execution_count": 55,
   "metadata": {},
   "outputs": [
    {
     "data": {
      "text/plain": [
       "['f_access/f_lit/f01a',\n",
       " 'f_access/f_lit/f01b',\n",
       " 'f_access/f02a',\n",
       " 'f_access/f02b',\n",
       " 'f_access/f03',\n",
       " 'f_access/f04',\n",
       " 'f_access/f04a',\n",
       " 'f_access/f05',\n",
       " 'f_access/f06',\n",
       " 'f_access/f06b',\n",
       " 'f_access/f06c',\n",
       " 'f_access/f07',\n",
       " 'f_access/f09',\n",
       " 'f_access/f10',\n",
       " 'f_access/f11',\n",
       " 'f_access/f11/hissue_lack',\n",
       " 'f_access/f11/hissue_long',\n",
       " 'f_access/f11/hissue_cost',\n",
       " 'f_access/f11/hissue_qualified',\n",
       " 'f_access/f11/hissue_med',\n",
       " 'f_access/f11/hissue_femdoc',\n",
       " 'f_access/f11/hissue_femnurse',\n",
       " 'f_access/f11/hissue_all',\n",
       " 'f_access/f11/hissue_none',\n",
       " 'f_access/f11/other']"
      ]
     },
     "execution_count": 55,
     "metadata": {},
     "output_type": "execute_result"
    }
   ],
   "source": [
    "list_all"
   ]
  },
  {
   "cell_type": "code",
   "execution_count": 56,
   "metadata": {
    "scrolled": true
   },
   "outputs": [],
   "source": [
    "df_access = df_access.loc[:,['f_access/f_lit/f01a',\n",
    " 'f_access/f_lit/f01b',\n",
    " 'f_access/f02a',\n",
    " 'f_access/f02b',\n",
    " 'f_access/f03',\n",
    " 'f_access/f04',\n",
    " 'f_access/f04a',\n",
    " 'f_access/f05',\n",
    " 'f_access/f06',\n",
    " 'f_access/f06b',\n",
    " 'f_access/f06c',\n",
    " 'f_access/f07',\n",
    " 'f_access/f09',\n",
    " 'f_access/f10',\n",
    " 'f_access/f11']]"
   ]
  },
  {
   "cell_type": "code",
   "execution_count": 57,
   "metadata": {},
   "outputs": [],
   "source": [
    "#converting f_access/f_lit/f01a, f_access/f_lit/f01b columns from float to int\n",
    "df_access['f_access/f_lit/f01a'] = df_access['f_access/f_lit/f01a'].astype('int64')\n",
    "df_access['f_access/f_lit/f01b'] = df_access['f_access/f_lit/f01b'].astype('int64')"
   ]
  },
  {
   "cell_type": "code",
   "execution_count": 58,
   "metadata": {},
   "outputs": [
    {
     "name": "stdout",
     "output_type": "stream",
     "text": [
      "<class 'pandas.core.frame.DataFrame'>\n",
      "RangeIndex: 11260 entries, 0 to 11259\n",
      "Data columns (total 15 columns):\n",
      "f_access/f_lit/f01a    11260 non-null int64\n",
      "f_access/f_lit/f01b    11260 non-null int64\n",
      "f_access/f02a          11260 non-null object\n",
      "f_access/f02b          11260 non-null object\n",
      "f_access/f03           11260 non-null object\n",
      "f_access/f04           11260 non-null object\n",
      "f_access/f04a          11260 non-null object\n",
      "f_access/f05           11260 non-null object\n",
      "f_access/f06           11260 non-null object\n",
      "f_access/f06b          11260 non-null object\n",
      "f_access/f06c          11260 non-null object\n",
      "f_access/f07           11260 non-null object\n",
      "f_access/f09           11260 non-null object\n",
      "f_access/f10           11260 non-null object\n",
      "f_access/f11           11260 non-null object\n",
      "dtypes: int64(2), object(13)\n",
      "memory usage: 1.3+ MB\n"
     ]
    }
   ],
   "source": [
    "df_access.info()"
   ]
  },
  {
   "cell_type": "code",
   "execution_count": 59,
   "metadata": {},
   "outputs": [
    {
     "name": "stdout",
     "output_type": "stream",
     "text": [
      "f_access/f_lit/f01a [3, 4, 0, 2, 1, 5, 6, 8, 11, 7, 10]\n",
      "f_access/f_lit/f01b [4, 1, 9, 3, 2, 0, 6, 5, 7, 8, 12, 11]\n",
      "f_access/f02a ['edu_girl', 'edu_boy', 'other', 'edu_hhhf', 'edu_hhhm', 'edu_adm', 'edu_adf']\n",
      "f_access/f02b ['sch_high', 'sch_post', 'sch_uni', 'sch_prim', 'sch_dipl', 'sch_sec', 'other', 'sch_no', 'sch_madr']\n",
      "f_access/f03 ['yes', 'no']\n",
      "f_access/f04 ['water_impr', 'water_tank', 'other', 'water_unimpr']\n",
      "f_access/f04a ['yes', 'no', 'no_inf']\n",
      "f_access/f05 ['w_good', 'w_idk', 'w_bad', 'other']\n",
      "f_access/f06 ['lat_trad', 'lat_impr', 'lat_none']\n",
      "f_access/f06b ['no', 'yes']\n",
      "f_access/f06c ['no', 'yes']\n",
      "f_access/f07 ['yes', 'no']\n",
      "f_access/f09 ['minh_mid', 'minh_more', 'minh_low', 'minh_no']\n",
      "f_access/f10 ['health_private', 'health_basic', 'health_district', 'other']\n",
      "f_access/f11 ['hissue_none', 'hissue_lack hissue_cost hissue_qualified hissue_femnurse', 'hissue_lack hissue_med', 'hissue_med', 'hissue_qualified', 'hissue_cost', 'hissue_cost hissue_qualified hissue_femnurse', 'hissue_cost hissue_qualified', 'hissue_cost hissue_med', 'hissue_med hissue_femnurse', 'hissue_med hissue_femdoc hissue_femnurse', 'hissue_long hissue_qualified', 'hissue_all', 'other', 'hissue_long', 'hissue_cost hissue_femdoc', 'hissue_cost hissue_med hissue_femdoc hissue_femnurse', 'hissue_cost hissue_qualified hissue_med hissue_femdoc', 'hissue_cost hissue_med hissue_femnurse', 'hissue_qualified hissue_med hissue_femdoc hissue_femnurse', 'hissue_cost hissue_qualified hissue_med hissue_femdoc hissue_femnurse', 'hissue_lack hissue_cost hissue_qualified', 'hissue_lack hissue_cost', 'hissue_lack hissue_qualified', 'hissue_lack hissue_long', 'hissue_long hissue_cost', 'hissue_long hissue_med', 'hissue_lack hissue_femnurse', 'hissue_long hissue_cost hissue_qualified hissue_med', 'hissue_long hissue_cost hissue_qualified', 'hissue_long hissue_cost hissue_med hissue_femdoc hissue_femnurse', 'hissue_lack hissue_long hissue_qualified hissue_med hissue_femnurse', 'hissue_long hissue_cost hissue_qualified hissue_med hissue_femdoc hissue_femnurse', 'hissue_cost hissue_qualified hissue_med', 'hissue_lack hissue_long hissue_cost', 'hissue_lack hissue_cost hissue_femdoc', 'hissue_long hissue_cost hissue_femdoc', 'hissue_cost hissue_qualified hissue_femdoc', 'hissue_lack hissue_qualified hissue_med', 'hissue_cost hissue_femdoc hissue_femnurse', 'hissue_qualified hissue_med', 'hissue_femdoc', 'hissue_qualified hissue_med hissue_femdoc', 'hissue_long hissue_cost hissue_qualified hissue_med hissue_femdoc', 'hissue_long hissue_cost hissue_femnurse', 'hissue_cost hissue_none', 'hissue_lack hissue_long hissue_cost hissue_femdoc', 'hissue_lack hissue_long hissue_cost hissue_qualified hissue_med', 'hissue_long hissue_femdoc', 'hissue_lack hissue_femdoc', 'hissue_femdoc hissue_femnurse', 'hissue_lack', 'hissue_femnurse', 'hissue_lack hissue_long hissue_cost hissue_qualified', 'hissue_qualified hissue_femnurse', 'hissue_lack hissue_femdoc hissue_femnurse', 'hissue_femnurse hissue_all', 'hissue_long hissue_qualified hissue_med', 'hissue_lack hissue_femnurse hissue_all', 'hissue_cost hissue_qualified hissue_med hissue_femnurse', 'hissue_long hissue_qualified hissue_med hissue_femdoc', 'hissue_qualified hissue_med hissue_femdoc hissue_all', 'hissue_lack hissue_cost hissue_qualified hissue_med hissue_femdoc', 'hissue_long hissue_none', 'hissue_qualified hissue_none', 'hissue_cost hissue_med hissue_femdoc', 'hissue_med hissue_femdoc', 'hissue_cost hissue_qualified hissue_femdoc hissue_femnurse', 'hissue_qualified hissue_femdoc', 'hissue_cost hissue_all', 'hissue_lack hissue_long hissue_cost hissue_qualified hissue_femnurse', 'hissue_long hissue_femnurse', 'hissue_qualified hissue_med hissue_femnurse', 'hissue_qualified hissue_femdoc hissue_femnurse', 'hissue_long hissue_cost hissue_none', 'hissue_femdoc hissue_femnurse hissue_all', 'hissue_cost hissue_femnurse', 'hissue_long hissue_cost hissue_med', 'hissue_lack hissue_long hissue_cost hissue_med', 'hissue_qualified hissue_med hissue_none', 'hissue_qualified hissue_med hissue_femdoc hissue_femnurse hissue_all', 'hissue_med hissue_femdoc hissue_femnurse hissue_all', 'hissue_cost hissue_qualified hissue_med hissue_femdoc hissue_all', 'hissue_long hissue_qualified hissue_med hissue_femnurse', 'hissue_long hissue_femdoc hissue_femnurse', 'hissue_qualified hissue_femdoc hissue_femnurse hissue_all', 'hissue_lack hissue_cost hissue_femnurse', 'hissue_lack hissue_long hissue_qualified', 'hissue_lack hissue_med hissue_femdoc', 'hissue_lack hissue_long hissue_qualified hissue_femdoc', 'hissue_lack hissue_none', 'hissue_cost hissue_med hissue_femdoc hissue_all', 'hissue_med hissue_femdoc hissue_all', 'hissue_lack hissue_qualified hissue_femdoc hissue_femnurse', 'hissue_lack hissue_med hissue_femdoc hissue_femnurse hissue_all', 'hissue_lack hissue_qualified hissue_med hissue_none', 'hissue_lack hissue_long hissue_cost hissue_qualified hissue_med hissue_femdoc', 'hissue_all hissue_none', 'hissue_cost hissue_femnurse hissue_all', 'hissue_lack hissue_qualified hissue_none', 'hissue_lack hissue_med hissue_femnurse', 'hissue_long hissue_qualified hissue_femdoc', 'hissue_long hissue_cost hissue_qualified hissue_femdoc', 'hissue_lack hissue_cost hissue_qualified hissue_med hissue_femdoc hissue_femnurse', 'hissue_lack hissue_qualified hissue_femdoc', 'hissue_lack hissue_long hissue_med', 'hissue_lack hissue_cost hissue_femdoc hissue_femnurse', 'hissue_long hissue_med hissue_femdoc', 'hissue_long hissue_qualified hissue_med hissue_femdoc hissue_femnurse', 'hissue_long hissue_cost hissue_all', 'hissue_cost hissue_med hissue_femnurse hissue_all', 'hissue_lack hissue_cost hissue_none', 'hissue_lack hissue_qualified hissue_femnurse', 'hissue_qualified hissue_femdoc hissue_all', 'hissue_cost hissue_qualified hissue_femdoc hissue_all', 'hissue_qualified hissue_med hissue_femnurse hissue_all', 'hissue_long hissue_qualified hissue_femdoc hissue_femnurse', 'hissue_cost hissue_qualified hissue_med hissue_femdoc hissue_femnurse hissue_all', 'hissue_lack hissue_cost hissue_qualified hissue_med', 'hissue_cost hissue_qualified hissue_med hissue_femnurse hissue_all', 'hissue_long hissue_cost hissue_med hissue_femdoc', 'hissue_femdoc hissue_all', 'hissue_lack hissue_cost hissue_med hissue_femdoc', 'hissue_cost hissue_qualified hissue_femdoc hissue_femnurse hissue_all', 'hissue_long hissue_cost hissue_qualified hissue_femdoc hissue_femnurse', 'hissue_qualified hissue_med hissue_femdoc hissue_none', 'hissue_med hissue_all', 'hissue_long hissue_med hissue_femnurse', 'hissue_cost hissue_qualified hissue_med hissue_none', 'hissue_long other']\n"
     ]
    }
   ],
   "source": [
    "#checking that everything looks good\n",
    "for column in df_access.columns:\n",
    "    print(column, df_access[column].unique().tolist())"
   ]
  },
  {
   "cell_type": "markdown",
   "metadata": {},
   "source": [
    "##### 6. Assets"
   ]
  },
  {
   "cell_type": "code",
   "execution_count": 60,
   "metadata": {},
   "outputs": [],
   "source": [
    "df_assets = df.loc[:, 'g_social/g01':'h_assets/h23']"
   ]
  },
  {
   "cell_type": "code",
   "execution_count": 61,
   "metadata": {},
   "outputs": [
    {
     "name": "stdout",
     "output_type": "stream",
     "text": [
      "<class 'pandas.core.frame.DataFrame'>\n",
      "RangeIndex: 11260 entries, 0 to 11259\n",
      "Data columns (total 39 columns):\n",
      "g_social/g01                      11260 non-null object\n",
      "h_assets/h01                      11260 non-null object\n",
      "h_assets/h01_other                344 non-null object\n",
      "h_assets/h01a                     11260 non-null int64\n",
      "h_assets/h02                      11260 non-null object\n",
      "h_assets/h03                      1387 non-null object\n",
      "h_assets/h03_other                0 non-null float64\n",
      "h_assets/h04                      11260 non-null object\n",
      "h_assets/h04/livestock_cattle     11260 non-null bool\n",
      "h_assets/h04/livestock_buffalo    11260 non-null bool\n",
      "h_assets/h04/livestock_horse      11260 non-null bool\n",
      "h_assets/h04/livestock_donkey     11260 non-null bool\n",
      "h_assets/h04/livestock_mule       11260 non-null bool\n",
      "h_assets/h04/livestock_poultry    11260 non-null bool\n",
      "h_assets/h04/livestock_goat       11260 non-null bool\n",
      "h_assets/h04/livestock_sheep      11260 non-null bool\n",
      "h_assets/h04/livestock_none       11260 non-null bool\n",
      "h_assets/h04/other                11260 non-null bool\n",
      "h_assets/h04_other                134 non-null object\n",
      "h_assets/h_dai/h_dai_lab          0 non-null float64\n",
      "h_assets/h_dai/h05                11260 non-null object\n",
      "h_assets/h_dai/h06                11260 non-null object\n",
      "h_assets/h_dai/h07                11260 non-null object\n",
      "h_assets/h_dai/h08                11260 non-null object\n",
      "h_assets/h_dai/h09                11260 non-null object\n",
      "h_assets/h_dai/h10                11260 non-null object\n",
      "h_assets/h_dai/h11                11260 non-null object\n",
      "h_assets/h_dai/h12                11260 non-null object\n",
      "h_assets/h_dai/h13                11260 non-null object\n",
      "h_assets/h_dai/h14                11260 non-null object\n",
      "h_assets/h_dai/h15                11260 non-null object\n",
      "h_assets/h_dai/h16                11260 non-null object\n",
      "h_assets/h_dai/h17                11260 non-null object\n",
      "h_assets/h18                      11260 non-null object\n",
      "h_assets/h19                      11260 non-null object\n",
      "h_assets/h20                      11260 non-null object\n",
      "h_assets/h21                      11260 non-null object\n",
      "h_assets/h22                      11260 non-null object\n",
      "h_assets/h23                      11260 non-null object\n",
      "dtypes: bool(10), float64(2), int64(1), object(26)\n",
      "memory usage: 2.6+ MB\n"
     ]
    }
   ],
   "source": [
    "df_assets.info()"
   ]
  },
  {
   "cell_type": "code",
   "execution_count": 62,
   "metadata": {},
   "outputs": [
    {
     "data": {
      "text/html": [
       "<div>\n",
       "<style scoped>\n",
       "    .dataframe tbody tr th:only-of-type {\n",
       "        vertical-align: middle;\n",
       "    }\n",
       "\n",
       "    .dataframe tbody tr th {\n",
       "        vertical-align: top;\n",
       "    }\n",
       "\n",
       "    .dataframe thead th {\n",
       "        text-align: right;\n",
       "    }\n",
       "</style>\n",
       "<table border=\"1\" class=\"dataframe\">\n",
       "  <thead>\n",
       "    <tr style=\"text-align: right;\">\n",
       "      <th></th>\n",
       "      <th>g_social/g01</th>\n",
       "      <th>h_assets/h01</th>\n",
       "      <th>h_assets/h01_other</th>\n",
       "      <th>h_assets/h01a</th>\n",
       "      <th>h_assets/h02</th>\n",
       "      <th>h_assets/h03</th>\n",
       "      <th>h_assets/h03_other</th>\n",
       "      <th>h_assets/h04</th>\n",
       "      <th>h_assets/h04/livestock_cattle</th>\n",
       "      <th>h_assets/h04/livestock_buffalo</th>\n",
       "      <th>...</th>\n",
       "      <th>h_assets/h_dai/h14</th>\n",
       "      <th>h_assets/h_dai/h15</th>\n",
       "      <th>h_assets/h_dai/h16</th>\n",
       "      <th>h_assets/h_dai/h17</th>\n",
       "      <th>h_assets/h18</th>\n",
       "      <th>h_assets/h19</th>\n",
       "      <th>h_assets/h20</th>\n",
       "      <th>h_assets/h21</th>\n",
       "      <th>h_assets/h22</th>\n",
       "      <th>h_assets/h23</th>\n",
       "    </tr>\n",
       "  </thead>\n",
       "  <tbody>\n",
       "    <tr>\n",
       "      <th>0</th>\n",
       "      <td>no</td>\n",
       "      <td>shelter_own</td>\n",
       "      <td>NaN</td>\n",
       "      <td>40</td>\n",
       "      <td>yes</td>\n",
       "      <td>deed_formal</td>\n",
       "      <td>NaN</td>\n",
       "      <td>livestock_none</td>\n",
       "      <td>False</td>\n",
       "      <td>False</td>\n",
       "      <td>...</td>\n",
       "      <td>yes</td>\n",
       "      <td>yes</td>\n",
       "      <td>yes</td>\n",
       "      <td>no</td>\n",
       "      <td>yes</td>\n",
       "      <td>yes</td>\n",
       "      <td>no</td>\n",
       "      <td>no</td>\n",
       "      <td>yes</td>\n",
       "      <td>yes</td>\n",
       "    </tr>\n",
       "    <tr>\n",
       "      <th>1</th>\n",
       "      <td>no</td>\n",
       "      <td>shelter_own</td>\n",
       "      <td>NaN</td>\n",
       "      <td>30</td>\n",
       "      <td>no</td>\n",
       "      <td>NaN</td>\n",
       "      <td>NaN</td>\n",
       "      <td>livestock_none</td>\n",
       "      <td>False</td>\n",
       "      <td>False</td>\n",
       "      <td>...</td>\n",
       "      <td>no</td>\n",
       "      <td>no</td>\n",
       "      <td>no</td>\n",
       "      <td>no</td>\n",
       "      <td>yes</td>\n",
       "      <td>yes</td>\n",
       "      <td>no</td>\n",
       "      <td>no</td>\n",
       "      <td>no</td>\n",
       "      <td>yes</td>\n",
       "    </tr>\n",
       "    <tr>\n",
       "      <th>2</th>\n",
       "      <td>no</td>\n",
       "      <td>shelter_own</td>\n",
       "      <td>NaN</td>\n",
       "      <td>30</td>\n",
       "      <td>no</td>\n",
       "      <td>NaN</td>\n",
       "      <td>NaN</td>\n",
       "      <td>livestock_none</td>\n",
       "      <td>False</td>\n",
       "      <td>False</td>\n",
       "      <td>...</td>\n",
       "      <td>yes</td>\n",
       "      <td>yes</td>\n",
       "      <td>yes</td>\n",
       "      <td>no</td>\n",
       "      <td>yes</td>\n",
       "      <td>yes</td>\n",
       "      <td>no</td>\n",
       "      <td>no</td>\n",
       "      <td>no</td>\n",
       "      <td>yes</td>\n",
       "    </tr>\n",
       "    <tr>\n",
       "      <th>3</th>\n",
       "      <td>no</td>\n",
       "      <td>shelter_house</td>\n",
       "      <td>NaN</td>\n",
       "      <td>20</td>\n",
       "      <td>no</td>\n",
       "      <td>NaN</td>\n",
       "      <td>NaN</td>\n",
       "      <td>livestock_none</td>\n",
       "      <td>False</td>\n",
       "      <td>False</td>\n",
       "      <td>...</td>\n",
       "      <td>no</td>\n",
       "      <td>no</td>\n",
       "      <td>no</td>\n",
       "      <td>no</td>\n",
       "      <td>yes</td>\n",
       "      <td>no</td>\n",
       "      <td>no</td>\n",
       "      <td>no</td>\n",
       "      <td>no</td>\n",
       "      <td>yes</td>\n",
       "    </tr>\n",
       "    <tr>\n",
       "      <th>4</th>\n",
       "      <td>no</td>\n",
       "      <td>shelter_own</td>\n",
       "      <td>NaN</td>\n",
       "      <td>20</td>\n",
       "      <td>no</td>\n",
       "      <td>NaN</td>\n",
       "      <td>NaN</td>\n",
       "      <td>livestock_none</td>\n",
       "      <td>False</td>\n",
       "      <td>False</td>\n",
       "      <td>...</td>\n",
       "      <td>no</td>\n",
       "      <td>no</td>\n",
       "      <td>no</td>\n",
       "      <td>no</td>\n",
       "      <td>yes</td>\n",
       "      <td>yes</td>\n",
       "      <td>no</td>\n",
       "      <td>no</td>\n",
       "      <td>yes</td>\n",
       "      <td>yes</td>\n",
       "    </tr>\n",
       "  </tbody>\n",
       "</table>\n",
       "<p>5 rows × 39 columns</p>\n",
       "</div>"
      ],
      "text/plain": [
       "  g_social/g01   h_assets/h01 h_assets/h01_other  h_assets/h01a h_assets/h02  \\\n",
       "0           no    shelter_own                NaN             40          yes   \n",
       "1           no    shelter_own                NaN             30           no   \n",
       "2           no    shelter_own                NaN             30           no   \n",
       "3           no  shelter_house                NaN             20           no   \n",
       "4           no    shelter_own                NaN             20           no   \n",
       "\n",
       "  h_assets/h03  h_assets/h03_other    h_assets/h04  \\\n",
       "0  deed_formal                 NaN  livestock_none   \n",
       "1          NaN                 NaN  livestock_none   \n",
       "2          NaN                 NaN  livestock_none   \n",
       "3          NaN                 NaN  livestock_none   \n",
       "4          NaN                 NaN  livestock_none   \n",
       "\n",
       "   h_assets/h04/livestock_cattle  h_assets/h04/livestock_buffalo  ...  \\\n",
       "0                          False                           False  ...   \n",
       "1                          False                           False  ...   \n",
       "2                          False                           False  ...   \n",
       "3                          False                           False  ...   \n",
       "4                          False                           False  ...   \n",
       "\n",
       "   h_assets/h_dai/h14  h_assets/h_dai/h15  h_assets/h_dai/h16  \\\n",
       "0                 yes                 yes                 yes   \n",
       "1                  no                  no                  no   \n",
       "2                 yes                 yes                 yes   \n",
       "3                  no                  no                  no   \n",
       "4                  no                  no                  no   \n",
       "\n",
       "   h_assets/h_dai/h17  h_assets/h18  h_assets/h19  h_assets/h20  h_assets/h21  \\\n",
       "0                  no           yes           yes            no            no   \n",
       "1                  no           yes           yes            no            no   \n",
       "2                  no           yes           yes            no            no   \n",
       "3                  no           yes            no            no            no   \n",
       "4                  no           yes           yes            no            no   \n",
       "\n",
       "  h_assets/h22  h_assets/h23  \n",
       "0          yes           yes  \n",
       "1           no           yes  \n",
       "2           no           yes  \n",
       "3           no           yes  \n",
       "4          yes           yes  \n",
       "\n",
       "[5 rows x 39 columns]"
      ]
     },
     "execution_count": 62,
     "metadata": {},
     "output_type": "execute_result"
    }
   ],
   "source": [
    "df_assets.head()"
   ]
  },
  {
   "cell_type": "code",
   "execution_count": 63,
   "metadata": {},
   "outputs": [],
   "source": [
    "# dropping empty or duplicated columns\n",
    "df_assets.drop(['h_assets/h01_other', 'h_assets/h03_other', \n",
    "'h_assets/h04/livestock_cattle', 'h_assets/h04/livestock_buffalo',\n",
    "'h_assets/h04/livestock_horse', 'h_assets/h04/livestock_donkey',\n",
    "'h_assets/h04/livestock_mule', 'h_assets/h04/livestock_poultry',\n",
    "'h_assets/h04/livestock_goat', 'h_assets/h04/livestock_sheep',\n",
    "'h_assets/h04/livestock_none','h_assets/h04/other',\n",
    "'h_assets/h04_other','h_assets/h_dai/h_dai_lab'], axis=1, inplace = True)"
   ]
  },
  {
   "cell_type": "code",
   "execution_count": 64,
   "metadata": {},
   "outputs": [
    {
     "data": {
      "text/plain": [
       "0    deed_formal\n",
       "dtype: object"
      ]
     },
     "execution_count": 64,
     "metadata": {},
     "output_type": "execute_result"
    }
   ],
   "source": [
    "# the most common value of 'h_assets/h03'\n",
    "df_assets['h_assets/h03'].mode(dropna=True)"
   ]
  },
  {
   "cell_type": "code",
   "execution_count": 65,
   "metadata": {
    "scrolled": true
   },
   "outputs": [],
   "source": [
    "# For 'yes' values in 'h_assets/h02'(Do you own land?) \n",
    "# fill NaN values in 'h_assets/h03'(Do you have a land deed for that land?) \n",
    "# with 'deed_formal'.\n",
    "\n",
    "df_assets.loc[(df_assets['h_assets/h02']=='yes') & (df_assets['h_assets/h03'].isnull()), 'h_assets/h03']='deed_formal'"
   ]
  },
  {
   "cell_type": "code",
   "execution_count": 66,
   "metadata": {},
   "outputs": [],
   "source": [
    "# For 'no' values in 'h_assets/h02'(Do you own land?) \n",
    "# fill NaN values in 'h_assets/h03'(Do you have a land deed for that land?) \n",
    "# with 'na_no_land'(not applicable, no land).\n",
    "\n",
    "df_assets.loc[(df_assets['h_assets/h02']=='no') & (df_assets['h_assets/h03'].isnull()), 'h_assets/h03']='na_no_land'"
   ]
  },
  {
   "cell_type": "code",
   "execution_count": 67,
   "metadata": {
    "scrolled": true
   },
   "outputs": [
    {
     "name": "stdout",
     "output_type": "stream",
     "text": [
      "<class 'pandas.core.frame.DataFrame'>\n",
      "RangeIndex: 11260 entries, 0 to 11259\n",
      "Data columns (total 25 columns):\n",
      "g_social/g01          11260 non-null object\n",
      "h_assets/h01          11260 non-null object\n",
      "h_assets/h01a         11260 non-null int64\n",
      "h_assets/h02          11260 non-null object\n",
      "h_assets/h03          11260 non-null object\n",
      "h_assets/h04          11260 non-null object\n",
      "h_assets/h_dai/h05    11260 non-null object\n",
      "h_assets/h_dai/h06    11260 non-null object\n",
      "h_assets/h_dai/h07    11260 non-null object\n",
      "h_assets/h_dai/h08    11260 non-null object\n",
      "h_assets/h_dai/h09    11260 non-null object\n",
      "h_assets/h_dai/h10    11260 non-null object\n",
      "h_assets/h_dai/h11    11260 non-null object\n",
      "h_assets/h_dai/h12    11260 non-null object\n",
      "h_assets/h_dai/h13    11260 non-null object\n",
      "h_assets/h_dai/h14    11260 non-null object\n",
      "h_assets/h_dai/h15    11260 non-null object\n",
      "h_assets/h_dai/h16    11260 non-null object\n",
      "h_assets/h_dai/h17    11260 non-null object\n",
      "h_assets/h18          11260 non-null object\n",
      "h_assets/h19          11260 non-null object\n",
      "h_assets/h20          11260 non-null object\n",
      "h_assets/h21          11260 non-null object\n",
      "h_assets/h22          11260 non-null object\n",
      "h_assets/h23          11260 non-null object\n",
      "dtypes: int64(1), object(24)\n",
      "memory usage: 2.1+ MB\n"
     ]
    }
   ],
   "source": [
    "df_assets.info()"
   ]
  },
  {
   "cell_type": "code",
   "execution_count": 68,
   "metadata": {},
   "outputs": [
    {
     "name": "stdout",
     "output_type": "stream",
     "text": [
      "g_social/g01 ['no', 'yes']\n",
      "h_assets/h01 ['shelter_own', 'shelter_house', 'shelter_rented', 'shelter_makeshift', 'shelter_public', 'other', 'shelter_sharing', 'shelter_open', 'shelter_self', 'shelter_tent']\n",
      "h_assets/h01a [40, 30, 20, 4, 1, 0, 2, 3, 50, 10, 6, 5, 9, 15, 500, 100, 150, 8, 70, 12, 7, 13, 14, 28, 25, 29, 16, 35, 11, 17, 24, 22, 19, 18, 8000, 23, 60, 200, 7000, 45, 79, 55, 21, 110, 32, 80, 27, 63, 69, 74, 41, 5000, 51, 66, 53, 72, 10000, 47, 36, 33, 46, 26, 42, 1000]\n",
      "h_assets/h02 ['yes', 'no']\n",
      "h_assets/h03 ['deed_formal', 'na_no_land', 'deed_informal', 'deed_no', 'deed_idk']\n",
      "h_assets/h04 ['livestock_none', 'livestock_buffalo', 'livestock_poultry', 'livestock_poultry other', 'other', 'livestock_sheep livestock_none', 'livestock_sheep', 'livestock_goat livestock_sheep', 'livestock_horse livestock_goat livestock_sheep', 'livestock_goat', 'livestock_poultry livestock_none', 'livestock_cattle', 'livestock_buffalo livestock_sheep', 'livestock_goat livestock_none', 'livestock_horse', 'livestock_donkey', 'livestock_buffalo livestock_goat livestock_sheep', 'livestock_mule livestock_none', 'livestock_buffalo livestock_donkey other', 'livestock_cattle livestock_none', 'livestock_buffalo other', 'livestock_buffalo livestock_none', 'livestock_buffalo livestock_sheep livestock_none', 'livestock_cattle livestock_goat livestock_sheep', 'livestock_buffalo livestock_poultry', 'livestock_mule', 'livestock_donkey livestock_goat', 'livestock_buffalo livestock_horse livestock_donkey livestock_poultry livestock_goat livestock_sheep', 'livestock_buffalo livestock_donkey', 'livestock_buffalo livestock_mule', 'livestock_horse livestock_mule', 'livestock_horse livestock_donkey', 'livestock_buffalo livestock_horse livestock_mule', 'livestock_none other']\n",
      "h_assets/h_dai/h05 ['yes', 'no']\n",
      "h_assets/h_dai/h06 ['yes', 'no']\n",
      "h_assets/h_dai/h07 ['yes', 'no']\n",
      "h_assets/h_dai/h08 ['yes', 'no']\n",
      "h_assets/h_dai/h09 ['no', 'yes']\n",
      "h_assets/h_dai/h10 ['yes', 'no']\n",
      "h_assets/h_dai/h11 ['yes', 'no']\n",
      "h_assets/h_dai/h12 ['yes', 'no']\n",
      "h_assets/h_dai/h13 ['yes', 'no']\n",
      "h_assets/h_dai/h14 ['yes', 'no']\n",
      "h_assets/h_dai/h15 ['yes', 'no']\n",
      "h_assets/h_dai/h16 ['yes', 'no']\n",
      "h_assets/h_dai/h17 ['no', 'yes']\n",
      "h_assets/h18 ['yes', 'no']\n",
      "h_assets/h19 ['yes', 'no']\n",
      "h_assets/h20 ['no', 'yes']\n",
      "h_assets/h21 ['no', 'yes']\n",
      "h_assets/h22 ['yes', 'no']\n",
      "h_assets/h23 ['yes', 'no']\n"
     ]
    }
   ],
   "source": [
    "#checking that everything looks good\n",
    "for column in df_assets.columns:\n",
    "    print(column, df_assets[column].unique().tolist())"
   ]
  },
  {
   "cell_type": "markdown",
   "metadata": {},
   "source": [
    "##### 7. Adaptive Capacity"
   ]
  },
  {
   "cell_type": "code",
   "execution_count": 69,
   "metadata": {
    "scrolled": false
   },
   "outputs": [
    {
     "name": "stdout",
     "output_type": "stream",
     "text": [
      "<class 'pandas.core.frame.DataFrame'>\n",
      "RangeIndex: 11260 entries, 0 to 11259\n",
      "Data columns (total 58 columns):\n",
      "i_adaptive/i01                      11260 non-null int64\n",
      "i_adaptive/i01income_count          11260 non-null int64\n",
      "i_adaptive/i04                      11260 non-null int64\n",
      "i_adaptive/i05                      11260 non-null object\n",
      "i_adaptive/i05a                     2101 non-null float64\n",
      "i_adaptive/i05a1                    929 non-null object\n",
      "i_adaptive/i05a1/school_work        929 non-null float64\n",
      "i_adaptive/i05a1/school_document    929 non-null float64\n",
      "i_adaptive/i05a1/school_far         929 non-null float64\n",
      "i_adaptive/i05a1/school_ill         929 non-null float64\n",
      "i_adaptive/i05a1/school_useful      929 non-null float64\n",
      "i_adaptive/i05a1/school_monet       929 non-null float64\n",
      "i_adaptive/i05a1/school_language    929 non-null float64\n",
      "i_adaptive/i05a1/school_allow       929 non-null float64\n",
      "i_adaptive/i05a1/other              929 non-null float64\n",
      "i_adaptive/i05a1_other              120 non-null object\n",
      "i_adaptive/i05b                     1991 non-null float64\n",
      "i_adaptive/i05b1                    758 non-null object\n",
      "i_adaptive/i05b1/school_work        758 non-null float64\n",
      "i_adaptive/i05b1/school_document    758 non-null float64\n",
      "i_adaptive/i05b1/school_far         758 non-null float64\n",
      "i_adaptive/i05b1/school_ill         758 non-null float64\n",
      "i_adaptive/i05b1/school_useful      758 non-null float64\n",
      "i_adaptive/i05b1/school_monet       758 non-null float64\n",
      "i_adaptive/i05b1/school_language    758 non-null float64\n",
      "i_adaptive/i05b1/school_allow       758 non-null float64\n",
      "i_adaptive/i05b1/other              758 non-null float64\n",
      "i_adaptive/i05b1_other              141 non-null object\n",
      "i_adaptive/i06                      11260 non-null object\n",
      "i_adaptive/i07                      11260 non-null object\n",
      "i_adaptive/i08                      11260 non-null object\n",
      "i_adaptive/i09                      11260 non-null object\n",
      "i_adaptive/i10                      11260 non-null object\n",
      "i_adaptive/i11                      11260 non-null object\n",
      "i_adaptive/i11/vul_minor            11260 non-null bool\n",
      "i_adaptive/i11/vul_woman            11260 non-null bool\n",
      "i_adaptive/i11/vul_sing_male        11260 non-null bool\n",
      "i_adaptive/i11/vul_sing_female      11260 non-null bool\n",
      "i_adaptive/i11/vul_ill              11260 non-null bool\n",
      "i_adaptive/i11/vul_poor             11260 non-null bool\n",
      "i_adaptive/i11/vul_plw              11260 non-null bool\n",
      "i_adaptive/i11/vul_drugs            11260 non-null bool\n",
      "i_adaptive/i11/vul_old              11260 non-null bool\n",
      "i_adaptive/i11/vul_pdisabled        11260 non-null bool\n",
      "i_adaptive/i11/vul_mdisabled        11260 non-null bool\n",
      "i_adaptive/i11/vul_medcial          11260 non-null bool\n",
      "i_adaptive/i11/vul_special          11260 non-null bool\n",
      "i_adaptive/i11/vul_ochildren        11260 non-null bool\n",
      "i_adaptive/i11/other                11260 non-null bool\n",
      "i_adaptive/i11_other                3022 non-null object\n",
      "i_adaptive/i12                      2929 non-null object\n",
      "i_adaptive/i12/a_food               2929 non-null float64\n",
      "i_adaptive/i12/a_nfi                2929 non-null float64\n",
      "i_adaptive/i12/a_health             2929 non-null float64\n",
      "i_adaptive/i12/a_housing            2929 non-null float64\n",
      "i_adaptive/i12/a_legal              2929 non-null float64\n",
      "i_adaptive/i12/other                2929 non-null float64\n",
      "i_adaptive/i12_other                1394 non-null object\n",
      "dtypes: bool(15), float64(26), int64(3), object(14)\n",
      "memory usage: 3.9+ MB\n"
     ]
    }
   ],
   "source": [
    "df.loc[:, 'i_adaptive/i01':'i_adaptive/i12_other'].info()"
   ]
  },
  {
   "cell_type": "code",
   "execution_count": 70,
   "metadata": {},
   "outputs": [],
   "source": [
    "# 'i_adaptive/i05a', 'i_adaptive/i05a1', 'i_adaptive/i05b', 'i_adaptive/i05b1', 'i_adaptive/i12' have missing values, dropping them as well as duplicated columns \n",
    "df_adaptive = df.loc[:,['i_adaptive/i01', 'i_adaptive/i01income_count', 'i_adaptive/i04', 'i_adaptive/i05', 'i_adaptive/i06', 'i_adaptive/i07', 'i_adaptive/i08', 'i_adaptive/i09', 'i_adaptive/i10', 'i_adaptive/i11']]"
   ]
  },
  {
   "cell_type": "code",
   "execution_count": 71,
   "metadata": {
    "scrolled": true
   },
   "outputs": [
    {
     "name": "stdout",
     "output_type": "stream",
     "text": [
      "<class 'pandas.core.frame.DataFrame'>\n",
      "RangeIndex: 11260 entries, 0 to 11259\n",
      "Data columns (total 10 columns):\n",
      "i_adaptive/i01                11260 non-null int64\n",
      "i_adaptive/i01income_count    11260 non-null int64\n",
      "i_adaptive/i04                11260 non-null int64\n",
      "i_adaptive/i05                11260 non-null object\n",
      "i_adaptive/i06                11260 non-null object\n",
      "i_adaptive/i07                11260 non-null object\n",
      "i_adaptive/i08                11260 non-null object\n",
      "i_adaptive/i09                11260 non-null object\n",
      "i_adaptive/i10                11260 non-null object\n",
      "i_adaptive/i11                11260 non-null object\n",
      "dtypes: int64(3), object(7)\n",
      "memory usage: 879.8+ KB\n"
     ]
    }
   ],
   "source": [
    "df_adaptive.info()"
   ]
  },
  {
   "cell_type": "code",
   "execution_count": 72,
   "metadata": {},
   "outputs": [
    {
     "name": "stdout",
     "output_type": "stream",
     "text": [
      "i_adaptive/i01 [2, 1, 3, 4, 0, 6, 5, 7, 9]\n",
      "i_adaptive/i01income_count [2, 1, 3, 4, 0, 6, 5, 7, 9]\n",
      "i_adaptive/i04 [8000, 3000, 7000, 4000, 2000, 6000, 5000, 30000, 4500, 10000, 14000, 50000, 15000, 18000, 200, 9000, 250, 1000, 400, 70, 2500, 17000, 7500, 20000, 35000, 500, 130000, 3500, 1500, 11000, 12000, 8500, 4600, 7300, 0, 16000, 25000, 1200, 19000, 6500, 40000, 13000, 4400, 2700, 3300, 1008, 2008, 5500, 45000, 3600, 150000, 23000, 1, 90000, 6800, 2800, 3200, 1300, 2300, 80000, 9500, 100000, 300, 15, 4300, 24000, 22000, 400000, 5400, 5200, 2530, 13500, 3, 12008, 2, 1900, 21000, 60000, 120000, 25300, 2400, 56000, 13700, 12500, 70000, 530000, 540000, 250000, 9200, 2600, 29000, 25800, 6300, 5800, 27000, 11500, 7600, 1750, 12700, 4800, 32000, 1700, 5300, 200000, 7400, 36000, 180000, 4200, 5150, 11800, 7200, 2050, 140000, 7800, 53000, 5600, 5700, 2560, 75000, 12300, 10500, 7100, 55000, 73000, 4100, 1100, 2750, 72000, 10700, 112000, 42000, 6900, 65000, 3700, 3800, 6200, 3008, 15555, 6, 8, 1400, 1600, 5]\n",
      "i_adaptive/i05 ['yes', 'no']\n",
      "i_adaptive/i06 ['expenses_half', 'expenses_mhalf', 'expenses_lessh', 'expenses_all']\n",
      "i_adaptive/i07 ['expenses_lessh', 'expenses_half', 'expenses_mhalf', 'expenses_all']\n",
      "i_adaptive/i08 ['transport_more', 'transport_nothing', 'transport_less']\n",
      "i_adaptive/i09 ['saving_none', 'saving_more', 'saving_less']\n",
      "i_adaptive/i10 ['debt_less', 'debt_more', 'debt_mid']\n",
      "i_adaptive/i11 ['other', 'vul_pdisabled vul_ochildren', 'vul_mdisabled', 'vul_minor vul_ill', 'vul_ochildren', 'vul_old', 'vul_minor vul_old', 'vul_plw', 'vul_medcial', 'vul_sing_female', 'vul_ill', 'vul_poor', 'vul_pdisabled', 'vul_pdisabled vul_medcial', 'vul_old vul_pdisabled', 'vul_special', 'vul_ill vul_old', 'vul_sing_male', 'vul_ill vul_pdisabled', 'vul_medcial vul_special', 'vul_old vul_medcial', 'vul_sing_male vul_sing_female vul_pdisabled vul_mdisabled', 'vul_sing_male vul_ill', 'vul_sing_male vul_sing_female other', 'vul_poor vul_pdisabled', 'vul_minor vul_sing_female', 'vul_sing_male vul_plw', 'vul_sing_male vul_drugs', 'vul_sing_male vul_special', 'vul_minor', 'vul_woman', 'vul_woman vul_special', 'vul_pdisabled vul_mdisabled', 'vul_special vul_ochildren', 'vul_mdisabled vul_medcial vul_special', 'vul_drugs', 'vul_woman vul_sing_female vul_ochildren', 'vul_sing_male vul_sing_female', 'vul_ill vul_medcial', 'vul_minor other', 'vul_woman vul_ill', 'vul_woman vul_sing_female vul_ill', 'vul_pdisabled vul_mdisabled vul_medcial', 'vul_mdisabled vul_medcial', 'vul_old vul_mdisabled', 'vul_pdisabled vul_mdisabled vul_medcial vul_special', 'vul_poor vul_plw vul_old', 'vul_plw vul_drugs', 'vul_drugs vul_medcial', 'vul_sing_female vul_pdisabled vul_mdisabled', 'vul_sing_male vul_poor', 'vul_sing_female vul_ill', 'vul_old vul_pdisabled vul_medcial', 'vul_plw vul_old vul_pdisabled', 'vul_plw vul_medcial', 'vul_old vul_special', 'vul_drugs vul_special', 'vul_drugs vul_old', 'vul_drugs vul_ochildren', 'vul_old vul_ochildren', 'vul_sing_female vul_pdisabled', 'vul_sing_female vul_medcial', 'vul_drugs vul_pdisabled', 'vul_minor vul_sing_female vul_old', 'vul_medcial vul_ochildren', 'vul_sing_female vul_pdisabled vul_medcial', 'vul_poor vul_plw', 'vul_woman vul_mdisabled', 'vul_plw vul_pdisabled', 'vul_drugs vul_mdisabled', 'vul_sing_female vul_drugs vul_pdisabled vul_mdisabled vul_medcial', 'vul_sing_female vul_mdisabled', 'vul_poor vul_drugs', 'vul_woman vul_drugs vul_mdisabled', 'vul_sing_male vul_sing_female vul_drugs vul_pdisabled vul_mdisabled', 'vul_minor vul_ochildren', 'vul_plw vul_ochildren', 'vul_sing_male vul_sing_female vul_ill', 'vul_sing_male vul_sing_female vul_poor', 'vul_sing_male vul_sing_female vul_poor vul_plw', 'vul_sing_male vul_mdisabled', 'vul_sing_male vul_sing_female vul_poor vul_pdisabled vul_mdisabled', 'vul_sing_male vul_poor vul_plw', 'vul_plw vul_old vul_pdisabled vul_mdisabled', 'vul_woman vul_sing_female vul_drugs', 'vul_woman vul_sing_female', 'vul_drugs vul_pdisabled vul_medcial', 'vul_woman vul_plw', 'vul_drugs vul_pdisabled vul_mdisabled vul_medcial', 'vul_drugs vul_pdisabled vul_mdisabled', 'vul_sing_male vul_sing_female vul_ill vul_poor vul_plw vul_medcial', 'vul_sing_female vul_poor vul_mdisabled', 'vul_woman vul_sing_male vul_ill vul_poor vul_plw', 'vul_sing_female vul_ill vul_medcial', 'vul_sing_female vul_poor', 'vul_poor vul_drugs vul_pdisabled', 'vul_sing_male vul_sing_female vul_ill vul_mdisabled vul_medcial', 'vul_sing_female vul_drugs vul_medcial', 'vul_sing_female vul_mdisabled vul_medcial vul_special', 'vul_sing_male vul_sing_female vul_poor vul_mdisabled vul_medcial', 'vul_sing_male vul_pdisabled', 'vul_sing_male vul_pdisabled vul_mdisabled', 'vul_minor vul_sing_male vul_pdisabled', 'vul_sing_male vul_sing_female vul_pdisabled vul_medcial', 'vul_woman vul_plw vul_drugs', 'vul_ill vul_poor vul_old vul_pdisabled vul_mdisabled vul_medcial', 'vul_mdisabled vul_special', 'vul_old vul_pdisabled vul_mdisabled vul_medcial', 'vul_poor vul_plw vul_pdisabled', 'vul_sing_female vul_plw', 'vul_old vul_medcial vul_ochildren', 'vul_plw vul_old', 'vul_sing_female vul_old', 'vul_poor vul_old', 'vul_plw vul_drugs vul_old vul_pdisabled vul_mdisabled', 'vul_plw vul_old vul_pdisabled vul_medcial', 'vul_woman vul_sing_male vul_medcial', 'vul_plw vul_old vul_medcial', 'vul_woman vul_pdisabled vul_mdisabled vul_medcial', 'vul_pdisabled vul_special', 'vul_sing_male vul_sing_female vul_pdisabled vul_special', 'vul_drugs vul_medcial vul_special', 'vul_sing_male vul_pdisabled vul_medcial', 'vul_minor vul_woman vul_sing_male vul_poor vul_plw vul_mdisabled', 'vul_plw vul_drugs vul_pdisabled', 'vul_sing_male vul_mdisabled vul_medcial', 'vul_woman vul_sing_male vul_pdisabled vul_mdisabled', 'vul_sing_female vul_drugs', 'vul_sing_male vul_poor vul_pdisabled', 'vul_sing_male vul_ill vul_poor vul_pdisabled vul_medcial', 'vul_sing_male vul_sing_female vul_pdisabled', 'vul_old vul_mdisabled vul_medcial', 'vul_sing_female vul_old vul_medcial vul_special', 'vul_pdisabled vul_medcial vul_special', 'vul_old vul_pdisabled vul_medcial vul_special', 'vul_drugs vul_old vul_pdisabled', 'vul_sing_male vul_drugs vul_medcial', 'vul_old vul_pdisabled vul_mdisabled', 'vul_minor vul_drugs', 'vul_minor vul_sing_male vul_mdisabled', 'vul_minor vul_pdisabled', 'vul_minor vul_mdisabled vul_medcial', 'vul_sing_male vul_sing_female vul_pdisabled vul_mdisabled vul_medcial', 'vul_drugs vul_mdisabled vul_medcial', 'vul_sing_male vul_sing_female vul_poor vul_drugs', 'vul_plw vul_drugs vul_medcial', 'vul_sing_male vul_poor vul_drugs', 'vul_poor vul_drugs vul_pdisabled vul_mdisabled vul_medcial', 'vul_sing_male vul_poor vul_pdisabled vul_mdisabled', 'vul_woman vul_medcial', 'vul_ill vul_plw', 'vul_sing_female vul_ochildren', 'vul_sing_female vul_old vul_medcial', 'vul_plw vul_special', 'vul_plw vul_pdisabled vul_mdisabled', 'vul_plw vul_mdisabled vul_medcial', 'vul_medcial other', 'vul_sing_male vul_sing_female vul_old', 'vul_minor vul_woman vul_medcial', 'vul_sing_male vul_medcial', 'vul_sing_male vul_old vul_ochildren', 'vul_sing_male vul_mdisabled vul_medcial vul_special', 'vul_minor vul_sing_female vul_ill', 'vul_minor vul_sing_female vul_medcial', 'vul_sing_male vul_sing_female vul_medcial', 'vul_minor vul_sing_male vul_plw', 'vul_woman vul_sing_female vul_mdisabled', 'vul_minor vul_plw vul_special', 'vul_minor vul_sing_male vul_sing_female vul_pdisabled', 'vul_minor vul_sing_male vul_sing_female', 'vul_sing_female vul_poor vul_pdisabled vul_mdisabled', 'vul_sing_male vul_poor vul_pdisabled vul_medcial', 'vul_sing_male vul_pdisabled vul_mdisabled vul_medcial', 'vul_sing_male vul_sing_female vul_ill vul_poor vul_mdisabled', 'vul_sing_male vul_poor vul_pdisabled vul_mdisabled vul_medcial', 'vul_sing_female vul_poor vul_pdisabled vul_mdisabled vul_medcial', 'vul_sing_male vul_sing_female vul_poor vul_pdisabled vul_medcial', 'vul_ill vul_mdisabled', 'vul_minor vul_sing_male', 'vul_minor vul_poor', 'vul_sing_male vul_old vul_medcial', 'vul_sing_female vul_poor vul_pdisabled', 'vul_sing_male vul_poor vul_mdisabled vul_medcial', 'vul_poor vul_pdisabled vul_mdisabled', 'vul_poor vul_mdisabled', 'vul_ill vul_pdisabled vul_mdisabled', 'vul_ill vul_poor vul_medcial', 'vul_ill vul_old vul_pdisabled', 'vul_minor vul_ill vul_pdisabled vul_medcial', 'vul_minor vul_medcial vul_special', 'vul_minor vul_medcial', 'vul_minor vul_pdisabled vul_medcial', 'vul_minor vul_pdisabled vul_special vul_ochildren', 'vul_minor vul_special vul_ochildren', 'vul_minor vul_pdisabled vul_special', 'vul_minor vul_medcial vul_special vul_ochildren', 'vul_minor vul_medcial vul_ochildren', 'vul_ill vul_pdisabled vul_mdisabled vul_medcial', 'vul_ill vul_mdisabled vul_medcial', 'vul_woman vul_pdisabled vul_mdisabled', 'vul_minor vul_plw vul_drugs vul_mdisabled', 'vul_ill vul_mdisabled vul_special', 'vul_pdisabled vul_mdisabled vul_special', 'vul_minor vul_poor vul_plw', 'vul_minor vul_plw', 'vul_woman vul_drugs', 'vul_sing_male vul_sing_female vul_old vul_medcial', 'vul_woman vul_poor', 'vul_sing_female vul_pdisabled vul_mdisabled vul_medcial', 'vul_plw vul_drugs vul_ochildren', 'vul_ill vul_pdisabled vul_medcial', 'vul_woman vul_sing_male', 'vul_minor vul_mdisabled', 'vul_minor vul_woman', 'vul_woman vul_sing_male vul_ill', 'vul_sing_male vul_sing_female vul_poor vul_pdisabled vul_mdisabled vul_medcial', 'vul_ill vul_mdisabled vul_medcial vul_special', 'vul_sing_female vul_poor vul_drugs', 'vul_woman vul_sing_female vul_poor vul_pdisabled vul_mdisabled', 'vul_woman vul_poor vul_pdisabled vul_mdisabled', 'vul_minor vul_sing_male vul_sing_female vul_mdisabled', 'vul_woman vul_sing_male vul_sing_female vul_poor vul_pdisabled vul_mdisabled', 'vul_woman vul_old', 'vul_sing_male vul_ochildren', 'vul_plw vul_mdisabled', 'vul_plw vul_pdisabled vul_mdisabled vul_medcial', 'vul_sing_female other', 'vul_minor vul_poor vul_old', 'vul_minor vul_sing_male vul_medcial', 'vul_sing_female vul_poor vul_pdisabled vul_mdisabled vul_ochildren', 'vul_minor vul_special', 'vul_woman vul_ill vul_poor', 'vul_woman vul_poor vul_pdisabled', 'vul_sing_female vul_plw vul_drugs', 'vul_minor vul_poor vul_mdisabled', 'vul_sing_male vul_plw vul_old', 'vul_sing_female vul_plw vul_old', 'vul_ill vul_old vul_medcial', 'vul_sing_male vul_plw vul_medcial', 'vul_woman vul_poor vul_plw', 'vul_ill vul_poor', 'vul_ill vul_poor vul_pdisabled vul_mdisabled', 'vul_ill vul_poor vul_mdisabled', 'vul_minor vul_pdisabled vul_mdisabled', 'vul_minor vul_ill vul_poor', 'vul_minor vul_old vul_pdisabled', 'vul_sing_female vul_poor vul_plw vul_pdisabled vul_mdisabled', 'vul_ill vul_poor vul_pdisabled vul_mdisabled vul_medcial', 'vul_minor vul_poor vul_pdisabled vul_mdisabled vul_medcial', 'vul_minor vul_poor vul_pdisabled vul_mdisabled', 'vul_minor vul_woman vul_old', 'vul_minor vul_sing_male vul_drugs', 'vul_drugs vul_old vul_special', 'vul_sing_female vul_old vul_pdisabled vul_medcial vul_special', 'vul_sing_male vul_sing_female vul_old vul_pdisabled vul_medcial vul_special', 'vul_ill vul_medcial other', 'vul_poor vul_ochildren', 'vul_minor vul_old vul_special', 'vul_sing_female vul_pdisabled vul_ochildren', 'vul_minor vul_sing_female vul_poor', 'vul_woman vul_plw vul_old vul_pdisabled', 'vul_sing_female vul_old vul_pdisabled vul_mdisabled', 'vul_minor vul_woman vul_pdisabled vul_mdisabled vul_medcial', 'vul_old vul_medcial vul_special', 'vul_minor vul_old vul_ochildren', 'vul_minor vul_old vul_medcial', 'vul_plw vul_pdisabled vul_medcial', 'vul_minor vul_old vul_medcial vul_special', 'vul_poor vul_medcial vul_special', 'vul_poor vul_plw vul_pdisabled vul_medcial', 'vul_minor vul_plw vul_pdisabled vul_mdisabled', 'vul_minor vul_ill vul_pdisabled vul_mdisabled', 'vul_minor vul_ill vul_pdisabled', 'vul_ill vul_poor vul_pdisabled', 'vul_minor vul_sing_female vul_pdisabled', 'vul_pdisabled vul_special vul_ochildren', 'vul_minor vul_sing_female vul_ochildren', 'vul_sing_female vul_special', 'vul_sing_female vul_pdisabled vul_special', 'vul_plw vul_medcial vul_special', 'vul_minor vul_pdisabled vul_mdisabled vul_medcial', 'vul_minor vul_ill vul_pdisabled vul_mdisabled vul_medcial', 'vul_sing_female vul_ill vul_plw vul_medcial vul_special', 'vul_poor other', 'vul_ill vul_ochildren', 'vul_plw vul_medcial vul_ochildren', 'vul_plw other', 'vul_sing_male vul_plw vul_drugs vul_pdisabled', 'vul_woman vul_sing_female vul_drugs vul_old vul_pdisabled', 'vul_sing_female vul_plw vul_pdisabled vul_mdisabled', 'vul_sing_male vul_sing_female vul_old vul_pdisabled vul_medcial', 'vul_minor vul_poor vul_drugs', 'vul_ill vul_medcial vul_special', 'vul_woman vul_pdisabled vul_medcial vul_special', 'vul_minor vul_woman vul_old vul_pdisabled vul_medcial vul_special', 'vul_ill vul_drugs', 'vul_minor vul_sing_male vul_sing_female vul_pdisabled vul_mdisabled', 'vul_woman vul_sing_male vul_sing_female', 'vul_woman other', 'vul_poor vul_old vul_pdisabled', 'vul_minor vul_sing_female vul_pdisabled vul_mdisabled vul_medcial', 'vul_sing_female vul_drugs vul_pdisabled', 'vul_minor vul_sing_female vul_mdisabled', 'vul_sing_male vul_poor vul_old', 'vul_minor vul_poor other', 'vul_minor vul_poor vul_ochildren', 'vul_old vul_mdisabled vul_special', 'vul_sing_female vul_poor vul_pdisabled vul_medcial', 'vul_sing_male vul_sing_female vul_old vul_pdisabled vul_mdisabled vul_medcial', 'vul_minor vul_poor vul_pdisabled', 'vul_old vul_mdisabled vul_medcial vul_special', 'vul_old vul_pdisabled vul_mdisabled vul_medcial vul_special', 'vul_minor vul_sing_male vul_special', 'vul_woman vul_ill vul_pdisabled vul_mdisabled', 'vul_woman vul_ill vul_pdisabled vul_medcial', 'vul_sing_female vul_plw vul_pdisabled vul_mdisabled vul_medcial', 'vul_minor vul_sing_female vul_mdisabled vul_special', 'vul_woman vul_sing_female vul_mdisabled vul_medcial vul_special', 'vul_sing_male vul_poor vul_medcial', 'vul_sing_male vul_poor vul_mdisabled', 'vul_woman vul_pdisabled', 'vul_poor vul_medcial', 'vul_sing_male vul_sing_female vul_poor vul_pdisabled', 'vul_woman vul_medcial vul_special', 'vul_drugs vul_old vul_medcial vul_special', 'vul_sing_male vul_ill vul_pdisabled vul_mdisabled vul_medcial', 'vul_minor vul_poor vul_plw vul_drugs', 'vul_minor vul_ill vul_poor vul_drugs', 'vul_minor vul_woman vul_poor', 'vul_medcial vul_special other', 'vul_woman vul_ill vul_poor vul_old', 'vul_old vul_pdisabled vul_special', 'vul_poor vul_pdisabled vul_medcial', 'vul_poor vul_special', 'vul_sing_female vul_poor vul_plw vul_pdisabled', 'vul_minor vul_plw vul_medcial', 'vul_woman vul_poor vul_pdisabled vul_mdisabled vul_medcial', 'vul_woman vul_mdisabled vul_medcial', 'vul_sing_male vul_poor vul_drugs vul_pdisabled', 'vul_ill vul_old vul_pdisabled vul_medcial vul_special', 'vul_ill vul_pdisabled vul_mdisabled vul_medcial vul_special', 'vul_minor vul_poor vul_mdisabled vul_medcial', 'vul_ochildren other', 'vul_sing_female vul_old vul_pdisabled', 'vul_sing_male vul_poor vul_pdisabled vul_mdisabled vul_medcial vul_special', 'vul_sing_female vul_old vul_pdisabled vul_ochildren', 'vul_plw vul_old vul_mdisabled', 'vul_sing_male vul_sing_female vul_special', 'vul_sing_female vul_plw vul_pdisabled', 'vul_poor vul_old vul_ochildren', 'vul_sing_female vul_mdisabled vul_medcial', 'vul_sing_female vul_old vul_mdisabled vul_medcial', 'vul_sing_male vul_old vul_pdisabled', 'vul_woman vul_poor vul_pdisabled vul_medcial', 'vul_ill vul_pdisabled vul_medcial vul_special', 'vul_minor vul_poor vul_special', 'vul_sing_female vul_old vul_mdisabled', 'vul_minor vul_woman vul_sing_female vul_mdisabled vul_medcial', 'vul_sing_female vul_poor vul_drugs vul_pdisabled', 'vul_sing_male vul_poor vul_old vul_mdisabled', 'vul_plw vul_old vul_special', 'vul_minor vul_ill vul_plw', 'vul_pdisabled vul_medcial vul_ochildren', 'vul_sing_male vul_poor vul_old vul_pdisabled', 'vul_sing_female vul_ill vul_poor vul_pdisabled', 'vul_plw vul_drugs vul_pdisabled vul_medcial', 'vul_minor vul_sing_male vul_ill vul_pdisabled', 'vul_poor vul_plw vul_medcial', 'vul_sing_male vul_sing_female vul_medcial vul_special', 'vul_minor vul_sing_male vul_pdisabled vul_medcial', 'vul_sing_female vul_plw vul_old vul_pdisabled vul_medcial', 'vul_sing_female vul_plw vul_old vul_pdisabled', 'vul_old vul_pdisabled vul_mdisabled vul_special', 'vul_sing_female vul_poor vul_plw', 'vul_poor vul_old vul_pdisabled vul_mdisabled', 'vul_woman vul_sing_female vul_poor vul_medcial vul_special', 'vul_minor vul_woman vul_drugs vul_pdisabled vul_mdisabled vul_medcial', 'vul_ill vul_plw vul_old', 'vul_minor vul_woman vul_plw vul_pdisabled vul_mdisabled vul_medcial', 'vul_minor vul_woman vul_mdisabled vul_medcial', 'vul_minor vul_sing_male vul_poor', 'vul_woman vul_sing_female vul_ill vul_poor', 'vul_minor vul_sing_female vul_ill vul_poor', 'vul_minor vul_ill vul_drugs', 'vul_ill vul_poor vul_drugs', 'vul_minor vul_ill vul_poor vul_plw', 'vul_pdisabled other', 'vul_ill vul_poor vul_drugs vul_mdisabled', 'vul_poor vul_old vul_special', 'vul_ill vul_special']\n"
     ]
    }
   ],
   "source": [
    "#checking that everything looks good\n",
    "for column in df_adaptive.columns:\n",
    "    print(column, df_adaptive[column].unique().tolist())"
   ]
  },
  {
   "cell_type": "markdown",
   "metadata": {},
   "source": [
    " ##### 8. Stereotypes"
   ]
  },
  {
   "cell_type": "code",
   "execution_count": 73,
   "metadata": {},
   "outputs": [],
   "source": [
    "df_stereotypes = df.loc[:, 'j_stereotypes/j01':'j_stereotypes/j0/stigma_thieves']"
   ]
  },
  {
   "cell_type": "code",
   "execution_count": 74,
   "metadata": {
    "scrolled": true
   },
   "outputs": [
    {
     "name": "stdout",
     "output_type": "stream",
     "text": [
      "<class 'pandas.core.frame.DataFrame'>\n",
      "RangeIndex: 11260 entries, 0 to 11259\n",
      "Data columns (total 30 columns):\n",
      "j_stereotypes/j01                     6072 non-null object\n",
      "j_stereotypes/j02                     6072 non-null object\n",
      "j_stereotypes/j02/source_own          6072 non-null float64\n",
      "j_stereotypes/j02/source_fam          6072 non-null float64\n",
      "j_stereotypes/j02/source_neigh        6072 non-null float64\n",
      "j_stereotypes/j02/source_elders       6072 non-null float64\n",
      "j_stereotypes/j02/source_officials    6072 non-null float64\n",
      "j_stereotypes/j02/source_radio        6072 non-null float64\n",
      "j_stereotypes/j02/source_tv           6072 non-null float64\n",
      "j_stereotypes/j02/source_paper        6072 non-null float64\n",
      "j_stereotypes/j02/source_internet     6072 non-null float64\n",
      "j_stereotypes/j02/other               6072 non-null float64\n",
      "j_stereotypes/j02_other               624 non-null object\n",
      "j_stereotypes/j03                     6072 non-null object\n",
      "j_stereotypes/j03/source_own          6072 non-null float64\n",
      "j_stereotypes/j03/source_fam          6072 non-null float64\n",
      "j_stereotypes/j03/source_neigh        6072 non-null float64\n",
      "j_stereotypes/j03/source_elders       6072 non-null float64\n",
      "j_stereotypes/j03/source_officials    6072 non-null float64\n",
      "j_stereotypes/j03/source_radio        6072 non-null float64\n",
      "j_stereotypes/j03/source_tv           6072 non-null float64\n",
      "j_stereotypes/j03/source_paper        6072 non-null float64\n",
      "j_stereotypes/j03/source_internet     6072 non-null float64\n",
      "j_stereotypes/j03/other               6072 non-null float64\n",
      "j_stereotypes/j03_other               549 non-null object\n",
      "j_stereotypes/j0                      4226 non-null object\n",
      "j_stereotypes/j0/stigma_pasht         4226 non-null float64\n",
      "j_stereotypes/j0/stigma_taliban       4226 non-null float64\n",
      "j_stereotypes/j0/stigma_same          4226 non-null float64\n",
      "j_stereotypes/j0/stigma_thieves       4226 non-null float64\n",
      "dtypes: float64(24), object(6)\n",
      "memory usage: 2.6+ MB\n"
     ]
    }
   ],
   "source": [
    "df_stereotypes.info()"
   ]
  },
  {
   "cell_type": "code",
   "execution_count": 75,
   "metadata": {},
   "outputs": [],
   "source": [
    "def make_col_list(df, value):\n",
    "    list_take = []\n",
    "    for col in df.columns:\n",
    "        col_val = df[col].notnull().sum()\n",
    "        if col_val >= value:\n",
    "            list_take.append(col)\n",
    "        else:\n",
    "            continue\n",
    "    return list_take"
   ]
  },
  {
   "cell_type": "code",
   "execution_count": 76,
   "metadata": {},
   "outputs": [],
   "source": [
    "list_ster = make_col_list(df_stereotypes, 1000)"
   ]
  },
  {
   "cell_type": "code",
   "execution_count": 77,
   "metadata": {},
   "outputs": [
    {
     "data": {
      "text/plain": [
       "['j_stereotypes/j01',\n",
       " 'j_stereotypes/j02',\n",
       " 'j_stereotypes/j02/source_own',\n",
       " 'j_stereotypes/j02/source_fam',\n",
       " 'j_stereotypes/j02/source_neigh',\n",
       " 'j_stereotypes/j02/source_elders',\n",
       " 'j_stereotypes/j02/source_officials',\n",
       " 'j_stereotypes/j02/source_radio',\n",
       " 'j_stereotypes/j02/source_tv',\n",
       " 'j_stereotypes/j02/source_paper',\n",
       " 'j_stereotypes/j02/source_internet',\n",
       " 'j_stereotypes/j02/other',\n",
       " 'j_stereotypes/j03',\n",
       " 'j_stereotypes/j03/source_own',\n",
       " 'j_stereotypes/j03/source_fam',\n",
       " 'j_stereotypes/j03/source_neigh',\n",
       " 'j_stereotypes/j03/source_elders',\n",
       " 'j_stereotypes/j03/source_officials',\n",
       " 'j_stereotypes/j03/source_radio',\n",
       " 'j_stereotypes/j03/source_tv',\n",
       " 'j_stereotypes/j03/source_paper',\n",
       " 'j_stereotypes/j03/source_internet',\n",
       " 'j_stereotypes/j03/other',\n",
       " 'j_stereotypes/j0',\n",
       " 'j_stereotypes/j0/stigma_pasht',\n",
       " 'j_stereotypes/j0/stigma_taliban',\n",
       " 'j_stereotypes/j0/stigma_same',\n",
       " 'j_stereotypes/j0/stigma_thieves']"
      ]
     },
     "execution_count": 77,
     "metadata": {},
     "output_type": "execute_result"
    }
   ],
   "source": [
    "list_ster"
   ]
  },
  {
   "cell_type": "code",
   "execution_count": 78,
   "metadata": {},
   "outputs": [],
   "source": [
    "df_stereotypes = df_stereotypes.loc[:,['j_stereotypes/j01', 'j_stereotypes/j02', 'j_stereotypes/j03', 'j_stereotypes/j0']]"
   ]
  },
  {
   "cell_type": "code",
   "execution_count": 79,
   "metadata": {},
   "outputs": [],
   "source": [
    "df_stereotypes.fillna('no_inf', inplace = True)"
   ]
  },
  {
   "cell_type": "code",
   "execution_count": 80,
   "metadata": {},
   "outputs": [
    {
     "name": "stdout",
     "output_type": "stream",
     "text": [
      "<class 'pandas.core.frame.DataFrame'>\n",
      "RangeIndex: 11260 entries, 0 to 11259\n",
      "Data columns (total 4 columns):\n",
      "j_stereotypes/j01    11260 non-null object\n",
      "j_stereotypes/j02    11260 non-null object\n",
      "j_stereotypes/j03    11260 non-null object\n",
      "j_stereotypes/j0     11260 non-null object\n",
      "dtypes: object(4)\n",
      "memory usage: 352.0+ KB\n"
     ]
    }
   ],
   "source": [
    "df_stereotypes.info()"
   ]
  },
  {
   "cell_type": "code",
   "execution_count": 81,
   "metadata": {},
   "outputs": [
    {
     "name": "stdout",
     "output_type": "stream",
     "text": [
      "j_stereotypes/j01 ['idp_host', 'idp_idp', 'idp_comm', 'no_inf']\n",
      "j_stereotypes/j02 ['other', 'source_neigh', 'source_own', 'source_radio source_tv', 'source_elders source_radio source_tv', 'source_fam', 'source_tv', 'source_elders', 'source_own source_neigh source_tv', 'source_fam source_neigh', 'source_neigh source_elders', 'source_fam source_neigh source_tv', 'source_elders source_tv', 'source_officials source_tv', 'source_fam source_neigh source_elders', 'source_own source_fam source_elders', 'source_own source_neigh', 'source_fam source_elders', 'source_own source_paper', 'source_paper source_internet', 'source_neigh source_elders source_officials', 'source_fam source_officials', 'source_own source_neigh source_officials', 'source_own source_fam source_neigh', 'source_own source_fam source_neigh source_elders source_tv', 'source_fam source_elders source_officials', 'source_fam source_neigh source_elders source_officials', 'source_own source_fam source_neigh source_elders', 'source_own source_fam source_neigh source_officials', 'source_own source_fam source_neigh source_elders source_officials', 'source_radio source_tv source_paper', 'source_fam source_elders source_radio source_tv', 'source_fam source_tv', 'source_own source_fam source_neigh source_tv', 'source_officials source_radio source_tv', 'source_neigh source_elders source_tv', 'source_tv source_internet', 'source_neigh source_tv', 'source_elders source_radio source_internet', 'source_own source_elders', 'source_neigh source_officials', 'source_elders source_officials', 'source_neigh source_elders source_tv source_paper', 'source_own source_fam source_neigh source_officials source_tv', 'source_neigh source_elders source_officials source_radio', 'source_elders source_officials source_tv', 'source_officials', 'source_neigh source_elders source_officials source_tv source_paper', 'source_neigh source_officials source_tv', 'source_fam source_neigh source_radio', 'source_own source_fam', 'source_own source_officials', 'source_elders source_internet', 'source_own source_neigh source_elders', 'source_fam source_neigh source_officials', 'source_own source_fam source_elders source_officials', 'source_own source_fam source_elders source_radio', 'source_elders source_radio', 'source_own source_tv', 'source_own source_fam source_tv', 'source_own source_neigh source_radio', 'source_tv source_paper', 'source_radio', 'source_own source_radio', 'source_own source_fam source_neigh source_elders source_officials source_radio source_tv', 'source_own source_neigh source_elders source_tv', 'source_own source_neigh source_radio source_tv', 'source_fam source_neigh source_elders source_tv', 'source_own source_neigh source_elders source_radio', 'source_own source_fam source_neigh source_radio', 'source_own source_fam source_elders source_officials source_radio', 'source_fam source_elders source_tv', 'source_fam source_neigh source_radio source_tv', 'source_own source_elders source_radio', 'source_officials source_radio', 'source_neigh source_radio', 'source_paper', 'source_neigh source_elders source_radio source_paper', 'source_elders source_tv source_internet', 'source_neigh source_radio source_tv', 'source_fam source_officials source_radio', 'source_own source_elders source_tv', 'source_own source_neigh source_officials source_radio', 'source_elders source_officials source_radio source_tv source_paper', 'source_elders source_officials source_radio source_tv', 'source_own source_neigh source_officials source_tv', 'source_fam source_elders source_radio', 'source_radio source_tv source_internet', 'source_fam source_neigh source_paper', 'source_elders source_officials source_paper', 'source_neigh source_elders source_paper', 'source_neigh source_elders source_radio source_tv', 'source_fam source_neigh source_elders source_officials source_radio source_tv', 'source_fam source_elders source_officials source_radio source_tv', 'source_own source_fam source_neigh source_elders source_radio source_tv', 'source_own source_radio source_tv', 'source_radio source_tv source_paper source_internet', 'source_neigh source_tv source_paper', 'source_neigh source_officials source_radio', 'no_inf', 'source_elders source_tv source_paper', 'source_elders source_officials source_radio', 'source_neigh source_elders source_radio', 'source_own source_officials source_tv', 'source_fam source_officials source_tv', 'source_fam source_tv source_paper', 'source_elders source_paper', 'source_own source_elders source_officials source_radio', 'source_fam source_neigh source_officials source_tv', 'source_own source_fam source_officials source_radio', 'source_neigh source_officials source_radio source_tv', 'source_elders source_officials source_radio source_paper', 'source_neigh source_elders source_officials source_tv', 'source_fam source_radio source_tv', 'source_neigh source_paper', 'source_fam source_radio', 'source_neigh source_elders source_officials source_radio source_tv', 'source_own source_neigh source_tv source_internet', 'source_fam source_neigh source_elders source_tv source_paper', 'source_own source_elders source_officials', 'source_own source_radio source_tv source_internet', 'source_fam source_neigh source_elders source_tv source_internet', 'source_fam source_neigh source_elders source_radio', 'source_own source_elders source_officials source_tv', 'source_neigh source_officials source_radio source_paper', 'source_fam source_neigh source_elders source_tv source_paper source_internet', 'source_fam source_elders source_officials source_radio', 'source_own source_neigh source_elders source_officials', 'source_fam source_neigh source_elders source_officials source_radio', 'source_fam source_elders source_officials source_tv', 'source_fam source_neigh source_officials source_radio', 'source_fam source_neigh source_elders source_radio source_paper', 'source_neigh source_officials source_tv source_paper', 'source_own source_neigh source_paper', 'source_own source_fam source_officials', 'source_fam source_neigh source_officials source_radio source_paper', 'source_fam source_neigh source_officials source_radio source_tv source_paper', 'source_fam source_neigh source_tv source_paper', 'source_fam source_neigh source_elders source_radio source_tv', 'source_fam source_neigh source_elders source_officials source_tv', 'source_own source_fam source_radio', 'source_officials source_tv source_paper', 'source_neigh source_officials source_paper', 'source_own source_fam source_paper', 'source_fam source_neigh source_radio source_tv source_paper', 'source_own source_fam source_neigh source_radio source_tv']\n",
      "j_stereotypes/j03 ['other', 'source_neigh', 'source_own', 'source_tv', 'source_radio source_tv', 'source_own source_tv', 'source_own source_fam source_tv', 'source_elders source_tv', 'source_elders', 'source_tv source_paper', 'source_neigh source_radio source_internet', 'source_neigh source_radio', 'source_neigh source_elders', 'source_fam source_neigh source_elders', 'source_own source_neigh source_officials', 'source_own source_neigh', 'source_internet', 'source_fam source_officials', 'source_fam source_elders', 'source_officials source_radio source_tv', 'source_neigh source_tv', 'source_neigh source_elders source_radio source_tv source_paper', 'source_own source_neigh source_tv', 'source_own source_fam source_neigh', 'source_fam source_neigh source_elders source_radio', 'source_neigh source_elders source_officials', 'source_own source_fam source_elders source_officials', 'source_own source_elders', 'source_own source_fam source_neigh source_officials', 'source_radio source_tv source_paper', 'source_neigh source_radio source_tv', 'source_fam source_tv', 'source_elders source_officials source_radio', 'source_officials source_tv', 'source_neigh source_elders source_tv', 'source_fam source_elders source_tv', 'source_neigh source_elders source_radio', 'source_elders source_officials source_tv', 'source_own source_elders source_tv', 'source_fam source_neigh source_tv', 'source_paper', 'source_fam source_radio', 'source_radio', 'source_neigh source_tv source_paper', 'source_fam source_tv source_paper', 'source_elders source_officials', 'source_elders source_radio', 'source_officials', 'source_own source_fam source_neigh source_tv', 'source_own source_fam source_neigh source_elders', 'source_own source_fam source_neigh source_elders source_officials', 'source_own source_fam source_neigh source_elders source_tv', 'source_own source_fam source_elders source_tv', 'source_neigh source_elders source_officials source_radio', 'source_own source_fam', 'source_fam source_neigh', 'source_fam', 'source_fam source_neigh source_officials', 'source_neigh source_paper', 'source_neigh source_officials', 'source_fam source_paper', 'source_fam source_neigh source_elders source_tv', 'source_fam source_neigh source_radio source_tv', 'source_own source_officials', 'source_neigh source_elders source_radio source_tv', 'source_fam source_officials source_radio', 'source_officials source_radio', 'source_own source_fam source_neigh source_radio source_tv', 'source_elders source_radio source_tv', 'source_own source_fam source_neigh source_officials source_radio source_tv', 'source_neigh source_elders source_officials source_tv', 'source_fam source_neigh source_officials source_tv', 'source_neigh source_officials source_tv', 'source_own source_neigh source_radio source_tv', 'source_own source_neigh source_elders source_officials', 'source_elders source_officials source_radio source_tv', 'source_own source_neigh source_elders source_radio', 'source_fam source_elders source_officials', 'source_fam source_neigh source_elders source_radio source_tv', 'source_fam source_officials source_tv', 'source_fam source_elders source_radio source_tv', 'source_radio source_paper', 'source_own source_fam source_neigh source_elders source_officials source_radio source_tv', 'source_fam source_neigh source_elders source_officials source_radio source_tv', 'source_neigh source_elders source_officials source_radio source_tv', 'source_own source_radio', 'source_neigh source_officials source_radio', 'source_own source_radio source_tv', 'source_fam source_neigh source_internet', 'source_fam source_radio source_tv', 'source_fam source_neigh source_officials source_radio source_tv', 'source_fam source_neigh source_elders source_officials source_radio', 'source_own source_fam source_neigh source_elders source_radio', 'source_neigh source_officials source_radio source_tv', 'source_fam source_elders source_officials source_tv', 'source_fam source_neigh source_elders source_officials', 'source_radio source_tv source_internet', 'source_fam source_neigh source_elders source_paper', 'source_own source_officials source_radio', 'source_tv source_internet', 'source_neigh source_officials source_tv source_paper', 'source_fam source_elders source_radio', 'source_fam source_elders source_officials source_radio', 'source_own source_neigh source_elders', 'no_inf', 'source_elders source_tv source_paper', 'source_own source_elders source_radio', 'source_fam source_neigh source_elders source_tv source_paper source_internet', 'source_elders source_paper', 'source_fam source_neigh source_paper', 'source_fam source_neigh source_elders source_officials source_tv', 'source_own source_fam source_elders', 'source_elders source_radio source_paper', 'source_officials source_radio source_paper', 'source_neigh source_elders source_officials source_radio source_paper', 'source_fam source_neigh source_radio', 'source_fam source_neigh source_elders source_tv source_paper', 'source_fam source_neigh source_elders source_radio source_tv source_internet', 'source_own source_tv source_paper', 'source_fam source_neigh source_officials source_radio', 'source_officials source_tv source_paper', 'source_fam source_neigh source_elders source_tv source_internet', 'source_own source_elders source_officials', 'source_own source_elders source_officials source_radio', 'source_elders source_officials source_paper', 'source_elders source_radio source_tv source_paper', 'source_neigh source_elders source_radio source_paper', 'source_fam source_neigh source_elders source_radio source_tv source_paper source_internet', 'source_own source_internet', 'source_officials source_paper', 'source_neigh source_elders source_radio source_tv source_internet', 'source_own source_paper', 'source_own source_fam source_paper', 'source_own source_fam source_officials']\n",
      "j_stereotypes/j0 ['stigma_pasht', 'stigma_same', 'no_inf', 'stigma_taliban', 'stigma_taliban stigma_thieves', 'stigma_pasht stigma_same', 'stigma_thieves', 'stigma_pasht stigma_taliban', 'stigma_taliban stigma_same', 'stigma_pasht stigma_thieves', 'stigma_pasht stigma_taliban stigma_same', 'stigma_pasht stigma_taliban stigma_thieves', 'stigma_pasht stigma_same stigma_thieves', 'stigma_same stigma_thieves']\n"
     ]
    }
   ],
   "source": [
    "#checking that everything looks good\n",
    "for column in df_stereotypes.columns:\n",
    "    print(column, df_stereotypes[column].unique().tolist())"
   ]
  },
  {
   "cell_type": "markdown",
   "metadata": {},
   "source": [
    "##### 9. Interest to participate in the program"
   ]
  },
  {
   "cell_type": "code",
   "execution_count": 82,
   "metadata": {},
   "outputs": [
    {
     "name": "stdout",
     "output_type": "stream",
     "text": [
      "<class 'pandas.core.frame.DataFrame'>\n",
      "RangeIndex: 11260 entries, 0 to 11259\n",
      "Data columns (total 17 columns):\n",
      "k_interest/k01                                11260 non-null object\n",
      "k_interest/k_participate/k_note               0 non-null float64\n",
      "k_interest/k_participate/k_label              0 non-null float64\n",
      "k_interest/k_participate/k_label/ben_women    0 non-null float64\n",
      "k_interest/k_participate/k_label/ben_men      0 non-null float64\n",
      "k_interest/k_participate/k02                  5137 non-null object\n",
      "k_interest/k_participate/k02/ben_women        5137 non-null float64\n",
      "k_interest/k_participate/k02/ben_men          5137 non-null float64\n",
      "k_interest/k_participate/k03                  7306 non-null object\n",
      "k_interest/k_participate/k03/ben_women        7306 non-null float64\n",
      "k_interest/k_participate/k03/ben_men          7306 non-null float64\n",
      "k_interest/k_participate/k04                  8926 non-null object\n",
      "k_interest/k_participate/k04/ben_women        8926 non-null float64\n",
      "k_interest/k_participate/k04/ben_men          8926 non-null float64\n",
      "k_interest/k_participate/k05                  4000 non-null object\n",
      "k_interest/k_participate/k05/ben_women        4000 non-null float64\n",
      "k_interest/k_participate/k05/ben_men          4000 non-null float64\n",
      "dtypes: float64(12), object(5)\n",
      "memory usage: 1.5+ MB\n"
     ]
    }
   ],
   "source": [
    "#slice interest section from main dataframe\n",
    "df.loc[:, 'k_interest/k01':'k_interest/k_participate/k05/ben_men'].info()"
   ]
  },
  {
   "cell_type": "code",
   "execution_count": 83,
   "metadata": {},
   "outputs": [],
   "source": [
    "df_interest = df.loc[:,['k_interest/k01', 'k_interest/k_participate/k02',\n",
    "       'k_interest/k_participate/k03', 'k_interest/k_participate/k04',\n",
    "       'k_interest/k_participate/k05']]"
   ]
  },
  {
   "cell_type": "code",
   "execution_count": 84,
   "metadata": {},
   "outputs": [
    {
     "name": "stdout",
     "output_type": "stream",
     "text": [
      "<class 'pandas.core.frame.DataFrame'>\n",
      "RangeIndex: 11260 entries, 0 to 11259\n",
      "Data columns (total 5 columns):\n",
      "k_interest/k01                  11260 non-null object\n",
      "k_interest/k_participate/k02    5137 non-null object\n",
      "k_interest/k_participate/k03    7306 non-null object\n",
      "k_interest/k_participate/k04    8926 non-null object\n",
      "k_interest/k_participate/k05    4000 non-null object\n",
      "dtypes: object(5)\n",
      "memory usage: 439.9+ KB\n"
     ]
    }
   ],
   "source": [
    "df_interest.info()"
   ]
  },
  {
   "cell_type": "code",
   "execution_count": 85,
   "metadata": {
    "scrolled": true
   },
   "outputs": [
    {
     "name": "stdout",
     "output_type": "stream",
     "text": [
      "<class 'pandas.core.frame.DataFrame'>\n",
      "Int64Index: 1311 entries, 5 to 11237\n",
      "Data columns (total 5 columns):\n",
      "k_interest/k01                  1311 non-null object\n",
      "k_interest/k_participate/k02    0 non-null object\n",
      "k_interest/k_participate/k03    0 non-null object\n",
      "k_interest/k_participate/k04    0 non-null object\n",
      "k_interest/k_participate/k05    0 non-null object\n",
      "dtypes: object(5)\n",
      "memory usage: 61.5+ KB\n"
     ]
    }
   ],
   "source": [
    "df_interest[df_interest['k_interest/k01']=='no'].info()"
   ]
  },
  {
   "cell_type": "code",
   "execution_count": 86,
   "metadata": {},
   "outputs": [],
   "source": [
    "# Rows with 'no'(people who doesn't want to participate in the program) \n",
    "# have NaN values in other columns as well. \n",
    "# Changing those 'Nan' to 'not_participating'. \n",
    "df_interest.loc[df_interest['k_interest/k01']=='no',:] = df_interest[df_interest['k_interest/k01']=='no'].fillna('not_participating')"
   ]
  },
  {
   "cell_type": "code",
   "execution_count": 87,
   "metadata": {},
   "outputs": [
    {
     "name": "stdout",
     "output_type": "stream",
     "text": [
      "<class 'pandas.core.frame.DataFrame'>\n",
      "RangeIndex: 11260 entries, 0 to 11259\n",
      "Data columns (total 5 columns):\n",
      "k_interest/k01                  11260 non-null object\n",
      "k_interest/k_participate/k02    6448 non-null object\n",
      "k_interest/k_participate/k03    8617 non-null object\n",
      "k_interest/k_participate/k04    10237 non-null object\n",
      "k_interest/k_participate/k05    5311 non-null object\n",
      "dtypes: object(5)\n",
      "memory usage: 439.9+ KB\n"
     ]
    }
   ],
   "source": [
    "df_interest.info()"
   ]
  },
  {
   "cell_type": "code",
   "execution_count": 88,
   "metadata": {},
   "outputs": [],
   "source": [
    "#Dealing with the rest of NaN values.\n",
    "#In many rows NaN values are only in some columns, \n",
    "#which means the interest of participation only in chosen activities. \n",
    "#I'll put 'not_interested' instead of 'NaN'. \n",
    "df_interest.fillna('not_interested', inplace = True)"
   ]
  },
  {
   "cell_type": "code",
   "execution_count": 89,
   "metadata": {},
   "outputs": [],
   "source": [
    "# renaming columns\n",
    "#df_interest_cleaned = df_interest_cleaned.rename(index=str, columns={'k_interest/k01': 'interested', 'k_interest/k_participate/k02': 'int_self_help_learning_groups', 'k_interest/k_participate/k03': 'int_literacy_trainings', 'k_interest/k_participate/k04': 'int_vocational_trainings', 'k_interest/k_participate/k05': 'int_community_led_micro_finance_banks'})"
   ]
  },
  {
   "cell_type": "code",
   "execution_count": 90,
   "metadata": {
    "scrolled": true
   },
   "outputs": [
    {
     "name": "stdout",
     "output_type": "stream",
     "text": [
      "<class 'pandas.core.frame.DataFrame'>\n",
      "RangeIndex: 11260 entries, 0 to 11259\n",
      "Data columns (total 5 columns):\n",
      "k_interest/k01                  11260 non-null object\n",
      "k_interest/k_participate/k02    11260 non-null object\n",
      "k_interest/k_participate/k03    11260 non-null object\n",
      "k_interest/k_participate/k04    11260 non-null object\n",
      "k_interest/k_participate/k05    11260 non-null object\n",
      "dtypes: object(5)\n",
      "memory usage: 439.9+ KB\n"
     ]
    }
   ],
   "source": [
    "df_interest.info()"
   ]
  },
  {
   "cell_type": "code",
   "execution_count": 91,
   "metadata": {},
   "outputs": [
    {
     "name": "stdout",
     "output_type": "stream",
     "text": [
      "k_interest/k01 ['yes', 'no']\n",
      "k_interest/k_participate/k02 ['ben_women ben_men', 'ben_women', 'not_participating', 'not_interested', 'ben_men']\n",
      "k_interest/k_participate/k03 ['ben_women ben_men', 'not_interested', 'not_participating', 'ben_women', 'ben_men']\n",
      "k_interest/k_participate/k04 ['ben_women ben_men', 'ben_women', 'not_participating', 'not_interested', 'ben_men']\n",
      "k_interest/k_participate/k05 ['ben_men', 'ben_women', 'ben_women ben_men', 'not_participating', 'not_interested']\n"
     ]
    }
   ],
   "source": [
    "#checking that everything looks good\n",
    "for column in df_interest.columns:\n",
    "    print(column, df_interest[column].unique().tolist())"
   ]
  },
  {
   "cell_type": "markdown",
   "metadata": {},
   "source": [
    "##### Joining all the data"
   ]
  },
  {
   "cell_type": "code",
   "execution_count": 92,
   "metadata": {},
   "outputs": [],
   "source": [
    "df_final = pd.concat([df_basics, df_origin, df_displacement, df_food, df_access, df_assets, df_adaptive, df_stereotypes, df_interest], axis = 1)"
   ]
  },
  {
   "cell_type": "code",
   "execution_count": 108,
   "metadata": {},
   "outputs": [
    {
     "name": "stdout",
     "output_type": "stream",
     "text": [
      "<class 'pandas.core.frame.DataFrame'>\n",
      "RangeIndex: 11260 entries, 0 to 11259\n",
      "Columns: 154 entries, City to k_interest/k_participate/k05\n",
      "dtypes: int64(35), object(119)\n",
      "memory usage: 13.2+ MB\n"
     ]
    }
   ],
   "source": [
    "df_final.info()"
   ]
  },
  {
   "cell_type": "code",
   "execution_count": 109,
   "metadata": {},
   "outputs": [],
   "source": [
    "df_final.to_csv('EWLI_baseline_data_cleaned.csv')"
   ]
  }
 ],
 "metadata": {
  "kernelspec": {
   "display_name": "Python 3",
   "language": "python",
   "name": "python3"
  },
  "language_info": {
   "codemirror_mode": {
    "name": "ipython",
    "version": 3
   },
   "file_extension": ".py",
   "mimetype": "text/x-python",
   "name": "python",
   "nbconvert_exporter": "python",
   "pygments_lexer": "ipython3",
   "version": "3.6.8"
  }
 },
 "nbformat": 4,
 "nbformat_minor": 2
}
